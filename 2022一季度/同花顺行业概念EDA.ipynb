{
 "cells": [
  {
   "cell_type": "markdown",
   "metadata": {},
   "source": [
    "# 同花顺概念行业板块EDA"
   ]
  },
  {
   "cell_type": "code",
   "execution_count": 1,
   "metadata": {},
   "outputs": [],
   "source": [
    "import pandas as pd\n",
    "import numpy as np\n",
    "#可视化：matplotlib、seaborn、plotly_express\n",
    "import matplotlib.pyplot as plt\n",
    "import seaborn as sns\n",
    "#正确显示中文和负号\n",
    "plt.rcParams['font.sans-serif']=['Arial Unicode MS']\n",
    "plt.rcParams['axes.unicode_minus'] = False\n",
    "sns.set_style({'font.sans-serif':['Arial Unicode MS', 'Arial']}) # use sns default theme and set font for Chinese\n",
    "#这里的pyecharts使用的是0.5.11版本\n",
    "# from pyecharts.charts import Bar,HeatMap\n",
    "import plotly.express as px\n",
    "#导入时间处理模块\n",
    "from dateutil.parser import parse\n",
    "from datetime import datetime,timedelta\n",
    "import time\n",
    "#pandas赋值老提升警告\n",
    "# import warnings\n",
    "# warnings.filterwarnings('ignore')\n",
    "#使用tushare pro获取数据，需要到官网注册获取相应的token\n",
    "import tushare as ts \n",
    "token='829a1fbce8eb0e34f05ab19906d0e08227c6f64261a81272aa078ccd'\n",
    "pro=ts.pro_api(token)"
   ]
  },
  {
   "cell_type": "code",
   "execution_count": 2,
   "metadata": {},
   "outputs": [
    {
     "data": {
      "text/html": [
       "<div>\n",
       "<style scoped>\n",
       "    .dataframe tbody tr th:only-of-type {\n",
       "        vertical-align: middle;\n",
       "    }\n",
       "\n",
       "    .dataframe tbody tr th {\n",
       "        vertical-align: top;\n",
       "    }\n",
       "\n",
       "    .dataframe thead th {\n",
       "        text-align: right;\n",
       "    }\n",
       "</style>\n",
       "<table border=\"1\" class=\"dataframe\">\n",
       "  <thead>\n",
       "    <tr style=\"text-align: right;\">\n",
       "      <th></th>\n",
       "      <th>ts_code</th>\n",
       "      <th>name</th>\n",
       "      <th>count</th>\n",
       "      <th>exchange</th>\n",
       "      <th>list_date</th>\n",
       "      <th>type</th>\n",
       "    </tr>\n",
       "  </thead>\n",
       "  <tbody>\n",
       "    <tr>\n",
       "      <th>0</th>\n",
       "      <td>864006.TI</td>\n",
       "      <td>固态电池</td>\n",
       "      <td>3.0</td>\n",
       "      <td>A</td>\n",
       "      <td>20200102</td>\n",
       "      <td>N</td>\n",
       "    </tr>\n",
       "    <tr>\n",
       "      <th>1</th>\n",
       "      <td>864007.TI</td>\n",
       "      <td>太阳能</td>\n",
       "      <td>16.0</td>\n",
       "      <td>A</td>\n",
       "      <td>20200102</td>\n",
       "      <td>N</td>\n",
       "    </tr>\n",
       "    <tr>\n",
       "      <th>2</th>\n",
       "      <td>864008.TI</td>\n",
       "      <td>激光雷达</td>\n",
       "      <td>3.0</td>\n",
       "      <td>A</td>\n",
       "      <td>20200102</td>\n",
       "      <td>N</td>\n",
       "    </tr>\n",
       "    <tr>\n",
       "      <th>3</th>\n",
       "      <td>864009.TI</td>\n",
       "      <td>CAR-T</td>\n",
       "      <td>12.0</td>\n",
       "      <td>A</td>\n",
       "      <td>20200102</td>\n",
       "      <td>N</td>\n",
       "    </tr>\n",
       "    <tr>\n",
       "      <th>4</th>\n",
       "      <td>864010.TI</td>\n",
       "      <td>NFT</td>\n",
       "      <td>18.0</td>\n",
       "      <td>A</td>\n",
       "      <td>20200102</td>\n",
       "      <td>N</td>\n",
       "    </tr>\n",
       "  </tbody>\n",
       "</table>\n",
       "</div>"
      ],
      "text/plain": [
       "     ts_code   name  count exchange list_date type\n",
       "0  864006.TI   固态电池    3.0        A  20200102    N\n",
       "1  864007.TI    太阳能   16.0        A  20200102    N\n",
       "2  864008.TI   激光雷达    3.0        A  20200102    N\n",
       "3  864009.TI  CAR-T   12.0        A  20200102    N\n",
       "4  864010.TI    NFT   18.0        A  20200102    N"
      ]
     },
     "execution_count": 2,
     "metadata": {},
     "output_type": "execute_result"
    }
   ],
   "source": [
    "# 获取同花顺概念和行业列表\n",
    "index_list = pro.ths_index()\n",
    "# 查看数据前几行\n",
    "index_list.head()"
   ]
  },
  {
   "cell_type": "code",
   "execution_count": 3,
   "metadata": {},
   "outputs": [
    {
     "data": {
      "text/html": [
       "<div>\n",
       "<style scoped>\n",
       "    .dataframe tbody tr th:only-of-type {\n",
       "        vertical-align: middle;\n",
       "    }\n",
       "\n",
       "    .dataframe tbody tr th {\n",
       "        vertical-align: top;\n",
       "    }\n",
       "\n",
       "    .dataframe thead th {\n",
       "        text-align: right;\n",
       "    }\n",
       "</style>\n",
       "<table border=\"1\" class=\"dataframe\">\n",
       "  <thead>\n",
       "    <tr style=\"text-align: right;\">\n",
       "      <th></th>\n",
       "      <th>ts_code</th>\n",
       "      <th>name</th>\n",
       "      <th>count</th>\n",
       "      <th>exchange</th>\n",
       "      <th>list_date</th>\n",
       "      <th>type</th>\n",
       "    </tr>\n",
       "  </thead>\n",
       "  <tbody>\n",
       "    <tr>\n",
       "      <th>0</th>\n",
       "      <td>885866.TI</td>\n",
       "      <td>数字货币</td>\n",
       "      <td>57</td>\n",
       "      <td>A</td>\n",
       "      <td>20190918</td>\n",
       "      <td>N</td>\n",
       "    </tr>\n",
       "  </tbody>\n",
       "</table>\n",
       "</div>"
      ],
      "text/plain": [
       "     ts_code  name  count exchange list_date type\n",
       "0  885866.TI  数字货币     57        A  20190918    N"
      ]
     },
     "execution_count": 3,
     "metadata": {},
     "output_type": "execute_result"
    }
   ],
   "source": [
    "pro.ths_index(ts_code='885866.TI')"
   ]
  },
  {
   "cell_type": "code",
   "execution_count": 4,
   "metadata": {},
   "outputs": [
    {
     "data": {
      "text/html": [
       "<div>\n",
       "<style scoped>\n",
       "    .dataframe tbody tr th:only-of-type {\n",
       "        vertical-align: middle;\n",
       "    }\n",
       "\n",
       "    .dataframe tbody tr th {\n",
       "        vertical-align: top;\n",
       "    }\n",
       "\n",
       "    .dataframe thead th {\n",
       "        text-align: right;\n",
       "    }\n",
       "</style>\n",
       "<table border=\"1\" class=\"dataframe\">\n",
       "  <thead>\n",
       "    <tr style=\"text-align: right;\">\n",
       "      <th></th>\n",
       "      <th>exchange</th>\n",
       "      <th>name</th>\n",
       "    </tr>\n",
       "  </thead>\n",
       "  <tbody>\n",
       "    <tr>\n",
       "      <th>0</th>\n",
       "      <td>A</td>\n",
       "      <td>953</td>\n",
       "    </tr>\n",
       "    <tr>\n",
       "      <th>1</th>\n",
       "      <td>HK</td>\n",
       "      <td>589</td>\n",
       "    </tr>\n",
       "    <tr>\n",
       "      <th>2</th>\n",
       "      <td>US</td>\n",
       "      <td>644</td>\n",
       "    </tr>\n",
       "  </tbody>\n",
       "</table>\n",
       "</div>"
      ],
      "text/plain": [
       "  exchange  name\n",
       "0        A   953\n",
       "1       HK   589\n",
       "2       US   644"
      ]
     },
     "execution_count": 4,
     "metadata": {},
     "output_type": "execute_result"
    }
   ],
   "source": [
    "df = index_list.groupby('exchange')['name'].count()\n",
    "df_1 = df.reset_index()\n",
    "df_1"
   ]
  },
  {
   "cell_type": "code",
   "execution_count": 5,
   "metadata": {},
   "outputs": [
    {
     "data": {
      "text/plain": [
       "Text(0.5, 1.0, '同花顺概念和行业指数\\n A股/HK/US')"
      ]
     },
     "execution_count": 5,
     "metadata": {},
     "output_type": "execute_result"
    },
    {
     "data": {
      "image/png": "[encoded data removed]",
      "image/svg+xml": "<?xml version=\"1.0\" encoding=\"utf-8\" standalone=\"no\"?>\n<!DOCTYPE svg PUBLIC \"-//W3C//DTD SVG 1.1//EN\"\n  \"http://www.w3.org/Graphics/SVG/1.1/DTD/svg11.dtd\">\n<svg xmlns:xlink=\"http://www.w3.org/1999/xlink\" width=\"391.59375pt\" height=\"288.611937pt\" viewBox=\"0 0 391.59375 288.611937\" xmlns=\"http://www.w3.org/2000/svg\" version=\"1.1\">\n <metadata>\n  <rdf:RDF xmlns:dc=\"http://purl.org/dc/elements/1.1/\" xmlns:cc=\"http://creativecommons.org/ns#\" xmlns:rdf=\"http://www.w3.org/1999/02/22-rdf-syntax-ns#\">\n   <cc:Work>\n    <dc:type rdf:resource=\"http://purl.org/dc/dcmitype/StillImage\"/>\n    <dc:date>2022-03-04T21:14:26.945529</dc:date>\n    <dc:format>image/svg+xml</dc:format>\n    <dc:creator>\n     <cc:Agent>\n      <dc:title>Matplotlib v3.5.1, https://matplotlib.org/</dc:title>\n     </cc:Agent>\n    </dc:creator>\n   </cc:Work>\n  </rdf:RDF>\n </metadata>\n <defs>\n  <style type=\"text/css\">*{stroke-linejoin: round; stroke-linecap: butt}</style>\n </defs>\n <g id=\"figure_1\">\n  <g id=\"patch_1\">\n   <path d=\"M 0 288.611937 \nL 391.59375 288.611937 \nL 391.59375 0 \nL 0 0 \nL 0 288.611937 \nz\n\" style=\"fill: none\"/>\n  </g>\n  <g id=\"axes_1\">\n   <g id=\"patch_2\">\n    <path d=\"M 49.59375 252.004125 \nL 384.39375 252.004125 \nL 384.39375 34.564125 \nL 49.59375 34.564125 \nz\n\" style=\"fill: #ffffff\"/>\n   </g>\n   <g id=\"patch_3\">\n    <path d=\"M 60.75375 252.004125 \nL 150.03375 252.004125 \nL 150.03375 44.918411 \nL 60.75375 44.918411 \nz\n\" clip-path=\"url(#pc54c90482b)\" style=\"fill: #3274a1\"/>\n   </g>\n   <g id=\"patch_4\">\n    <path d=\"M 172.35375 252.004125 \nL 261.63375 252.004125 \nL 261.63375 124.015158 \nL 172.35375 124.015158 \nz\n\" clip-path=\"url(#pc54c90482b)\" style=\"fill: #e1812c\"/>\n   </g>\n   <g id=\"patch_5\">\n    <path d=\"M 283.95375 252.004125 \nL 373.23375 252.004125 \nL 373.23375 112.063726 \nL 283.95375 112.063726 \nz\n\" clip-path=\"url(#pc54c90482b)\" style=\"fill: #3a923a\"/>\n   </g>\n   <g id=\"matplotlib.axis_1\">\n    <g id=\"xtick_1\">\n     <g id=\"line2d_1\">\n      <defs>\n       <path id=\"me08c6871b2\" d=\"M 0 0 \nL 0 3.5 \n\" style=\"stroke: #000000; stroke-width: 0.8\"/>\n      </defs>\n      <g>\n       <use xlink:href=\"#me08c6871b2\" x=\"105.39375\" y=\"252.004125\" style=\"stroke: #000000; stroke-width: 0.8\"/>\n      </g>\n     </g>\n     <g id=\"text_1\">\n      <!-- A -->\n      <g transform=\"translate(102.058594 266.161937)scale(0.1 -0.1)\">\n       <defs>\n        <path id=\"ArialUnicodeMS-41\" d=\"M 4275 0 \nL 3591 0 \nL 3053 1394 \nL 1141 1394 \nL 634 0 \nL -6 0 \nL 1753 4581 \nL 2406 4581 \nL 4275 0 \nz\nM 2869 1875 \nQ 2306 3363 2234 3564 \nQ 2163 3766 2075 4103 \nL 2059 4103 \nQ 1972 3641 1825 3247 \nL 1313 1875 \nL 2869 1875 \nz\n\" transform=\"scale(0.015625)\"/>\n       </defs>\n       <use xlink:href=\"#ArialUnicodeMS-41\"/>\n      </g>\n     </g>\n    </g>\n    <g id=\"xtick_2\">\n     <g id=\"line2d_2\">\n      <g>\n       <use xlink:href=\"#me08c6871b2\" x=\"216.99375\" y=\"252.004125\" style=\"stroke: #000000; stroke-width: 0.8\"/>\n      </g>\n     </g>\n     <g id=\"text_2\">\n      <!-- HK -->\n      <g transform=\"translate(210.047656 266.161937)scale(0.1 -0.1)\">\n       <defs>\n        <path id=\"ArialUnicodeMS-48\" d=\"M 4109 0 \nL 3500 0 \nL 3500 2156 \nL 1119 2156 \nL 1119 0 \nL 513 0 \nL 513 4581 \nL 1119 4581 \nL 1119 2700 \nL 3500 2700 \nL 3500 4581 \nL 4109 4581 \nL 4109 0 \nz\n\" transform=\"scale(0.015625)\"/>\n        <path id=\"ArialUnicodeMS-4b\" d=\"M 4256 0 \nL 3456 0 \nL 1831 2316 \nL 1075 1588 \nL 1075 0 \nL 469 0 \nL 469 4581 \nL 1075 4581 \nL 1075 2309 \nL 3353 4581 \nL 4172 4581 \nL 2253 2725 \nL 4256 0 \nz\n\" transform=\"scale(0.015625)\"/>\n       </defs>\n       <use xlink:href=\"#ArialUnicodeMS-48\"/>\n       <use xlink:href=\"#ArialUnicodeMS-4b\" x=\"72.216797\"/>\n      </g>\n     </g>\n    </g>\n    <g id=\"xtick_3\">\n     <g id=\"line2d_3\">\n      <g>\n       <use xlink:href=\"#me08c6871b2\" x=\"328.59375\" y=\"252.004125\" style=\"stroke: #000000; stroke-width: 0.8\"/>\n      </g>\n     </g>\n     <g id=\"text_3\">\n      <!-- US -->\n      <g transform=\"translate(321.647656 266.161937)scale(0.1 -0.1)\">\n       <defs>\n        <path id=\"ArialUnicodeMS-55\" d=\"M 4109 1931 \nQ 4109 1578 4070 1278 \nQ 4031 978 3864 661 \nQ 3697 344 3320 133 \nQ 2944 -78 2316 -78 \nQ 1703 -78 1328 109 \nQ 953 297 778 594 \nQ 603 891 554 1212 \nQ 506 1534 506 1931 \nL 506 4581 \nL 1113 4581 \nL 1113 1941 \nQ 1113 1528 1172 1229 \nQ 1231 931 1484 700 \nQ 1738 469 2266 469 \nQ 2800 469 3069 653 \nQ 3338 838 3419 1145 \nQ 3500 1453 3500 1941 \nL 3500 4581 \nL 4109 4581 \nL 4109 1931 \nz\n\" transform=\"scale(0.015625)\"/>\n        <path id=\"ArialUnicodeMS-53\" d=\"M 3213 3238 \nQ 3175 3675 2897 3895 \nQ 2619 4116 2100 4116 \nQ 1631 4116 1337 3941 \nQ 1044 3766 1044 3431 \nQ 1044 3134 1270 2989 \nQ 1497 2844 2138 2700 \nQ 2706 2575 3065 2444 \nQ 3425 2313 3681 2036 \nQ 3938 1759 3938 1294 \nQ 3938 703 3467 312 \nQ 2997 -78 2241 -78 \nQ 1275 -78 795 353 \nQ 316 784 288 1472 \nL 863 1522 \nQ 903 972 1287 720 \nQ 1672 469 2216 469 \nQ 2725 469 3039 678 \nQ 3353 888 3353 1247 \nQ 3353 1622 3025 1794 \nQ 2697 1966 1923 2133 \nQ 1150 2300 809 2603 \nQ 469 2906 469 3391 \nQ 469 3941 900 4300 \nQ 1331 4659 2075 4659 \nQ 2838 4659 3302 4301 \nQ 3766 3944 3794 3284 \nL 3213 3238 \nz\n\" transform=\"scale(0.015625)\"/>\n       </defs>\n       <use xlink:href=\"#ArialUnicodeMS-55\"/>\n       <use xlink:href=\"#ArialUnicodeMS-53\" x=\"72.216797\"/>\n      </g>\n     </g>\n    </g>\n    <g id=\"text_4\">\n     <!-- exchange -->\n     <g transform=\"translate(195.310937 279.311937)scale(0.1 -0.1)\">\n      <defs>\n       <path id=\"ArialUnicodeMS-65\" d=\"M 3309 1516 \nL 825 1516 \nQ 859 966 1139 675 \nQ 1419 384 1838 384 \nQ 2159 384 2378 554 \nQ 2597 725 2713 1069 \nL 3291 997 \nQ 3150 478 2775 200 \nQ 2400 -78 1838 -78 \nQ 1091 -78 670 380 \nQ 250 838 250 1631 \nQ 250 2416 658 2903 \nQ 1066 3391 1806 3391 \nQ 2169 3391 2505 3231 \nQ 2841 3072 3075 2689 \nQ 3309 2306 3309 1516 \nz\nM 2731 1978 \nQ 2697 2484 2417 2707 \nQ 2138 2931 1806 2931 \nQ 1409 2931 1153 2665 \nQ 897 2400 856 1978 \nL 2731 1978 \nz\n\" transform=\"scale(0.015625)\"/>\n       <path id=\"ArialUnicodeMS-78\" d=\"M 3156 0 \nL 2463 0 \nL 1600 1313 \nL 728 0 \nL 44 0 \nL 1259 1728 \nL 141 3316 \nL 838 3316 \nQ 1519 2288 1581 2169 \nL 2394 3316 \nL 3066 3316 \nL 1919 1759 \nL 3156 0 \nz\n\" transform=\"scale(0.015625)\"/>\n       <path id=\"ArialUnicodeMS-63\" d=\"M 3144 1147 \nQ 3034 513 2643 217 \nQ 2253 -78 1759 -78 \nQ 1038 -78 644 395 \nQ 250 869 250 1650 \nQ 250 2297 476 2686 \nQ 703 3075 1043 3233 \nQ 1384 3391 1759 3391 \nQ 2272 3391 2636 3125 \nQ 3000 2859 3084 2344 \nL 2541 2259 \nQ 2456 2594 2267 2762 \nQ 2078 2931 1784 2931 \nQ 1313 2931 1069 2597 \nQ 825 2263 825 1663 \nQ 825 1050 1064 717 \nQ 1303 384 1753 384 \nQ 2116 384 2323 592 \nQ 2531 800 2584 1216 \nL 3144 1147 \nz\n\" transform=\"scale(0.015625)\"/>\n       <path id=\"ArialUnicodeMS-68\" d=\"M 3138 0 \nL 2572 0 \nL 2572 2094 \nQ 2572 2500 2397 2703 \nQ 2222 2906 1875 2906 \nQ 1531 2906 1261 2667 \nQ 991 2428 991 1813 \nL 991 0 \nL 428 0 \nL 428 4581 \nL 991 4581 \nL 991 2938 \nQ 1391 3391 1991 3391 \nQ 2313 3391 2606 3259 \nQ 2900 3128 3019 2856 \nQ 3138 2584 3138 2100 \nL 3138 0 \nz\n\" transform=\"scale(0.015625)\"/>\n       <path id=\"ArialUnicodeMS-61\" d=\"M 3303 0 \nL 2713 0 \nQ 2631 156 2597 409 \nQ 2031 -78 1375 -78 \nQ 850 -78 547 184 \nQ 244 447 244 878 \nQ 244 1291 536 1558 \nQ 828 1825 1550 1913 \nL 2075 1991 \nQ 2369 2038 2559 2106 \nQ 2559 2359 2543 2464 \nQ 2528 2569 2451 2681 \nQ 2375 2794 2206 2862 \nQ 2038 2931 1753 2931 \nQ 1391 2931 1180 2797 \nQ 969 2663 891 2297 \nL 341 2369 \nQ 431 2878 806 3134 \nQ 1181 3391 1838 3391 \nQ 2434 3391 2714 3214 \nQ 2994 3038 3058 2788 \nQ 3122 2538 3122 2144 \nL 3122 1388 \nQ 3122 697 3148 461 \nQ 3175 225 3303 0 \nz\nM 2559 1459 \nL 2559 1663 \nQ 2119 1516 1481 1430 \nQ 844 1344 844 891 \nQ 844 663 1016 514 \nQ 1188 366 1509 366 \nQ 1925 366 2242 614 \nQ 2559 863 2559 1459 \nz\n\" transform=\"scale(0.015625)\"/>\n       <path id=\"ArialUnicodeMS-6e\" d=\"M 3138 0 \nL 2572 0 \nL 2572 2016 \nQ 2572 2525 2389 2715 \nQ 2206 2906 1881 2906 \nQ 1631 2906 1407 2784 \nQ 1184 2663 1090 2441 \nQ 997 2219 997 1813 \nL 997 0 \nL 434 0 \nL 434 3316 \nL 941 3316 \nL 941 2847 \nL 953 2847 \nQ 1131 3119 1392 3255 \nQ 1653 3391 1997 3391 \nQ 2259 3391 2515 3297 \nQ 2772 3203 2917 3015 \nQ 3063 2828 3100 2615 \nQ 3138 2403 3138 2041 \nL 3138 0 \nz\n\" transform=\"scale(0.015625)\"/>\n       <path id=\"ArialUnicodeMS-67\" d=\"M 3144 447 \nQ 3144 -259 3003 -607 \nQ 2863 -956 2503 -1150 \nQ 2144 -1344 1644 -1344 \nQ 1081 -1344 706 -1094 \nQ 331 -844 331 -275 \nL 878 -359 \nQ 909 -622 1098 -753 \nQ 1288 -884 1638 -884 \nQ 2075 -884 2278 -706 \nQ 2481 -528 2526 -272 \nQ 2572 -16 2572 434 \nQ 2206 0 1650 0 \nQ 1003 0 611 478 \nQ 219 956 219 1684 \nQ 219 2416 600 2903 \nQ 981 3391 1656 3391 \nQ 2244 3391 2613 2919 \nL 2625 2919 \nL 2625 3316 \nL 3144 3316 \nL 3144 447 \nz\nM 1703 459 \nQ 2063 459 2341 745 \nQ 2619 1031 2619 1703 \nQ 2619 2297 2353 2614 \nQ 2088 2931 1697 2931 \nQ 1297 2931 1045 2606 \nQ 794 2281 794 1716 \nQ 794 1063 1058 761 \nQ 1322 459 1703 459 \nz\n\" transform=\"scale(0.015625)\"/>\n      </defs>\n      <use xlink:href=\"#ArialUnicodeMS-65\"/>\n      <use xlink:href=\"#ArialUnicodeMS-78\" x=\"55.615234\"/>\n      <use xlink:href=\"#ArialUnicodeMS-63\" x=\"105.615234\"/>\n      <use xlink:href=\"#ArialUnicodeMS-68\" x=\"155.615234\"/>\n      <use xlink:href=\"#ArialUnicodeMS-61\" x=\"211.230469\"/>\n      <use xlink:href=\"#ArialUnicodeMS-6e\" x=\"266.845703\"/>\n      <use xlink:href=\"#ArialUnicodeMS-67\" x=\"322.460938\"/>\n      <use xlink:href=\"#ArialUnicodeMS-65\" x=\"378.076172\"/>\n     </g>\n    </g>\n   </g>\n   <g id=\"matplotlib.axis_2\">\n    <g id=\"ytick_1\">\n     <g id=\"line2d_4\">\n      <defs>\n       <path id=\"m546d54725c\" d=\"M 0 0 \nL -3.5 0 \n\" style=\"stroke: #000000; stroke-width: 0.8\"/>\n      </defs>\n      <g>\n       <use xlink:href=\"#m546d54725c\" x=\"49.59375\" y=\"252.004125\" style=\"stroke: #000000; stroke-width: 0.8\"/>\n      </g>\n     </g>\n     <g id=\"text_5\">\n      <!-- 0 -->\n      <g transform=\"translate(37.032812 255.583031)scale(0.1 -0.1)\">\n       <defs>\n        <path id=\"ArialUnicodeMS-30\" d=\"M 1778 4603 \nQ 3272 4603 3272 2259 \nQ 3272 1075 2886 498 \nQ 2500 -78 1778 -78 \nQ 288 -78 288 2259 \nQ 288 3444 673 4023 \nQ 1059 4603 1778 4603 \nz\nM 1778 384 \nQ 2231 384 2462 823 \nQ 2694 1263 2694 2259 \nQ 2694 2953 2592 3351 \nQ 2491 3750 2286 3945 \nQ 2081 4141 1772 4141 \nQ 1319 4141 1091 3694 \nQ 863 3247 863 2259 \nQ 863 1575 966 1175 \nQ 1069 775 1272 579 \nQ 1475 384 1778 384 \nz\n\" transform=\"scale(0.015625)\"/>\n       </defs>\n       <use xlink:href=\"#ArialUnicodeMS-30\"/>\n      </g>\n     </g>\n    </g>\n    <g id=\"ytick_2\">\n     <g id=\"line2d_5\">\n      <g>\n       <use xlink:href=\"#m546d54725c\" x=\"49.59375\" y=\"208.544374\" style=\"stroke: #000000; stroke-width: 0.8\"/>\n      </g>\n     </g>\n     <g id=\"text_6\">\n      <!-- 200 -->\n      <g transform=\"translate(25.910937 212.12328)scale(0.1 -0.1)\">\n       <defs>\n        <path id=\"ArialUnicodeMS-32\" d=\"M 3231 0 \nL 197 0 \nQ 197 388 467 784 \nQ 738 1181 1478 1778 \nQ 1931 2141 2287 2539 \nQ 2644 2938 2644 3341 \nQ 2644 3688 2398 3914 \nQ 2153 4141 1778 4141 \nQ 1400 4141 1144 3908 \nQ 888 3675 884 3213 \nL 306 3278 \nQ 359 3922 764 4262 \nQ 1169 4603 1791 4603 \nQ 2466 4603 2842 4229 \nQ 3219 3856 3219 3328 \nQ 3219 2888 2901 2436 \nQ 2584 1984 1638 1228 \nQ 1141 831 978 544 \nL 3231 544 \nL 3231 0 \nz\n\" transform=\"scale(0.015625)\"/>\n       </defs>\n       <use xlink:href=\"#ArialUnicodeMS-32\"/>\n       <use xlink:href=\"#ArialUnicodeMS-30\" x=\"55.615234\"/>\n       <use xlink:href=\"#ArialUnicodeMS-30\" x=\"111.230469\"/>\n      </g>\n     </g>\n    </g>\n    <g id=\"ytick_3\">\n     <g id=\"line2d_6\">\n      <g>\n       <use xlink:href=\"#m546d54725c\" x=\"49.59375\" y=\"165.084623\" style=\"stroke: #000000; stroke-width: 0.8\"/>\n      </g>\n     </g>\n     <g id=\"text_7\">\n      <!-- 400 -->\n      <g transform=\"translate(25.910937 168.663529)scale(0.1 -0.1)\">\n       <defs>\n        <path id=\"ArialUnicodeMS-34\" d=\"M 3263 1094 \nL 2644 1094 \nL 2644 0 \nL 2081 0 \nL 2081 1094 \nL 97 1094 \nL 97 1613 \nL 2181 4581 \nL 2644 4581 \nL 2644 1613 \nL 3263 1613 \nL 3263 1094 \nz\nM 2081 1613 \nL 2081 3681 \nL 2069 3681 \nL 647 1613 \nL 2081 1613 \nz\n\" transform=\"scale(0.015625)\"/>\n       </defs>\n       <use xlink:href=\"#ArialUnicodeMS-34\"/>\n       <use xlink:href=\"#ArialUnicodeMS-30\" x=\"55.615234\"/>\n       <use xlink:href=\"#ArialUnicodeMS-30\" x=\"111.230469\"/>\n      </g>\n     </g>\n    </g>\n    <g id=\"ytick_4\">\n     <g id=\"line2d_7\">\n      <g>\n       <use xlink:href=\"#m546d54725c\" x=\"49.59375\" y=\"121.624872\" style=\"stroke: #000000; stroke-width: 0.8\"/>\n      </g>\n     </g>\n     <g id=\"text_8\">\n      <!-- 600 -->\n      <g transform=\"translate(25.910937 125.203778)scale(0.1 -0.1)\">\n       <defs>\n        <path id=\"ArialUnicodeMS-36\" d=\"M 838 2363 \nQ 1225 2969 1941 2969 \nQ 2503 2969 2897 2553 \nQ 3291 2138 3291 1491 \nQ 3291 838 2898 380 \nQ 2506 -78 1856 -78 \nQ 1197 -78 733 409 \nQ 269 897 269 2144 \nQ 269 3369 689 3986 \nQ 1109 4603 1906 4603 \nQ 2422 4603 2778 4315 \nQ 3134 4028 3213 3463 \nL 2650 3413 \nQ 2497 4141 1875 4141 \nQ 1444 4141 1134 3712 \nQ 825 3284 825 2363 \nL 838 2363 \nz\nM 1844 384 \nQ 2231 384 2472 696 \nQ 2713 1009 2713 1453 \nQ 2713 1897 2472 2187 \nQ 2231 2478 1825 2478 \nQ 1453 2478 1184 2204 \nQ 916 1931 916 1484 \nQ 916 1028 1180 706 \nQ 1444 384 1844 384 \nz\n\" transform=\"scale(0.015625)\"/>\n       </defs>\n       <use xlink:href=\"#ArialUnicodeMS-36\"/>\n       <use xlink:href=\"#ArialUnicodeMS-30\" x=\"55.615234\"/>\n       <use xlink:href=\"#ArialUnicodeMS-30\" x=\"111.230469\"/>\n      </g>\n     </g>\n    </g>\n    <g id=\"ytick_5\">\n     <g id=\"line2d_8\">\n      <g>\n       <use xlink:href=\"#m546d54725c\" x=\"49.59375\" y=\"78.16512\" style=\"stroke: #000000; stroke-width: 0.8\"/>\n      </g>\n     </g>\n     <g id=\"text_9\">\n      <!-- 800 -->\n      <g transform=\"translate(25.910937 81.744027)scale(0.1 -0.1)\">\n       <defs>\n        <path id=\"ArialUnicodeMS-38\" d=\"M 2425 2478 \nQ 3284 2203 3284 1306 \nQ 3284 716 2862 319 \nQ 2441 -78 1778 -78 \nQ 1109 -78 689 322 \nQ 269 722 269 1325 \nQ 269 1759 505 2084 \nQ 741 2409 1141 2478 \nL 1141 2491 \nQ 453 2703 453 3419 \nQ 453 3925 815 4264 \nQ 1178 4603 1766 4603 \nQ 2363 4603 2730 4253 \nQ 3097 3903 3097 3406 \nQ 3097 2731 2425 2491 \nL 2425 2478 \nz\nM 1778 2700 \nQ 2094 2700 2308 2901 \nQ 2522 3103 2522 3406 \nQ 2522 3716 2305 3928 \nQ 2088 4141 1772 4141 \nQ 1450 4141 1240 3931 \nQ 1031 3722 1031 3438 \nQ 1031 3097 1247 2898 \nQ 1463 2700 1778 2700 \nz\nM 1778 384 \nQ 2175 384 2440 640 \nQ 2706 897 2706 1306 \nQ 2706 1716 2432 1978 \nQ 2159 2241 1766 2241 \nQ 1356 2241 1100 1970 \nQ 844 1700 844 1319 \nQ 844 922 1108 653 \nQ 1372 384 1778 384 \nz\n\" transform=\"scale(0.015625)\"/>\n       </defs>\n       <use xlink:href=\"#ArialUnicodeMS-38\"/>\n       <use xlink:href=\"#ArialUnicodeMS-30\" x=\"55.615234\"/>\n       <use xlink:href=\"#ArialUnicodeMS-30\" x=\"111.230469\"/>\n      </g>\n     </g>\n    </g>\n    <g id=\"ytick_6\">\n     <g id=\"line2d_9\">\n      <g>\n       <use xlink:href=\"#m546d54725c\" x=\"49.59375\" y=\"34.705369\" style=\"stroke: #000000; stroke-width: 0.8\"/>\n      </g>\n     </g>\n     <g id=\"text_10\">\n      <!-- 1000 -->\n      <g transform=\"translate(20.35 38.284275)scale(0.1 -0.1)\">\n       <defs>\n        <path id=\"ArialUnicodeMS-31\" d=\"M 2400 0 \nL 1838 0 \nL 1838 3584 \nQ 1416 3184 709 2906 \nL 709 3450 \nQ 1681 3916 2034 4603 \nL 2400 4603 \nL 2400 0 \nz\n\" transform=\"scale(0.015625)\"/>\n       </defs>\n       <use xlink:href=\"#ArialUnicodeMS-31\"/>\n       <use xlink:href=\"#ArialUnicodeMS-30\" x=\"55.615234\"/>\n       <use xlink:href=\"#ArialUnicodeMS-30\" x=\"111.230469\"/>\n       <use xlink:href=\"#ArialUnicodeMS-30\" x=\"166.845703\"/>\n      </g>\n     </g>\n    </g>\n    <g id=\"text_11\">\n     <!-- name -->\n     <g transform=\"translate(14.357812 155.790375)rotate(-90)scale(0.1 -0.1)\">\n      <defs>\n       <path id=\"ArialUnicodeMS-6d\" d=\"M 4922 0 \nL 4359 0 \nL 4359 2094 \nQ 4359 2325 4328 2489 \nQ 4297 2653 4167 2779 \nQ 4038 2906 3763 2906 \nQ 3431 2906 3190 2675 \nQ 2950 2444 2950 1925 \nL 2950 0 \nL 2388 0 \nL 2388 2156 \nQ 2388 2588 2236 2747 \nQ 2084 2906 1806 2906 \nQ 1444 2906 1211 2656 \nQ 978 2406 978 1722 \nL 978 0 \nL 416 0 \nL 416 3316 \nL 922 3316 \nL 922 2853 \nL 934 2853 \nQ 1272 3391 1925 3391 \nQ 2291 3391 2527 3245 \nQ 2763 3100 2869 2809 \nQ 3238 3391 3891 3391 \nQ 4406 3391 4664 3112 \nQ 4922 2834 4922 2278 \nL 4922 0 \nz\n\" transform=\"scale(0.015625)\"/>\n      </defs>\n      <use xlink:href=\"#ArialUnicodeMS-6e\"/>\n      <use xlink:href=\"#ArialUnicodeMS-61\" x=\"55.615234\"/>\n      <use xlink:href=\"#ArialUnicodeMS-6d\" x=\"111.230469\"/>\n      <use xlink:href=\"#ArialUnicodeMS-65\" x=\"194.53125\"/>\n     </g>\n    </g>\n   </g>\n   <g id=\"line2d_10\">\n    <path clip-path=\"url(#pc54c90482b)\" style=\"fill: none; stroke: #424242; stroke-width: 2.7; stroke-linecap: square\"/>\n   </g>\n   <g id=\"line2d_11\">\n    <path clip-path=\"url(#pc54c90482b)\" style=\"fill: none; stroke: #424242; stroke-width: 2.7; stroke-linecap: square\"/>\n   </g>\n   <g id=\"line2d_12\">\n    <path clip-path=\"url(#pc54c90482b)\" style=\"fill: none; stroke: #424242; stroke-width: 2.7; stroke-linecap: square\"/>\n   </g>\n   <g id=\"patch_6\">\n    <path d=\"M 49.59375 252.004125 \nL 49.59375 34.564125 \n\" style=\"fill: none; stroke: #000000; stroke-width: 0.8; stroke-linejoin: miter; stroke-linecap: square\"/>\n   </g>\n   <g id=\"patch_7\">\n    <path d=\"M 384.39375 252.004125 \nL 384.39375 34.564125 \n\" style=\"fill: none; stroke: #000000; stroke-width: 0.8; stroke-linejoin: miter; stroke-linecap: square\"/>\n   </g>\n   <g id=\"patch_8\">\n    <path d=\"M 49.59375 252.004125 \nL 384.39375 252.004125 \n\" style=\"fill: none; stroke: #000000; stroke-width: 0.8; stroke-linejoin: miter; stroke-linecap: square\"/>\n   </g>\n   <g id=\"patch_9\">\n    <path d=\"M 49.59375 34.564125 \nL 384.39375 34.564125 \n\" style=\"fill: none; stroke: #000000; stroke-width: 0.8; stroke-linejoin: miter; stroke-linecap: square\"/>\n   </g>\n   <g id=\"text_12\">\n    <!-- 同花顺概念和行业指数 -->\n    <g transform=\"translate(156.99375 15.86625)scale(0.12 -0.12)\">\n     <defs>\n      <path id=\"ArialUnicodeMS-540c\" d=\"M 5644 441 \nQ 5644 13 5467 -157 \nQ 5291 -328 4663 -328 \nQ 4519 -328 4347 -319 \nL 4172 206 \nQ 4822 206 4981 250 \nQ 5141 294 5141 544 \nL 5141 4569 \nL 1259 4569 \nL 1259 -481 \nL 756 -481 \nL 756 5038 \nL 5644 5038 \nL 5644 441 \nz\nM 4941 3406 \nL 1569 3406 \nL 1569 3872 \nL 4941 3872 \nL 4941 3406 \nz\nM 4422 781 \nL 1984 781 \nL 1984 2700 \nL 4422 2700 \nL 4422 781 \nz\nM 3938 1247 \nL 3938 2234 \nL 2472 2234 \nL 2472 1247 \nL 3938 1247 \nz\n\" transform=\"scale(0.015625)\"/>\n      <path id=\"ArialUnicodeMS-82b1\" d=\"M 5838 3994 \nL 4531 3994 \nL 4531 3200 \nL 4044 3200 \nL 4044 3994 \nL 2181 3994 \nL 2181 3303 \nL 1697 3303 \nL 1697 3994 \nL 391 3994 \nL 391 4453 \nL 1697 4453 \nL 1697 5288 \nL 2181 5288 \nL 2181 4453 \nL 4044 4453 \nL 4044 5288 \nL 4531 5288 \nL 4531 4453 \nL 5838 4453 \nL 5838 3994 \nz\nM 2797 3263 \nQ 2594 2903 2009 2181 \nL 2009 -441 \nL 1522 -441 \nL 1522 1728 \nQ 1209 1400 609 1013 \nL 313 1422 \nQ 1734 2309 2394 3541 \nL 2797 3263 \nz\nM 5978 1178 \nQ 5919 494 5791 115 \nQ 5663 -263 5259 -263 \nL 3847 -263 \nQ 3597 -263 3453 -111 \nQ 3309 41 3309 294 \nL 3309 3316 \nL 3794 3316 \nL 3794 1759 \nQ 4775 2519 5166 3156 \nL 5516 2822 \nQ 4884 1931 3794 1166 \nL 3794 341 \nQ 3822 197 3928 197 \nL 5100 197 \nQ 5272 175 5355 397 \nQ 5438 619 5478 1388 \nL 5978 1178 \nz\n\" transform=\"scale(0.015625)\"/>\n      <path id=\"ArialUnicodeMS-987a\" d=\"M 2809 128 \nL 2350 128 \nL 2350 5259 \nL 2809 5259 \nL 2809 128 \nz\nM 1131 1125 \nQ 1131 800 978 364 \nQ 825 -72 569 -391 \nL 159 -84 \nQ 647 466 647 1281 \nL 647 5259 \nL 1131 5259 \nL 1131 1125 \nz\nM 5900 4603 \nL 4622 4603 \nQ 4569 4200 4475 3988 \nL 5656 3988 \nL 5656 972 \nL 5197 972 \nL 5197 3519 \nL 3653 3519 \nL 3653 972 \nL 3194 972 \nL 3194 3988 \nL 3969 3988 \nQ 4075 4184 4147 4603 \nL 3028 4603 \nL 3028 5069 \nL 5900 5069 \nL 5900 4603 \nz\nM 1959 500 \nL 1497 500 \nL 1497 4728 \nL 1959 4728 \nL 1959 500 \nz\nM 4628 1863 \nQ 4628 1141 4204 569 \nQ 3781 -3 3238 -213 \nL 2925 219 \nQ 3625 459 3898 976 \nQ 4172 1494 4172 2578 \nQ 4172 2863 4159 3206 \nL 4628 3206 \nL 4628 1863 \nz\nM 6016 -6 \nL 5650 -378 \nQ 5291 225 4453 750 \nL 4756 1081 \nQ 5444 703 6016 -6 \nz\n\" transform=\"scale(0.015625)\"/>\n      <path id=\"ArialUnicodeMS-6982\" d=\"M 6181 666 \nQ 6122 175 6040 -33 \nQ 5959 -241 5843 -297 \nQ 5728 -353 5259 -353 \nQ 4850 -353 4850 141 \nL 4850 1563 \nQ 4538 466 3584 -447 \nL 3219 -78 \nQ 3556 206 3847 594 \nL 3700 506 \nQ 3694 528 3625 664 \nQ 3556 800 3531 856 \nQ 3213 697 2053 231 \nL 1797 697 \nL 2253 850 \nL 2253 1869 \nL 2081 1747 \nQ 1897 2188 1691 2472 \nL 1691 -428 \nL 1203 -428 \nL 1203 2222 \nL 1191 2222 \nQ 1075 1784 550 1056 \nL 191 1369 \nQ 866 2188 1178 3566 \nL 459 3566 \nL 459 4031 \nL 1203 4031 \nL 1203 5275 \nL 1691 5275 \nL 1691 4031 \nL 2253 4031 \nL 2253 5081 \nL 3775 5081 \nL 3775 2438 \nL 2725 2438 \nL 2725 997 \nL 3359 1275 \nQ 3178 1613 3009 1825 \nL 3391 2028 \nQ 3759 1650 4063 922 \nQ 4463 1609 4653 2516 \nL 3859 2516 \nL 3859 2981 \nL 4025 2981 \nL 4025 5063 \nL 5806 5063 \nL 5806 4594 \nL 5294 4594 \nQ 5234 3228 5184 2981 \nL 5919 2981 \nL 5919 2516 \nL 5106 2516 \nQ 5097 2353 5044 2175 \nL 5294 2175 \nL 5294 238 \nQ 5294 91 5453 91 \nQ 5594 91 5639 198 \nQ 5684 306 5741 878 \nL 6181 666 \nz\nM 4831 4594 \nL 4494 4594 \nL 4494 2981 \nL 4728 2981 \nQ 4831 3631 4831 4594 \nz\nM 3297 4013 \nL 3297 4594 \nL 2725 4594 \nL 2725 4013 \nL 3297 4013 \nz\nM 2253 2450 \nL 2253 3566 \nL 1691 3566 \nL 1691 2956 \nL 1844 3022 \nQ 2034 2809 2253 2450 \nz\nM 3297 2906 \nL 3297 3547 \nL 2725 3547 \nL 2725 2906 \nL 3297 2906 \nz\n\" transform=\"scale(0.015625)\"/>\n      <path id=\"ArialUnicodeMS-5ff5\" d=\"M 6163 3334 \nL 5869 2894 \nQ 5000 3219 4353 3616 \nL 4353 3219 \nL 1894 3219 \nL 1894 3622 \nQ 1178 3097 525 2841 \nL 191 3250 \nQ 1953 3894 3022 5416 \nL 3469 5228 \nL 3359 5075 \nQ 4275 3934 6163 3334 \nz\nM 4225 3700 \nQ 3513 4159 3078 4691 \nQ 2653 4200 2003 3700 \nL 4225 3700 \nz\nM 4891 2284 \nQ 4475 1613 3444 1269 \nL 3169 1644 \nQ 3794 1872 4206 2234 \nL 1369 2234 \nL 1369 2719 \nL 4891 2719 \nL 4891 2284 \nz\nM 3834 831 \nL 3444 500 \nQ 3013 1125 2472 1434 \nL 2847 1709 \nQ 3331 1438 3834 831 \nz\nM 6125 147 \nL 5716 -184 \nQ 5244 634 4763 916 \nL 5153 1197 \nQ 5634 906 6125 147 \nz\nM 4769 519 \nQ 4656 -19 4487 -195 \nQ 4319 -372 4031 -372 \nL 2394 -372 \nQ 2194 -372 2073 -222 \nQ 1953 -72 1953 128 \nL 1953 1178 \nL 2456 1178 \nL 2456 225 \nQ 2456 97 2591 97 \nL 3969 97 \nQ 4238 59 4281 775 \nL 4769 519 \nz\nM 1600 863 \nQ 1272 147 628 -281 \nL 250 78 \nQ 863 438 1216 1166 \nL 1600 863 \nz\n\" transform=\"scale(0.015625)\"/>\n      <path id=\"ArialUnicodeMS-548c\" d=\"M 3659 1516 \nL 3256 1222 \nQ 2881 2025 2472 2303 \nL 2472 -447 \nL 1978 -447 \nL 1978 2069 \nQ 1694 1450 788 634 \nL 341 959 \nQ 1578 1947 1959 3097 \nL 738 3097 \nL 738 3566 \nL 1984 3566 \nL 1984 4372 \nQ 1050 4231 831 4231 \nL 634 4672 \nQ 2306 4788 3181 5253 \nL 3475 4891 \nQ 3166 4703 2472 4481 \nL 2472 3566 \nL 3559 3566 \nL 3559 3097 \nL 2472 3097 \nL 2472 2638 \nL 2644 2759 \nQ 3322 2300 3659 1516 \nz\nM 5722 -63 \nL 5234 -63 \nL 5234 575 \nL 4213 575 \nL 4213 -63 \nL 3725 -63 \nL 3725 4738 \nL 5722 4738 \nL 5722 -63 \nz\nM 5234 1044 \nL 5234 4269 \nL 4213 4269 \nL 4213 1044 \nL 5234 1044 \nz\n\" transform=\"scale(0.015625)\"/>\n      <path id=\"ArialUnicodeMS-884c\" d=\"M 2406 5113 \nQ 1606 3906 838 3359 \nL 409 3694 \nQ 1353 4350 2028 5409 \nL 2406 5113 \nz\nM 5631 4441 \nL 2881 4441 \nL 2881 4909 \nL 5631 4909 \nL 5631 4441 \nz\nM 2688 3597 \nQ 2538 3313 1906 2553 \nL 1906 -397 \nL 1422 -397 \nL 1422 2047 \nQ 772 1578 703 1538 \nL 325 1931 \nQ 1372 2534 2297 3859 \nL 2688 3597 \nz\nM 6022 2888 \nL 4878 2888 \nL 4878 206 \nQ 4878 -372 4166 -372 \nQ 3781 -372 3494 -359 \nL 3341 128 \nQ 3969 103 4069 103 \nQ 4244 103 4308 154 \nQ 4372 206 4372 341 \nL 4372 2888 \nL 2725 2888 \nL 2725 3353 \nL 6022 3353 \nL 6022 2888 \nz\n\" transform=\"scale(0.015625)\"/>\n      <path id=\"ArialUnicodeMS-4e1a\" d=\"M 5875 -78 \nL 428 -78 \nL 428 391 \nL 2297 391 \nL 2297 5113 \nL 2797 5113 \nL 2797 391 \nL 3541 391 \nL 3541 5113 \nL 4019 5113 \nL 4019 391 \nL 5875 391 \nL 5875 -78 \nz\nM 1919 1253 \nL 1434 1044 \nQ 1391 2156 788 3525 \nL 1203 3725 \nQ 1794 2416 1919 1253 \nz\nM 5503 3553 \nQ 5294 1925 4678 966 \nL 4269 1216 \nQ 4934 2153 5063 3713 \nL 5503 3553 \nz\n\" transform=\"scale(0.015625)\"/>\n      <path id=\"ArialUnicodeMS-6307\" d=\"M 5997 3938 \nQ 5863 3278 5667 3089 \nQ 5472 2900 5153 2900 \nL 3341 2900 \nQ 3003 2900 2817 3079 \nQ 2631 3259 2631 3584 \nL 2631 5306 \nL 3138 5306 \nL 3138 4288 \nQ 4403 4463 5466 5094 \nL 5759 4709 \nQ 4706 4056 3144 3834 \nL 3150 3584 \nQ 3159 3366 3384 3366 \nL 5172 3366 \nQ 5422 3366 5509 4141 \nL 5997 3938 \nz\nM 2541 2069 \nL 1791 1772 \nL 1791 91 \nQ 1744 -400 1166 -409 \nL 716 -416 \nL 563 84 \nL 959 72 \nQ 1306 59 1306 275 \nL 1306 1594 \nQ 919 1422 628 1319 \nL 331 1734 \nQ 1016 1941 1306 2059 \nL 1306 3591 \nL 494 3591 \nL 494 4056 \nL 1306 4056 \nL 1306 5306 \nL 1791 5306 \nL 1791 4056 \nL 2484 4056 \nL 2484 3591 \nL 1791 3591 \nL 1791 2247 \nQ 2478 2534 2541 2553 \nL 2541 2069 \nz\nM 5606 -409 \nL 5119 -409 \nL 5119 -38 \nL 3213 -38 \nL 3213 -434 \nL 2725 -434 \nL 2725 2491 \nL 5606 2491 \nL 5606 -409 \nz\nM 5119 1472 \nL 5119 2022 \nL 3213 2022 \nL 3213 1472 \nL 5119 1472 \nz\nM 5119 428 \nL 5119 1006 \nL 3213 1006 \nL 3213 428 \nL 5119 428 \nz\n\" transform=\"scale(0.015625)\"/>\n      <path id=\"ArialUnicodeMS-6570\" d=\"M 6138 19 \nL 5806 -378 \nQ 5031 194 4697 716 \nQ 4344 144 3328 -441 \nL 2981 -50 \nQ 3966 434 4403 1153 \nQ 4038 1834 3866 2753 \nQ 3678 2356 3353 1919 \nL 2950 2203 \nQ 3838 3172 3963 5253 \nL 4409 5125 \nQ 4341 4384 4269 4006 \nL 5984 4006 \nL 5984 3547 \nL 5619 3541 \nL 5594 3341 \nQ 5441 2113 4978 1191 \nQ 5281 672 6138 19 \nz\nM 5166 3541 \nL 4172 3541 \nQ 4297 2419 4691 1650 \nQ 5038 2513 5166 3541 \nz\nM 3438 3653 \nL 2209 3653 \nL 2209 2338 \nL 1919 2338 \nQ 1900 2269 1753 1931 \nL 3225 1931 \nL 3225 1472 \nL 2913 1472 \nQ 2763 991 2503 666 \nQ 2947 353 3103 184 \nL 2747 -172 \nQ 2463 138 2150 313 \nQ 1322 -225 563 -428 \nL 269 6 \nQ 1106 163 1684 563 \nQ 1291 756 703 884 \nL 1038 1472 \nL 403 1472 \nL 403 1931 \nL 1259 1931 \nQ 1328 2056 1466 2553 \nL 1747 2484 \nL 1747 3653 \nL 1716 3653 \nQ 1413 2881 678 2456 \nL 378 2803 \nQ 938 3091 1241 3653 \nL 403 3653 \nL 403 4122 \nL 1747 4122 \nL 1747 5228 \nL 2209 5228 \nL 2209 4122 \nL 3438 4122 \nL 3438 3653 \nz\nM 2406 1472 \nL 1538 1472 \nQ 1422 1241 1369 1153 \nQ 1388 1159 2069 884 \nQ 2219 1031 2406 1472 \nz\nM 1625 4441 \nL 1288 4159 \nQ 1022 4547 575 4813 \nL 878 5075 \nQ 1394 4844 1625 4441 \nz\nM 3384 4844 \nQ 3097 4409 2669 4172 \nL 2322 4481 \nQ 2806 4759 3047 5069 \nL 3384 4844 \nz\nM 3303 2888 \nL 2944 2578 \nQ 2706 3025 2291 3297 \nL 2584 3566 \nQ 2988 3359 3303 2888 \nz\n\" transform=\"scale(0.015625)\"/>\n     </defs>\n     <use xlink:href=\"#ArialUnicodeMS-540c\"/>\n     <use xlink:href=\"#ArialUnicodeMS-82b1\" x=\"100\"/>\n     <use xlink:href=\"#ArialUnicodeMS-987a\" x=\"200\"/>\n     <use xlink:href=\"#ArialUnicodeMS-6982\" x=\"300\"/>\n     <use xlink:href=\"#ArialUnicodeMS-5ff5\" x=\"400\"/>\n     <use xlink:href=\"#ArialUnicodeMS-548c\" x=\"500\"/>\n     <use xlink:href=\"#ArialUnicodeMS-884c\" x=\"600\"/>\n     <use xlink:href=\"#ArialUnicodeMS-4e1a\" x=\"700\"/>\n     <use xlink:href=\"#ArialUnicodeMS-6307\" x=\"800\"/>\n     <use xlink:href=\"#ArialUnicodeMS-6570\" x=\"900\"/>\n    </g>\n    <!--  A股/HK/US -->\n    <g transform=\"translate(185.320312 28.564125)scale(0.12 -0.12)\">\n     <defs>\n      <path id=\"ArialUnicodeMS-20\" transform=\"scale(0.015625)\"/>\n      <path id=\"ArialUnicodeMS-80a1\" d=\"M 6041 3725 \nQ 5884 2956 5484 2956 \nL 5038 2956 \nQ 4569 2956 4569 3431 \nL 4569 4575 \nL 3681 4575 \nQ 3672 3913 3630 3656 \nQ 3588 3400 3377 3129 \nQ 3166 2859 2944 2719 \nL 2578 3078 \nQ 3188 3506 3188 4019 \nL 3188 5044 \nL 5050 5044 \nL 5050 3559 \nQ 5050 3425 5178 3425 \nL 5375 3425 \nQ 5556 3425 5588 3969 \nL 6041 3725 \nz\nM 2528 206 \nQ 2528 -22 2406 -151 \nQ 2284 -281 2075 -281 \nL 1606 -281 \nL 1447 213 \nQ 1763 159 1850 159 \nQ 2041 159 2041 294 \nL 2041 1947 \nL 1275 1947 \nQ 1284 366 744 -384 \nL 325 -56 \nQ 794 578 794 1925 \nL 794 5031 \nL 2528 5031 \nL 2528 206 \nz\nM 2041 3725 \nL 2041 4550 \nL 1281 4550 \nL 1281 3725 \nL 2041 3725 \nz\nM 2041 2413 \nL 2041 3256 \nL 1281 3256 \nL 1281 2413 \nL 2041 2413 \nz\nM 6022 6 \nL 5703 -416 \nQ 4931 -222 4244 453 \nQ 3625 -78 2847 -391 \nL 2553 38 \nQ 3375 328 3909 825 \nQ 3500 1369 3256 2272 \nL 2981 2272 \nL 2981 2741 \nL 5350 2741 \nQ 5150 1569 4563 813 \nQ 5172 216 6022 6 \nz\nM 4763 2272 \nL 3738 2272 \nQ 4003 1503 4238 1153 \nQ 4569 1625 4763 2272 \nz\n\" transform=\"scale(0.015625)\"/>\n      <path id=\"ArialUnicodeMS-2f\" d=\"M 1778 4581 \nL 453 -153 \nL 0 -153 \nL 1325 4581 \nL 1778 4581 \nz\n\" transform=\"scale(0.015625)\"/>\n     </defs>\n     <use xlink:href=\"#ArialUnicodeMS-20\"/>\n     <use xlink:href=\"#ArialUnicodeMS-41\" x=\"27.783203\"/>\n     <use xlink:href=\"#ArialUnicodeMS-80a1\" x=\"94.482422\"/>\n     <use xlink:href=\"#ArialUnicodeMS-2f\" x=\"194.482422\"/>\n     <use xlink:href=\"#ArialUnicodeMS-48\" x=\"222.265625\"/>\n     <use xlink:href=\"#ArialUnicodeMS-4b\" x=\"294.482422\"/>\n     <use xlink:href=\"#ArialUnicodeMS-2f\" x=\"361.181641\"/>\n     <use xlink:href=\"#ArialUnicodeMS-55\" x=\"388.964844\"/>\n     <use xlink:href=\"#ArialUnicodeMS-53\" x=\"461.181641\"/>\n    </g>\n   </g>\n  </g>\n </g>\n <defs>\n  <clipPath id=\"pc54c90482b\">\n   <rect x=\"49.59375\" y=\"34.564125\" width=\"334.8\" height=\"217.44\"/>\n  </clipPath>\n </defs>\n</svg>\n",
      "text/plain": [
       "<Figure size 432x288 with 1 Axes>"
      ]
     },
     "metadata": {
      "needs_background": "light"
     },
     "output_type": "display_data"
    }
   ],
   "source": [
    "ax = sns.barplot(x='exchange',y='name',data=df_1)\n",
    "ax.set_title('同花顺概念和行业指数\\n A股/HK/US') # 同花顺概念和行业指数"
   ]
  },
  {
   "cell_type": "code",
   "execution_count": 6,
   "metadata": {},
   "outputs": [
    {
     "data": {
      "application/vnd.plotly.v1+json": {
       "config": {
        "plotlyServerURL": "https://plot.ly"
       },
       "data": [
        {
         "alignmentgroup": "True",
         "hovertemplate": "exchange=%{x}<br>name=%{y}<extra></extra>",
         "legendgroup": "A",
         "marker": {
          "color": "#636efa",
          "pattern": {
           "shape": ""
          }
         },
         "name": "A",
         "offsetgroup": "A",
         "orientation": "v",
         "showlegend": true,
         "textposition": "auto",
         "type": "bar",
         "x": [
          "A"
         ],
         "xaxis": "x",
         "y": [
          953
         ],
         "yaxis": "y"
        },
        {
         "alignmentgroup": "True",
         "hovertemplate": "exchange=%{x}<br>name=%{y}<extra></extra>",
         "legendgroup": "HK",
         "marker": {
          "color": "#EF553B",
          "pattern": {
           "shape": ""
          }
         },
         "name": "HK",
         "offsetgroup": "HK",
         "orientation": "v",
         "showlegend": true,
         "textposition": "auto",
         "type": "bar",
         "x": [
          "HK"
         ],
         "xaxis": "x",
         "y": [
          589
         ],
         "yaxis": "y"
        },
        {
         "alignmentgroup": "True",
         "hovertemplate": "exchange=%{x}<br>name=%{y}<extra></extra>",
         "legendgroup": "US",
         "marker": {
          "color": "#00cc96",
          "pattern": {
           "shape": ""
          }
         },
         "name": "US",
         "offsetgroup": "US",
         "orientation": "v",
         "showlegend": true,
         "textposition": "auto",
         "type": "bar",
         "x": [
          "US"
         ],
         "xaxis": "x",
         "y": [
          644
         ],
         "yaxis": "y"
        }
       ],
       "layout": {
        "barmode": "relative",
        "legend": {
         "title": {
          "text": "exchange"
         },
         "tracegroupgap": 0
        },
        "template": {
         "data": {
          "bar": [
           {
            "error_x": {
             "color": "#2a3f5f"
            },
            "error_y": {
             "color": "#2a3f5f"
            },
            "marker": {
             "line": {
              "color": "#E5ECF6",
              "width": 0.5
             },
             "pattern": {
              "fillmode": "overlay",
              "size": 10,
              "solidity": 0.2
             }
            },
            "type": "bar"
           }
          ],
          "barpolar": [
           {
            "marker": {
             "line": {
              "color": "#E5ECF6",
              "width": 0.5
             },
             "pattern": {
              "fillmode": "overlay",
              "size": 10,
              "solidity": 0.2
             }
            },
            "type": "barpolar"
           }
          ],
          "carpet": [
           {
            "aaxis": {
             "endlinecolor": "#2a3f5f",
             "gridcolor": "white",
             "linecolor": "white",
             "minorgridcolor": "white",
             "startlinecolor": "#2a3f5f"
            },
            "baxis": {
             "endlinecolor": "#2a3f5f",
             "gridcolor": "white",
             "linecolor": "white",
             "minorgridcolor": "white",
             "startlinecolor": "#2a3f5f"
            },
            "type": "carpet"
           }
          ],
          "choropleth": [
           {
            "colorbar": {
             "outlinewidth": 0,
             "ticks": ""
            },
            "type": "choropleth"
           }
          ],
          "contour": [
           {
            "colorbar": {
             "outlinewidth": 0,
             "ticks": ""
            },
            "colorscale": [
             [
              0,
              "#0d0887"
             ],
             [
              0.1111111111111111,
              "#46039f"
             ],
             [
              0.2222222222222222,
              "#7201a8"
             ],
             [
              0.3333333333333333,
              "#9c179e"
             ],
             [
              0.4444444444444444,
              "#bd3786"
             ],
             [
              0.5555555555555556,
              "#d8576b"
             ],
             [
              0.6666666666666666,
              "#ed7953"
             ],
             [
              0.7777777777777778,
              "#fb9f3a"
             ],
             [
              0.8888888888888888,
              "#fdca26"
             ],
             [
              1,
              "#f0f921"
             ]
            ],
            "type": "contour"
           }
          ],
          "contourcarpet": [
           {
            "colorbar": {
             "outlinewidth": 0,
             "ticks": ""
            },
            "type": "contourcarpet"
           }
          ],
          "heatmap": [
           {
            "colorbar": {
             "outlinewidth": 0,
             "ticks": ""
            },
            "colorscale": [
             [
              0,
              "#0d0887"
             ],
             [
              0.1111111111111111,
              "#46039f"
             ],
             [
              0.2222222222222222,
              "#7201a8"
             ],
             [
              0.3333333333333333,
              "#9c179e"
             ],
             [
              0.4444444444444444,
              "#bd3786"
             ],
             [
              0.5555555555555556,
              "#d8576b"
             ],
             [
              0.6666666666666666,
              "#ed7953"
             ],
             [
              0.7777777777777778,
              "#fb9f3a"
             ],
             [
              0.8888888888888888,
              "#fdca26"
             ],
             [
              1,
              "#f0f921"
             ]
            ],
            "type": "heatmap"
           }
          ],
          "heatmapgl": [
           {
            "colorbar": {
             "outlinewidth": 0,
             "ticks": ""
            },
            "colorscale": [
             [
              0,
              "#0d0887"
             ],
             [
              0.1111111111111111,
              "#46039f"
             ],
             [
              0.2222222222222222,
              "#7201a8"
             ],
             [
              0.3333333333333333,
              "#9c179e"
             ],
             [
              0.4444444444444444,
              "#bd3786"
             ],
             [
              0.5555555555555556,
              "#d8576b"
             ],
             [
              0.6666666666666666,
              "#ed7953"
             ],
             [
              0.7777777777777778,
              "#fb9f3a"
             ],
             [
              0.8888888888888888,
              "#fdca26"
             ],
             [
              1,
              "#f0f921"
             ]
            ],
            "type": "heatmapgl"
           }
          ],
          "histogram": [
           {
            "marker": {
             "pattern": {
              "fillmode": "overlay",
              "size": 10,
              "solidity": 0.2
             }
            },
            "type": "histogram"
           }
          ],
          "histogram2d": [
           {
            "colorbar": {
             "outlinewidth": 0,
             "ticks": ""
            },
            "colorscale": [
             [
              0,
              "#0d0887"
             ],
             [
              0.1111111111111111,
              "#46039f"
             ],
             [
              0.2222222222222222,
              "#7201a8"
             ],
             [
              0.3333333333333333,
              "#9c179e"
             ],
             [
              0.4444444444444444,
              "#bd3786"
             ],
             [
              0.5555555555555556,
              "#d8576b"
             ],
             [
              0.6666666666666666,
              "#ed7953"
             ],
             [
              0.7777777777777778,
              "#fb9f3a"
             ],
             [
              0.8888888888888888,
              "#fdca26"
             ],
             [
              1,
              "#f0f921"
             ]
            ],
            "type": "histogram2d"
           }
          ],
          "histogram2dcontour": [
           {
            "colorbar": {
             "outlinewidth": 0,
             "ticks": ""
            },
            "colorscale": [
             [
              0,
              "#0d0887"
             ],
             [
              0.1111111111111111,
              "#46039f"
             ],
             [
              0.2222222222222222,
              "#7201a8"
             ],
             [
              0.3333333333333333,
              "#9c179e"
             ],
             [
              0.4444444444444444,
              "#bd3786"
             ],
             [
              0.5555555555555556,
              "#d8576b"
             ],
             [
              0.6666666666666666,
              "#ed7953"
             ],
             [
              0.7777777777777778,
              "#fb9f3a"
             ],
             [
              0.8888888888888888,
              "#fdca26"
             ],
             [
              1,
              "#f0f921"
             ]
            ],
            "type": "histogram2dcontour"
           }
          ],
          "mesh3d": [
           {
            "colorbar": {
             "outlinewidth": 0,
             "ticks": ""
            },
            "type": "mesh3d"
           }
          ],
          "parcoords": [
           {
            "line": {
             "colorbar": {
              "outlinewidth": 0,
              "ticks": ""
             }
            },
            "type": "parcoords"
           }
          ],
          "pie": [
           {
            "automargin": true,
            "type": "pie"
           }
          ],
          "scatter": [
           {
            "marker": {
             "colorbar": {
              "outlinewidth": 0,
              "ticks": ""
             }
            },
            "type": "scatter"
           }
          ],
          "scatter3d": [
           {
            "line": {
             "colorbar": {
              "outlinewidth": 0,
              "ticks": ""
             }
            },
            "marker": {
             "colorbar": {
              "outlinewidth": 0,
              "ticks": ""
             }
            },
            "type": "scatter3d"
           }
          ],
          "scattercarpet": [
           {
            "marker": {
             "colorbar": {
              "outlinewidth": 0,
              "ticks": ""
             }
            },
            "type": "scattercarpet"
           }
          ],
          "scattergeo": [
           {
            "marker": {
             "colorbar": {
              "outlinewidth": 0,
              "ticks": ""
             }
            },
            "type": "scattergeo"
           }
          ],
          "scattergl": [
           {
            "marker": {
             "colorbar": {
              "outlinewidth": 0,
              "ticks": ""
             }
            },
            "type": "scattergl"
           }
          ],
          "scattermapbox": [
           {
            "marker": {
             "colorbar": {
              "outlinewidth": 0,
              "ticks": ""
             }
            },
            "type": "scattermapbox"
           }
          ],
          "scatterpolar": [
           {
            "marker": {
             "colorbar": {
              "outlinewidth": 0,
              "ticks": ""
             }
            },
            "type": "scatterpolar"
           }
          ],
          "scatterpolargl": [
           {
            "marker": {
             "colorbar": {
              "outlinewidth": 0,
              "ticks": ""
             }
            },
            "type": "scatterpolargl"
           }
          ],
          "scatterternary": [
           {
            "marker": {
             "colorbar": {
              "outlinewidth": 0,
              "ticks": ""
             }
            },
            "type": "scatterternary"
           }
          ],
          "surface": [
           {
            "colorbar": {
             "outlinewidth": 0,
             "ticks": ""
            },
            "colorscale": [
             [
              0,
              "#0d0887"
             ],
             [
              0.1111111111111111,
              "#46039f"
             ],
             [
              0.2222222222222222,
              "#7201a8"
             ],
             [
              0.3333333333333333,
              "#9c179e"
             ],
             [
              0.4444444444444444,
              "#bd3786"
             ],
             [
              0.5555555555555556,
              "#d8576b"
             ],
             [
              0.6666666666666666,
              "#ed7953"
             ],
             [
              0.7777777777777778,
              "#fb9f3a"
             ],
             [
              0.8888888888888888,
              "#fdca26"
             ],
             [
              1,
              "#f0f921"
             ]
            ],
            "type": "surface"
           }
          ],
          "table": [
           {
            "cells": {
             "fill": {
              "color": "#EBF0F8"
             },
             "line": {
              "color": "white"
             }
            },
            "header": {
             "fill": {
              "color": "#C8D4E3"
             },
             "line": {
              "color": "white"
             }
            },
            "type": "table"
           }
          ]
         },
         "layout": {
          "annotationdefaults": {
           "arrowcolor": "#2a3f5f",
           "arrowhead": 0,
           "arrowwidth": 1
          },
          "autotypenumbers": "strict",
          "coloraxis": {
           "colorbar": {
            "outlinewidth": 0,
            "ticks": ""
           }
          },
          "colorscale": {
           "diverging": [
            [
             0,
             "#8e0152"
            ],
            [
             0.1,
             "#c51b7d"
            ],
            [
             0.2,
             "#de77ae"
            ],
            [
             0.3,
             "#f1b6da"
            ],
            [
             0.4,
             "#fde0ef"
            ],
            [
             0.5,
             "#f7f7f7"
            ],
            [
             0.6,
             "#e6f5d0"
            ],
            [
             0.7,
             "#b8e186"
            ],
            [
             0.8,
             "#7fbc41"
            ],
            [
             0.9,
             "#4d9221"
            ],
            [
             1,
             "#276419"
            ]
           ],
           "sequential": [
            [
             0,
             "#0d0887"
            ],
            [
             0.1111111111111111,
             "#46039f"
            ],
            [
             0.2222222222222222,
             "#7201a8"
            ],
            [
             0.3333333333333333,
             "#9c179e"
            ],
            [
             0.4444444444444444,
             "#bd3786"
            ],
            [
             0.5555555555555556,
             "#d8576b"
            ],
            [
             0.6666666666666666,
             "#ed7953"
            ],
            [
             0.7777777777777778,
             "#fb9f3a"
            ],
            [
             0.8888888888888888,
             "#fdca26"
            ],
            [
             1,
             "#f0f921"
            ]
           ],
           "sequentialminus": [
            [
             0,
             "#0d0887"
            ],
            [
             0.1111111111111111,
             "#46039f"
            ],
            [
             0.2222222222222222,
             "#7201a8"
            ],
            [
             0.3333333333333333,
             "#9c179e"
            ],
            [
             0.4444444444444444,
             "#bd3786"
            ],
            [
             0.5555555555555556,
             "#d8576b"
            ],
            [
             0.6666666666666666,
             "#ed7953"
            ],
            [
             0.7777777777777778,
             "#fb9f3a"
            ],
            [
             0.8888888888888888,
             "#fdca26"
            ],
            [
             1,
             "#f0f921"
            ]
           ]
          },
          "colorway": [
           "#636efa",
           "#EF553B",
           "#00cc96",
           "#ab63fa",
           "#FFA15A",
           "#19d3f3",
           "#FF6692",
           "#B6E880",
           "#FF97FF",
           "#FECB52"
          ],
          "font": {
           "color": "#2a3f5f"
          },
          "geo": {
           "bgcolor": "white",
           "lakecolor": "white",
           "landcolor": "#E5ECF6",
           "showlakes": true,
           "showland": true,
           "subunitcolor": "white"
          },
          "hoverlabel": {
           "align": "left"
          },
          "hovermode": "closest",
          "mapbox": {
           "style": "light"
          },
          "paper_bgcolor": "white",
          "plot_bgcolor": "#E5ECF6",
          "polar": {
           "angularaxis": {
            "gridcolor": "white",
            "linecolor": "white",
            "ticks": ""
           },
           "bgcolor": "#E5ECF6",
           "radialaxis": {
            "gridcolor": "white",
            "linecolor": "white",
            "ticks": ""
           }
          },
          "scene": {
           "xaxis": {
            "backgroundcolor": "#E5ECF6",
            "gridcolor": "white",
            "gridwidth": 2,
            "linecolor": "white",
            "showbackground": true,
            "ticks": "",
            "zerolinecolor": "white"
           },
           "yaxis": {
            "backgroundcolor": "#E5ECF6",
            "gridcolor": "white",
            "gridwidth": 2,
            "linecolor": "white",
            "showbackground": true,
            "ticks": "",
            "zerolinecolor": "white"
           },
           "zaxis": {
            "backgroundcolor": "#E5ECF6",
            "gridcolor": "white",
            "gridwidth": 2,
            "linecolor": "white",
            "showbackground": true,
            "ticks": "",
            "zerolinecolor": "white"
           }
          },
          "shapedefaults": {
           "line": {
            "color": "#2a3f5f"
           }
          },
          "ternary": {
           "aaxis": {
            "gridcolor": "white",
            "linecolor": "white",
            "ticks": ""
           },
           "baxis": {
            "gridcolor": "white",
            "linecolor": "white",
            "ticks": ""
           },
           "bgcolor": "#E5ECF6",
           "caxis": {
            "gridcolor": "white",
            "linecolor": "white",
            "ticks": ""
           }
          },
          "title": {
           "x": 0.05
          },
          "xaxis": {
           "automargin": true,
           "gridcolor": "white",
           "linecolor": "white",
           "ticks": "",
           "title": {
            "standoff": 15
           },
           "zerolinecolor": "white",
           "zerolinewidth": 2
          },
          "yaxis": {
           "automargin": true,
           "gridcolor": "white",
           "linecolor": "white",
           "ticks": "",
           "title": {
            "standoff": 15
           },
           "zerolinecolor": "white",
           "zerolinewidth": 2
          }
         }
        },
        "title": {
         "text": "同花顺概念和行业指数\nA股/HK/US"
        },
        "xaxis": {
         "anchor": "y",
         "categoryarray": [
          "A",
          "HK",
          "US"
         ],
         "categoryorder": "array",
         "domain": [
          0,
          1
         ],
         "title": {
          "text": "exchange"
         }
        },
        "yaxis": {
         "anchor": "x",
         "domain": [
          0,
          1
         ],
         "title": {
          "text": "name"
         }
        }
       }
      }
     },
     "metadata": {},
     "output_type": "display_data"
    }
   ],
   "source": [
    "px.bar(df_1,x='exchange',y='name', title='同花顺概念和行业指数\\nA股/HK/US', color='exchange')"
   ]
  },
  {
   "cell_type": "code",
   "execution_count": 7,
   "metadata": {},
   "outputs": [
    {
     "data": {
      "text/html": [
       "<div>\n",
       "<style scoped>\n",
       "    .dataframe tbody tr th:only-of-type {\n",
       "        vertical-align: middle;\n",
       "    }\n",
       "\n",
       "    .dataframe tbody tr th {\n",
       "        vertical-align: top;\n",
       "    }\n",
       "\n",
       "    .dataframe thead th {\n",
       "        text-align: right;\n",
       "    }\n",
       "</style>\n",
       "<table border=\"1\" class=\"dataframe\">\n",
       "  <thead>\n",
       "    <tr style=\"text-align: right;\">\n",
       "      <th></th>\n",
       "      <th>ts_code</th>\n",
       "      <th>name</th>\n",
       "      <th>count</th>\n",
       "      <th>exchange</th>\n",
       "      <th>list_date</th>\n",
       "      <th>type</th>\n",
       "    </tr>\n",
       "  </thead>\n",
       "  <tbody>\n",
       "    <tr>\n",
       "      <th>0</th>\n",
       "      <td>864006.TI</td>\n",
       "      <td>固态电池</td>\n",
       "      <td>3.0</td>\n",
       "      <td>A</td>\n",
       "      <td>20200102</td>\n",
       "      <td>N</td>\n",
       "    </tr>\n",
       "    <tr>\n",
       "      <th>1</th>\n",
       "      <td>864007.TI</td>\n",
       "      <td>太阳能</td>\n",
       "      <td>16.0</td>\n",
       "      <td>A</td>\n",
       "      <td>20200102</td>\n",
       "      <td>N</td>\n",
       "    </tr>\n",
       "    <tr>\n",
       "      <th>2</th>\n",
       "      <td>864008.TI</td>\n",
       "      <td>激光雷达</td>\n",
       "      <td>3.0</td>\n",
       "      <td>A</td>\n",
       "      <td>20200102</td>\n",
       "      <td>N</td>\n",
       "    </tr>\n",
       "    <tr>\n",
       "      <th>3</th>\n",
       "      <td>864009.TI</td>\n",
       "      <td>CAR-T</td>\n",
       "      <td>12.0</td>\n",
       "      <td>A</td>\n",
       "      <td>20200102</td>\n",
       "      <td>N</td>\n",
       "    </tr>\n",
       "    <tr>\n",
       "      <th>4</th>\n",
       "      <td>864010.TI</td>\n",
       "      <td>NFT</td>\n",
       "      <td>18.0</td>\n",
       "      <td>A</td>\n",
       "      <td>20200102</td>\n",
       "      <td>N</td>\n",
       "    </tr>\n",
       "    <tr>\n",
       "      <th>...</th>\n",
       "      <td>...</td>\n",
       "      <td>...</td>\n",
       "      <td>...</td>\n",
       "      <td>...</td>\n",
       "      <td>...</td>\n",
       "      <td>...</td>\n",
       "    </tr>\n",
       "    <tr>\n",
       "      <th>2181</th>\n",
       "      <td>884270.TI</td>\n",
       "      <td>综合环境治理</td>\n",
       "      <td>24.0</td>\n",
       "      <td>A</td>\n",
       "      <td>20210730</td>\n",
       "      <td>I</td>\n",
       "    </tr>\n",
       "    <tr>\n",
       "      <th>2182</th>\n",
       "      <td>884271.TI</td>\n",
       "      <td>个护用品</td>\n",
       "      <td>13.0</td>\n",
       "      <td>A</td>\n",
       "      <td>20210730</td>\n",
       "      <td>I</td>\n",
       "    </tr>\n",
       "    <tr>\n",
       "      <th>2183</th>\n",
       "      <td>884272.TI</td>\n",
       "      <td>化妆品</td>\n",
       "      <td>13.0</td>\n",
       "      <td>A</td>\n",
       "      <td>20210730</td>\n",
       "      <td>I</td>\n",
       "    </tr>\n",
       "    <tr>\n",
       "      <th>2184</th>\n",
       "      <td>884273.TI</td>\n",
       "      <td>医疗美容</td>\n",
       "      <td>3.0</td>\n",
       "      <td>A</td>\n",
       "      <td>20210730</td>\n",
       "      <td>I</td>\n",
       "    </tr>\n",
       "    <tr>\n",
       "      <th>2185</th>\n",
       "      <td>884274.TI</td>\n",
       "      <td>IT服务</td>\n",
       "      <td>116.0</td>\n",
       "      <td>A</td>\n",
       "      <td>20210730</td>\n",
       "      <td>I</td>\n",
       "    </tr>\n",
       "  </tbody>\n",
       "</table>\n",
       "<p>953 rows × 6 columns</p>\n",
       "</div>"
      ],
      "text/plain": [
       "        ts_code    name  count exchange list_date type\n",
       "0     864006.TI    固态电池    3.0        A  20200102    N\n",
       "1     864007.TI     太阳能   16.0        A  20200102    N\n",
       "2     864008.TI    激光雷达    3.0        A  20200102    N\n",
       "3     864009.TI   CAR-T   12.0        A  20200102    N\n",
       "4     864010.TI     NFT   18.0        A  20200102    N\n",
       "...         ...     ...    ...      ...       ...  ...\n",
       "2181  884270.TI  综合环境治理   24.0        A  20210730    I\n",
       "2182  884271.TI    个护用品   13.0        A  20210730    I\n",
       "2183  884272.TI     化妆品   13.0        A  20210730    I\n",
       "2184  884273.TI    医疗美容    3.0        A  20210730    I\n",
       "2185  884274.TI    IT服务  116.0        A  20210730    I\n",
       "\n",
       "[953 rows x 6 columns]"
      ]
     },
     "execution_count": 7,
     "metadata": {},
     "output_type": "execute_result"
    }
   ],
   "source": [
    "# we will focus on A market\n",
    "A_index_list = index_list[index_list['exchange']=='A']\n",
    "A_index_list # N为板块指数，I为行业指数"
   ]
  },
  {
   "cell_type": "code",
   "execution_count": 8,
   "metadata": {},
   "outputs": [
    {
     "name": "stdout",
     "output_type": "stream",
     "text": [
      "<class 'pandas.core.frame.DataFrame'>\n",
      "Int64Index: 953 entries, 0 to 2185\n",
      "Data columns (total 6 columns):\n",
      " #   Column     Non-Null Count  Dtype  \n",
      "---  ------     --------------  -----  \n",
      " 0   ts_code    953 non-null    object \n",
      " 1   name       953 non-null    object \n",
      " 2   count      947 non-null    float64\n",
      " 3   exchange   953 non-null    object \n",
      " 4   list_date  953 non-null    object \n",
      " 5   type       953 non-null    object \n",
      "dtypes: float64(1), object(5)\n",
      "memory usage: 52.1+ KB\n"
     ]
    }
   ],
   "source": [
    "A_index_list.info() # there are some values are NA in count"
   ]
  },
  {
   "cell_type": "code",
   "execution_count": 9,
   "metadata": {},
   "outputs": [
    {
     "name": "stdout",
     "output_type": "stream",
     "text": [
      "<class 'pandas.core.frame.DataFrame'>\n",
      "Int64Index: 947 entries, 0 to 2185\n",
      "Data columns (total 6 columns):\n",
      " #   Column     Non-Null Count  Dtype  \n",
      "---  ------     --------------  -----  \n",
      " 0   ts_code    947 non-null    object \n",
      " 1   name       947 non-null    object \n",
      " 2   count      947 non-null    float64\n",
      " 3   exchange   947 non-null    object \n",
      " 4   list_date  947 non-null    object \n",
      " 5   type       947 non-null    object \n",
      "dtypes: float64(1), object(5)\n",
      "memory usage: 51.8+ KB\n"
     ]
    }
   ],
   "source": [
    "A_index_list2 = A_index_list.dropna() # drop NA values\n",
    "A_index_list2.info()"
   ]
  },
  {
   "cell_type": "code",
   "execution_count": 10,
   "metadata": {},
   "outputs": [
    {
     "data": {
      "text/plain": [
       "count     947.000000\n",
       "mean       52.959873\n",
       "std       110.860532\n",
       "min         1.000000\n",
       "25%        12.000000\n",
       "50%        26.000000\n",
       "75%        51.000000\n",
       "max      2273.000000\n",
       "Name: count, dtype: float64"
      ]
     },
     "execution_count": 10,
     "metadata": {},
     "output_type": "execute_result"
    }
   ],
   "source": [
    "A_index_list2['count'].describe()"
   ]
  },
  {
   "cell_type": "markdown",
   "metadata": {},
   "source": [
    "可以看到每个概念（行业）中大概有53只个股，但是一只个股可能属于多个概念和行业，我们需要剔除重复的个股，同时，如果一个概念或者行业含有太多或者太少个股，相当于涵盖面太大或者太低，分析起来意义不大。下面我们剔除重复项和成分个股少于10或者大于60的概念或者行业（参考25%和75%分为数）。"
   ]
  },
  {
   "cell_type": "code",
   "execution_count": 11,
   "metadata": {},
   "outputs": [
    {
     "data": {
      "text/html": [
       "<div>\n",
       "<style scoped>\n",
       "    .dataframe tbody tr th:only-of-type {\n",
       "        vertical-align: middle;\n",
       "    }\n",
       "\n",
       "    .dataframe tbody tr th {\n",
       "        vertical-align: top;\n",
       "    }\n",
       "\n",
       "    .dataframe thead th {\n",
       "        text-align: right;\n",
       "    }\n",
       "</style>\n",
       "<table border=\"1\" class=\"dataframe\">\n",
       "  <thead>\n",
       "    <tr style=\"text-align: right;\">\n",
       "      <th></th>\n",
       "      <th>ts_code</th>\n",
       "      <th>name</th>\n",
       "      <th>count</th>\n",
       "      <th>exchange</th>\n",
       "      <th>list_date</th>\n",
       "      <th>type</th>\n",
       "    </tr>\n",
       "  </thead>\n",
       "  <tbody>\n",
       "    <tr>\n",
       "      <th>1</th>\n",
       "      <td>864007.TI</td>\n",
       "      <td>太阳能</td>\n",
       "      <td>16.0</td>\n",
       "      <td>A</td>\n",
       "      <td>20200102</td>\n",
       "      <td>N</td>\n",
       "    </tr>\n",
       "    <tr>\n",
       "      <th>3</th>\n",
       "      <td>864009.TI</td>\n",
       "      <td>CAR-T</td>\n",
       "      <td>12.0</td>\n",
       "      <td>A</td>\n",
       "      <td>20200102</td>\n",
       "      <td>N</td>\n",
       "    </tr>\n",
       "    <tr>\n",
       "      <th>4</th>\n",
       "      <td>864010.TI</td>\n",
       "      <td>NFT</td>\n",
       "      <td>18.0</td>\n",
       "      <td>A</td>\n",
       "      <td>20200102</td>\n",
       "      <td>N</td>\n",
       "    </tr>\n",
       "    <tr>\n",
       "      <th>7</th>\n",
       "      <td>864013.TI</td>\n",
       "      <td>WSB概念</td>\n",
       "      <td>14.0</td>\n",
       "      <td>A</td>\n",
       "      <td>20200102</td>\n",
       "      <td>N</td>\n",
       "    </tr>\n",
       "    <tr>\n",
       "      <th>11</th>\n",
       "      <td>864017.TI</td>\n",
       "      <td>太空旅行</td>\n",
       "      <td>13.0</td>\n",
       "      <td>A</td>\n",
       "      <td>20200102</td>\n",
       "      <td>N</td>\n",
       "    </tr>\n",
       "    <tr>\n",
       "      <th>...</th>\n",
       "      <td>...</td>\n",
       "      <td>...</td>\n",
       "      <td>...</td>\n",
       "      <td>...</td>\n",
       "      <td>...</td>\n",
       "      <td>...</td>\n",
       "    </tr>\n",
       "    <tr>\n",
       "      <th>639</th>\n",
       "      <td>885962.TI</td>\n",
       "      <td>土壤修复</td>\n",
       "      <td>58.0</td>\n",
       "      <td>A</td>\n",
       "      <td>20220218</td>\n",
       "      <td>N</td>\n",
       "    </tr>\n",
       "    <tr>\n",
       "      <th>640</th>\n",
       "      <td>885963.TI</td>\n",
       "      <td>智慧灯杆</td>\n",
       "      <td>20.0</td>\n",
       "      <td>A</td>\n",
       "      <td>20220221</td>\n",
       "      <td>N</td>\n",
       "    </tr>\n",
       "    <tr>\n",
       "      <th>641</th>\n",
       "      <td>885964.TI</td>\n",
       "      <td>俄乌冲突概念</td>\n",
       "      <td>51.0</td>\n",
       "      <td>A</td>\n",
       "      <td>20220225</td>\n",
       "      <td>N</td>\n",
       "    </tr>\n",
       "    <tr>\n",
       "      <th>642</th>\n",
       "      <td>885965.TI</td>\n",
       "      <td>中俄贸易概念</td>\n",
       "      <td>12.0</td>\n",
       "      <td>A</td>\n",
       "      <td>20220228</td>\n",
       "      <td>N</td>\n",
       "    </tr>\n",
       "    <tr>\n",
       "      <th>643</th>\n",
       "      <td>885966.TI</td>\n",
       "      <td>跨境支付（CIPS）</td>\n",
       "      <td>27.0</td>\n",
       "      <td>A</td>\n",
       "      <td>20220228</td>\n",
       "      <td>N</td>\n",
       "    </tr>\n",
       "  </tbody>\n",
       "</table>\n",
       "<p>177 rows × 6 columns</p>\n",
       "</div>"
      ],
      "text/plain": [
       "       ts_code        name  count exchange list_date type\n",
       "1    864007.TI         太阳能   16.0        A  20200102    N\n",
       "3    864009.TI       CAR-T   12.0        A  20200102    N\n",
       "4    864010.TI         NFT   18.0        A  20200102    N\n",
       "7    864013.TI       WSB概念   14.0        A  20200102    N\n",
       "11   864017.TI        太空旅行   13.0        A  20200102    N\n",
       "..         ...         ...    ...      ...       ...  ...\n",
       "639  885962.TI        土壤修复   58.0        A  20220218    N\n",
       "640  885963.TI        智慧灯杆   20.0        A  20220221    N\n",
       "641  885964.TI      俄乌冲突概念   51.0        A  20220225    N\n",
       "642  885965.TI      中俄贸易概念   12.0        A  20220228    N\n",
       "643  885966.TI  跨境支付（CIPS）   27.0        A  20220228    N\n",
       "\n",
       "[177 rows x 6 columns]"
      ]
     },
     "execution_count": 11,
     "metadata": {},
     "output_type": "execute_result"
    }
   ],
   "source": [
    "A_index_list3 = A_index_list2.drop_duplicates(subset='ts_code', keep='first')\n",
    "A_index_listF = A_index_list3.query(\"type=='N'\").query('10<count<60')\n",
    "A_index_listF"
   ]
  },
  {
   "cell_type": "code",
   "execution_count": 12,
   "metadata": {},
   "outputs": [
    {
     "data": {
      "text/html": [
       "<div>\n",
       "<style scoped>\n",
       "    .dataframe tbody tr th:only-of-type {\n",
       "        vertical-align: middle;\n",
       "    }\n",
       "\n",
       "    .dataframe tbody tr th {\n",
       "        vertical-align: top;\n",
       "    }\n",
       "\n",
       "    .dataframe thead th {\n",
       "        text-align: right;\n",
       "    }\n",
       "</style>\n",
       "<table border=\"1\" class=\"dataframe\">\n",
       "  <thead>\n",
       "    <tr style=\"text-align: right;\">\n",
       "      <th></th>\n",
       "      <th>ts_code</th>\n",
       "      <th>name</th>\n",
       "      <th>count</th>\n",
       "      <th>exchange</th>\n",
       "      <th>list_date</th>\n",
       "      <th>type</th>\n",
       "    </tr>\n",
       "  </thead>\n",
       "  <tbody>\n",
       "    <tr>\n",
       "      <th>415</th>\n",
       "      <td>885591.TI</td>\n",
       "      <td>中韩自贸区</td>\n",
       "      <td>11.0</td>\n",
       "      <td>A</td>\n",
       "      <td>20140714</td>\n",
       "      <td>N</td>\n",
       "    </tr>\n",
       "    <tr>\n",
       "      <th>373</th>\n",
       "      <td>885487.TI</td>\n",
       "      <td>天津自贸区</td>\n",
       "      <td>11.0</td>\n",
       "      <td>A</td>\n",
       "      <td>20131010</td>\n",
       "      <td>N</td>\n",
       "    </tr>\n",
       "    <tr>\n",
       "      <th>465</th>\n",
       "      <td>885747.TI</td>\n",
       "      <td>共享单车</td>\n",
       "      <td>11.0</td>\n",
       "      <td>A</td>\n",
       "      <td>20170623</td>\n",
       "      <td>N</td>\n",
       "    </tr>\n",
       "    <tr>\n",
       "      <th>557</th>\n",
       "      <td>885877.TI</td>\n",
       "      <td>转基因</td>\n",
       "      <td>11.0</td>\n",
       "      <td>A</td>\n",
       "      <td>20200106</td>\n",
       "      <td>N</td>\n",
       "    </tr>\n",
       "    <tr>\n",
       "      <th>489</th>\n",
       "      <td>885780.TI</td>\n",
       "      <td>啤酒概念</td>\n",
       "      <td>11.0</td>\n",
       "      <td>A</td>\n",
       "      <td>20180108</td>\n",
       "      <td>N</td>\n",
       "    </tr>\n",
       "    <tr>\n",
       "      <th>...</th>\n",
       "      <td>...</td>\n",
       "      <td>...</td>\n",
       "      <td>...</td>\n",
       "      <td>...</td>\n",
       "      <td>...</td>\n",
       "      <td>...</td>\n",
       "    </tr>\n",
       "    <tr>\n",
       "      <th>629</th>\n",
       "      <td>885952.TI</td>\n",
       "      <td>幽门螺杆菌概念</td>\n",
       "      <td>57.0</td>\n",
       "      <td>A</td>\n",
       "      <td>20220106</td>\n",
       "      <td>N</td>\n",
       "    </tr>\n",
       "    <tr>\n",
       "      <th>597</th>\n",
       "      <td>885920.TI</td>\n",
       "      <td>光伏建筑一体化</td>\n",
       "      <td>57.0</td>\n",
       "      <td>A</td>\n",
       "      <td>20210309</td>\n",
       "      <td>N</td>\n",
       "    </tr>\n",
       "    <tr>\n",
       "      <th>548</th>\n",
       "      <td>885866.TI</td>\n",
       "      <td>数字货币</td>\n",
       "      <td>57.0</td>\n",
       "      <td>A</td>\n",
       "      <td>20190918</td>\n",
       "      <td>N</td>\n",
       "    </tr>\n",
       "    <tr>\n",
       "      <th>639</th>\n",
       "      <td>885962.TI</td>\n",
       "      <td>土壤修复</td>\n",
       "      <td>58.0</td>\n",
       "      <td>A</td>\n",
       "      <td>20220218</td>\n",
       "      <td>N</td>\n",
       "    </tr>\n",
       "    <tr>\n",
       "      <th>555</th>\n",
       "      <td>885875.TI</td>\n",
       "      <td>MiniLED</td>\n",
       "      <td>58.0</td>\n",
       "      <td>A</td>\n",
       "      <td>20191217</td>\n",
       "      <td>N</td>\n",
       "    </tr>\n",
       "  </tbody>\n",
       "</table>\n",
       "<p>176 rows × 6 columns</p>\n",
       "</div>"
      ],
      "text/plain": [
       "       ts_code     name  count exchange list_date type\n",
       "415  885591.TI    中韩自贸区   11.0        A  20140714    N\n",
       "373  885487.TI    天津自贸区   11.0        A  20131010    N\n",
       "465  885747.TI     共享单车   11.0        A  20170623    N\n",
       "557  885877.TI      转基因   11.0        A  20200106    N\n",
       "489  885780.TI     啤酒概念   11.0        A  20180108    N\n",
       "..         ...      ...    ...      ...       ...  ...\n",
       "629  885952.TI  幽门螺杆菌概念   57.0        A  20220106    N\n",
       "597  885920.TI  光伏建筑一体化   57.0        A  20210309    N\n",
       "548  885866.TI     数字货币   57.0        A  20190918    N\n",
       "639  885962.TI     土壤修复   58.0        A  20220218    N\n",
       "555  885875.TI  MiniLED   58.0        A  20191217    N\n",
       "\n",
       "[176 rows x 6 columns]"
      ]
     },
     "execution_count": 12,
     "metadata": {},
     "output_type": "execute_result"
    }
   ],
   "source": [
    "A_index_listF = A_index_listF[-A_index_listF['name'].apply(lambda s: s.endswith('样本股') or s.endswith('成分股'))] # 剔除样本股和成分股指数\n",
    "A_index_listF.sort_values('count')"
   ]
  },
  {
   "cell_type": "code",
   "execution_count": 13,
   "metadata": {},
   "outputs": [
    {
     "data": {
      "application/vnd.plotly.v1+json": {
       "config": {
        "plotlyServerURL": "https://plot.ly"
       },
       "data": [
        {
         "alignmentgroup": "True",
         "hovertemplate": "name=%{x}<br>count=%{y}<extra></extra>",
         "legendgroup": "中韩自贸区",
         "marker": {
          "color": "#636efa",
          "pattern": {
           "shape": ""
          }
         },
         "name": "中韩自贸区",
         "offsetgroup": "中韩自贸区",
         "orientation": "v",
         "showlegend": true,
         "textposition": "auto",
         "type": "bar",
         "x": [
          "中韩自贸区"
         ],
         "xaxis": "x",
         "y": [
          11
         ],
         "yaxis": "y"
        },
        {
         "alignmentgroup": "True",
         "hovertemplate": "name=%{x}<br>count=%{y}<extra></extra>",
         "legendgroup": "天津自贸区",
         "marker": {
          "color": "#EF553B",
          "pattern": {
           "shape": ""
          }
         },
         "name": "天津自贸区",
         "offsetgroup": "天津自贸区",
         "orientation": "v",
         "showlegend": true,
         "textposition": "auto",
         "type": "bar",
         "x": [
          "天津自贸区"
         ],
         "xaxis": "x",
         "y": [
          11
         ],
         "yaxis": "y"
        },
        {
         "alignmentgroup": "True",
         "hovertemplate": "name=%{x}<br>count=%{y}<extra></extra>",
         "legendgroup": "共享单车",
         "marker": {
          "color": "#00cc96",
          "pattern": {
           "shape": ""
          }
         },
         "name": "共享单车",
         "offsetgroup": "共享单车",
         "orientation": "v",
         "showlegend": true,
         "textposition": "auto",
         "type": "bar",
         "x": [
          "共享单车"
         ],
         "xaxis": "x",
         "y": [
          11
         ],
         "yaxis": "y"
        },
        {
         "alignmentgroup": "True",
         "hovertemplate": "name=%{x}<br>count=%{y}<extra></extra>",
         "legendgroup": "转基因",
         "marker": {
          "color": "#ab63fa",
          "pattern": {
           "shape": ""
          }
         },
         "name": "转基因",
         "offsetgroup": "转基因",
         "orientation": "v",
         "showlegend": true,
         "textposition": "auto",
         "type": "bar",
         "x": [
          "转基因"
         ],
         "xaxis": "x",
         "y": [
          11
         ],
         "yaxis": "y"
        },
        {
         "alignmentgroup": "True",
         "hovertemplate": "name=%{x}<br>count=%{y}<extra></extra>",
         "legendgroup": "啤酒概念",
         "marker": {
          "color": "#FFA15A",
          "pattern": {
           "shape": ""
          }
         },
         "name": "啤酒概念",
         "offsetgroup": "啤酒概念",
         "orientation": "v",
         "showlegend": true,
         "textposition": "auto",
         "type": "bar",
         "x": [
          "啤酒概念"
         ],
         "xaxis": "x",
         "y": [
          11
         ],
         "yaxis": "y"
        },
        {
         "alignmentgroup": "True",
         "hovertemplate": "name=%{x}<br>count=%{y}<extra></extra>",
         "legendgroup": "拼多多概念",
         "marker": {
          "color": "#19d3f3",
          "pattern": {
           "shape": ""
          }
         },
         "name": "拼多多概念",
         "offsetgroup": "拼多多概念",
         "orientation": "v",
         "showlegend": true,
         "textposition": "auto",
         "type": "bar",
         "x": [
          "拼多多概念"
         ],
         "xaxis": "x",
         "y": [
          11
         ],
         "yaxis": "y"
        },
        {
         "alignmentgroup": "True",
         "hovertemplate": "name=%{x}<br>count=%{y}<extra></extra>",
         "legendgroup": "环氧丙烷",
         "marker": {
          "color": "#FF6692",
          "pattern": {
           "shape": ""
          }
         },
         "name": "环氧丙烷",
         "offsetgroup": "环氧丙烷",
         "orientation": "v",
         "showlegend": true,
         "textposition": "auto",
         "type": "bar",
         "x": [
          "环氧丙烷"
         ],
         "xaxis": "x",
         "y": [
          11
         ],
         "yaxis": "y"
        },
        {
         "alignmentgroup": "True",
         "hovertemplate": "name=%{x}<br>count=%{y}<extra></extra>",
         "legendgroup": "CAR-T",
         "marker": {
          "color": "#B6E880",
          "pattern": {
           "shape": ""
          }
         },
         "name": "CAR-T",
         "offsetgroup": "CAR-T",
         "orientation": "v",
         "showlegend": true,
         "textposition": "auto",
         "type": "bar",
         "x": [
          "CAR-T"
         ],
         "xaxis": "x",
         "y": [
          12
         ],
         "yaxis": "y"
        },
        {
         "alignmentgroup": "True",
         "hovertemplate": "name=%{x}<br>count=%{y}<extra></extra>",
         "legendgroup": "石墨电极",
         "marker": {
          "color": "#FF97FF",
          "pattern": {
           "shape": ""
          }
         },
         "name": "石墨电极",
         "offsetgroup": "石墨电极",
         "orientation": "v",
         "showlegend": true,
         "textposition": "auto",
         "type": "bar",
         "x": [
          "石墨电极"
         ],
         "xaxis": "x",
         "y": [
          12
         ],
         "yaxis": "y"
        },
        {
         "alignmentgroup": "True",
         "hovertemplate": "name=%{x}<br>count=%{y}<extra></extra>",
         "legendgroup": "中俄贸易概念",
         "marker": {
          "color": "#FECB52",
          "pattern": {
           "shape": ""
          }
         },
         "name": "中俄贸易概念",
         "offsetgroup": "中俄贸易概念",
         "orientation": "v",
         "showlegend": true,
         "textposition": "auto",
         "type": "bar",
         "x": [
          "中俄贸易概念"
         ],
         "xaxis": "x",
         "y": [
          12
         ],
         "yaxis": "y"
        },
        {
         "alignmentgroup": "True",
         "hovertemplate": "name=%{x}<br>count=%{y}<extra></extra>",
         "legendgroup": "草甘膦",
         "marker": {
          "color": "#636efa",
          "pattern": {
           "shape": ""
          }
         },
         "name": "草甘膦",
         "offsetgroup": "草甘膦",
         "orientation": "v",
         "showlegend": true,
         "textposition": "auto",
         "type": "bar",
         "x": [
          "草甘膦"
         ],
         "xaxis": "x",
         "y": [
          12
         ],
         "yaxis": "y"
        },
        {
         "alignmentgroup": "True",
         "hovertemplate": "name=%{x}<br>count=%{y}<extra></extra>",
         "legendgroup": "广东自贸区",
         "marker": {
          "color": "#EF553B",
          "pattern": {
           "shape": ""
          }
         },
         "name": "广东自贸区",
         "offsetgroup": "广东自贸区",
         "orientation": "v",
         "showlegend": true,
         "textposition": "auto",
         "type": "bar",
         "x": [
          "广东自贸区"
         ],
         "xaxis": "x",
         "y": [
          12
         ],
         "yaxis": "y"
        },
        {
         "alignmentgroup": "True",
         "hovertemplate": "name=%{x}<br>count=%{y}<extra></extra>",
         "legendgroup": "钛白粉概念",
         "marker": {
          "color": "#00cc96",
          "pattern": {
           "shape": ""
          }
         },
         "name": "钛白粉概念",
         "offsetgroup": "钛白粉概念",
         "orientation": "v",
         "showlegend": true,
         "textposition": "auto",
         "type": "bar",
         "x": [
          "钛白粉概念"
         ],
         "xaxis": "x",
         "y": [
          12
         ],
         "yaxis": "y"
        },
        {
         "alignmentgroup": "True",
         "hovertemplate": "name=%{x}<br>count=%{y}<extra></extra>",
         "legendgroup": "可燃冰",
         "marker": {
          "color": "#ab63fa",
          "pattern": {
           "shape": ""
          }
         },
         "name": "可燃冰",
         "offsetgroup": "可燃冰",
         "orientation": "v",
         "showlegend": true,
         "textposition": "auto",
         "type": "bar",
         "x": [
          "可燃冰"
         ],
         "xaxis": "x",
         "y": [
          13
         ],
         "yaxis": "y"
        },
        {
         "alignmentgroup": "True",
         "hovertemplate": "name=%{x}<br>count=%{y}<extra></extra>",
         "legendgroup": "社区团购",
         "marker": {
          "color": "#FFA15A",
          "pattern": {
           "shape": ""
          }
         },
         "name": "社区团购",
         "offsetgroup": "社区团购",
         "orientation": "v",
         "showlegend": true,
         "textposition": "auto",
         "type": "bar",
         "x": [
          "社区团购"
         ],
         "xaxis": "x",
         "y": [
          13
         ],
         "yaxis": "y"
        },
        {
         "alignmentgroup": "True",
         "hovertemplate": "name=%{x}<br>count=%{y}<extra></extra>",
         "legendgroup": "电子纸",
         "marker": {
          "color": "#19d3f3",
          "pattern": {
           "shape": ""
          }
         },
         "name": "电子纸",
         "offsetgroup": "电子纸",
         "orientation": "v",
         "showlegend": true,
         "textposition": "auto",
         "type": "bar",
         "x": [
          "电子纸"
         ],
         "xaxis": "x",
         "y": [
          13
         ],
         "yaxis": "y"
        },
        {
         "alignmentgroup": "True",
         "hovertemplate": "name=%{x}<br>count=%{y}<extra></extra>",
         "legendgroup": "太空旅行",
         "marker": {
          "color": "#FF6692",
          "pattern": {
           "shape": ""
          }
         },
         "name": "太空旅行",
         "offsetgroup": "太空旅行",
         "orientation": "v",
         "showlegend": true,
         "textposition": "auto",
         "type": "bar",
         "x": [
          "太空旅行"
         ],
         "xaxis": "x",
         "y": [
          13
         ],
         "yaxis": "y"
        },
        {
         "alignmentgroup": "True",
         "hovertemplate": "name=%{x}<br>count=%{y}<extra></extra>",
         "legendgroup": "汽车拆解概念",
         "marker": {
          "color": "#B6E880",
          "pattern": {
           "shape": ""
          }
         },
         "name": "汽车拆解概念",
         "offsetgroup": "汽车拆解概念",
         "orientation": "v",
         "showlegend": true,
         "textposition": "auto",
         "type": "bar",
         "x": [
          "汽车拆解概念"
         ],
         "xaxis": "x",
         "y": [
          13
         ],
         "yaxis": "y"
        },
        {
         "alignmentgroup": "True",
         "hovertemplate": "name=%{x}<br>count=%{y}<extra></extra>",
         "legendgroup": "鸿蒙概念",
         "marker": {
          "color": "#FF97FF",
          "pattern": {
           "shape": ""
          }
         },
         "name": "鸿蒙概念",
         "offsetgroup": "鸿蒙概念",
         "orientation": "v",
         "showlegend": true,
         "textposition": "auto",
         "type": "bar",
         "x": [
          "鸿蒙概念"
         ],
         "xaxis": "x",
         "y": [
          14
         ],
         "yaxis": "y"
        },
        {
         "alignmentgroup": "True",
         "hovertemplate": "name=%{x}<br>count=%{y}<extra></extra>",
         "legendgroup": "DRG/DIP",
         "marker": {
          "color": "#FECB52",
          "pattern": {
           "shape": ""
          }
         },
         "name": "DRG/DIP",
         "offsetgroup": "DRG/DIP",
         "orientation": "v",
         "showlegend": true,
         "textposition": "auto",
         "type": "bar",
         "x": [
          "DRG/DIP"
         ],
         "xaxis": "x",
         "y": [
          14
         ],
         "yaxis": "y"
        },
        {
         "alignmentgroup": "True",
         "hovertemplate": "name=%{x}<br>count=%{y}<extra></extra>",
         "legendgroup": "WSB概念",
         "marker": {
          "color": "#636efa",
          "pattern": {
           "shape": ""
          }
         },
         "name": "WSB概念",
         "offsetgroup": "WSB概念",
         "orientation": "v",
         "showlegend": true,
         "textposition": "auto",
         "type": "bar",
         "x": [
          "WSB概念"
         ],
         "xaxis": "x",
         "y": [
          14
         ],
         "yaxis": "y"
        },
        {
         "alignmentgroup": "True",
         "hovertemplate": "name=%{x}<br>count=%{y}<extra></extra>",
         "legendgroup": "染料",
         "marker": {
          "color": "#EF553B",
          "pattern": {
           "shape": ""
          }
         },
         "name": "染料",
         "offsetgroup": "染料",
         "orientation": "v",
         "showlegend": true,
         "textposition": "auto",
         "type": "bar",
         "x": [
          "染料"
         ],
         "xaxis": "x",
         "y": [
          14
         ],
         "yaxis": "y"
        },
        {
         "alignmentgroup": "True",
         "hovertemplate": "name=%{x}<br>count=%{y}<extra></extra>",
         "legendgroup": "网约车",
         "marker": {
          "color": "#00cc96",
          "pattern": {
           "shape": ""
          }
         },
         "name": "网约车",
         "offsetgroup": "网约车",
         "orientation": "v",
         "showlegend": true,
         "textposition": "auto",
         "type": "bar",
         "x": [
          "网约车"
         ],
         "xaxis": "x",
         "y": [
          14
         ],
         "yaxis": "y"
        },
        {
         "alignmentgroup": "True",
         "hovertemplate": "name=%{x}<br>count=%{y}<extra></extra>",
         "legendgroup": "互联网彩票",
         "marker": {
          "color": "#ab63fa",
          "pattern": {
           "shape": ""
          }
         },
         "name": "互联网彩票",
         "offsetgroup": "互联网彩票",
         "orientation": "v",
         "showlegend": true,
         "textposition": "auto",
         "type": "bar",
         "x": [
          "互联网彩票"
         ],
         "xaxis": "x",
         "y": [
          15
         ],
         "yaxis": "y"
        },
        {
         "alignmentgroup": "True",
         "hovertemplate": "name=%{x}<br>count=%{y}<extra></extra>",
         "legendgroup": "冰雪产业",
         "marker": {
          "color": "#FFA15A",
          "pattern": {
           "shape": ""
          }
         },
         "name": "冰雪产业",
         "offsetgroup": "冰雪产业",
         "orientation": "v",
         "showlegend": true,
         "textposition": "auto",
         "type": "bar",
         "x": [
          "冰雪产业"
         ],
         "xaxis": "x",
         "y": [
          15
         ],
         "yaxis": "y"
        },
        {
         "alignmentgroup": "True",
         "hovertemplate": "name=%{x}<br>count=%{y}<extra></extra>",
         "legendgroup": "福建自贸区",
         "marker": {
          "color": "#19d3f3",
          "pattern": {
           "shape": ""
          }
         },
         "name": "福建自贸区",
         "offsetgroup": "福建自贸区",
         "orientation": "v",
         "showlegend": true,
         "textposition": "auto",
         "type": "bar",
         "x": [
          "福建自贸区"
         ],
         "xaxis": "x",
         "y": [
          15
         ],
         "yaxis": "y"
        },
        {
         "alignmentgroup": "True",
         "hovertemplate": "name=%{x}<br>count=%{y}<extra></extra>",
         "legendgroup": "牙科医疗",
         "marker": {
          "color": "#FF6692",
          "pattern": {
           "shape": ""
          }
         },
         "name": "牙科医疗",
         "offsetgroup": "牙科医疗",
         "orientation": "v",
         "showlegend": true,
         "textposition": "auto",
         "type": "bar",
         "x": [
          "牙科医疗"
         ],
         "xaxis": "x",
         "y": [
          15
         ],
         "yaxis": "y"
        },
        {
         "alignmentgroup": "True",
         "hovertemplate": "name=%{x}<br>count=%{y}<extra></extra>",
         "legendgroup": "钠离子电池",
         "marker": {
          "color": "#B6E880",
          "pattern": {
           "shape": ""
          }
         },
         "name": "钠离子电池",
         "offsetgroup": "钠离子电池",
         "orientation": "v",
         "showlegend": true,
         "textposition": "auto",
         "type": "bar",
         "x": [
          "钠离子电池"
         ],
         "xaxis": "x",
         "y": [
          15
         ],
         "yaxis": "y"
        },
        {
         "alignmentgroup": "True",
         "hovertemplate": "name=%{x}<br>count=%{y}<extra></extra>",
         "legendgroup": "EDR概念",
         "marker": {
          "color": "#FF97FF",
          "pattern": {
           "shape": ""
          }
         },
         "name": "EDR概念",
         "offsetgroup": "EDR概念",
         "orientation": "v",
         "showlegend": true,
         "textposition": "auto",
         "type": "bar",
         "x": [
          "EDR概念"
         ],
         "xaxis": "x",
         "y": [
          15
         ],
         "yaxis": "y"
        },
        {
         "alignmentgroup": "True",
         "hovertemplate": "name=%{x}<br>count=%{y}<extra></extra>",
         "legendgroup": "净水概念",
         "marker": {
          "color": "#FECB52",
          "pattern": {
           "shape": ""
          }
         },
         "name": "净水概念",
         "offsetgroup": "净水概念",
         "orientation": "v",
         "showlegend": true,
         "textposition": "auto",
         "type": "bar",
         "x": [
          "净水概念"
         ],
         "xaxis": "x",
         "y": [
          15
         ],
         "yaxis": "y"
        },
        {
         "alignmentgroup": "True",
         "hovertemplate": "name=%{x}<br>count=%{y}<extra></extra>",
         "legendgroup": "人造肉",
         "marker": {
          "color": "#636efa",
          "pattern": {
           "shape": ""
          }
         },
         "name": "人造肉",
         "offsetgroup": "人造肉",
         "orientation": "v",
         "showlegend": true,
         "textposition": "auto",
         "type": "bar",
         "x": [
          "人造肉"
         ],
         "xaxis": "x",
         "y": [
          16
         ],
         "yaxis": "y"
        },
        {
         "alignmentgroup": "True",
         "hovertemplate": "name=%{x}<br>count=%{y}<extra></extra>",
         "legendgroup": "玉米",
         "marker": {
          "color": "#EF553B",
          "pattern": {
           "shape": ""
          }
         },
         "name": "玉米",
         "offsetgroup": "玉米",
         "orientation": "v",
         "showlegend": true,
         "textposition": "auto",
         "type": "bar",
         "x": [
          "玉米"
         ],
         "xaxis": "x",
         "y": [
          16
         ],
         "yaxis": "y"
        },
        {
         "alignmentgroup": "True",
         "hovertemplate": "name=%{x}<br>count=%{y}<extra></extra>",
         "legendgroup": "动物疫苗",
         "marker": {
          "color": "#00cc96",
          "pattern": {
           "shape": ""
          }
         },
         "name": "动物疫苗",
         "offsetgroup": "动物疫苗",
         "orientation": "v",
         "showlegend": true,
         "textposition": "auto",
         "type": "bar",
         "x": [
          "动物疫苗"
         ],
         "xaxis": "x",
         "y": [
          16
         ],
         "yaxis": "y"
        },
        {
         "alignmentgroup": "True",
         "hovertemplate": "name=%{x}<br>count=%{y}<extra></extra>",
         "legendgroup": "太阳能",
         "marker": {
          "color": "#ab63fa",
          "pattern": {
           "shape": ""
          }
         },
         "name": "太阳能",
         "offsetgroup": "太阳能",
         "orientation": "v",
         "showlegend": true,
         "textposition": "auto",
         "type": "bar",
         "x": [
          "太阳能"
         ],
         "xaxis": "x",
         "y": [
          16
         ],
         "yaxis": "y"
        },
        {
         "alignmentgroup": "True",
         "hovertemplate": "name=%{x}<br>count=%{y}<extra></extra>",
         "legendgroup": "无人零售",
         "marker": {
          "color": "#FFA15A",
          "pattern": {
           "shape": ""
          }
         },
         "name": "无人零售",
         "offsetgroup": "无人零售",
         "orientation": "v",
         "showlegend": true,
         "textposition": "auto",
         "type": "bar",
         "x": [
          "无人零售"
         ],
         "xaxis": "x",
         "y": [
          17
         ],
         "yaxis": "y"
        },
        {
         "alignmentgroup": "True",
         "hovertemplate": "name=%{x}<br>count=%{y}<extra></extra>",
         "legendgroup": "代糖概念",
         "marker": {
          "color": "#19d3f3",
          "pattern": {
           "shape": ""
          }
         },
         "name": "代糖概念",
         "offsetgroup": "代糖概念",
         "orientation": "v",
         "showlegend": true,
         "textposition": "auto",
         "type": "bar",
         "x": [
          "代糖概念"
         ],
         "xaxis": "x",
         "y": [
          17
         ],
         "yaxis": "y"
        },
        {
         "alignmentgroup": "True",
         "hovertemplate": "name=%{x}<br>count=%{y}<extra></extra>",
         "legendgroup": "在线旅游",
         "marker": {
          "color": "#FF6692",
          "pattern": {
           "shape": ""
          }
         },
         "name": "在线旅游",
         "offsetgroup": "在线旅游",
         "orientation": "v",
         "showlegend": true,
         "textposition": "auto",
         "type": "bar",
         "x": [
          "在线旅游"
         ],
         "xaxis": "x",
         "y": [
          17
         ],
         "yaxis": "y"
        },
        {
         "alignmentgroup": "True",
         "hovertemplate": "name=%{x}<br>count=%{y}<extra></extra>",
         "legendgroup": "北交所概念",
         "marker": {
          "color": "#B6E880",
          "pattern": {
           "shape": ""
          }
         },
         "name": "北交所概念",
         "offsetgroup": "北交所概念",
         "orientation": "v",
         "showlegend": true,
         "textposition": "auto",
         "type": "bar",
         "x": [
          "北交所概念"
         ],
         "xaxis": "x",
         "y": [
          17
         ],
         "yaxis": "y"
        },
        {
         "alignmentgroup": "True",
         "hovertemplate": "name=%{x}<br>count=%{y}<extra></extra>",
         "legendgroup": "硅能源",
         "marker": {
          "color": "#FF97FF",
          "pattern": {
           "shape": ""
          }
         },
         "name": "硅能源",
         "offsetgroup": "硅能源",
         "orientation": "v",
         "showlegend": true,
         "textposition": "auto",
         "type": "bar",
         "x": [
          "硅能源"
         ],
         "xaxis": "x",
         "y": [
          17
         ],
         "yaxis": "y"
        },
        {
         "alignmentgroup": "True",
         "hovertemplate": "name=%{x}<br>count=%{y}<extra></extra>",
         "legendgroup": "养鸡",
         "marker": {
          "color": "#FECB52",
          "pattern": {
           "shape": ""
          }
         },
         "name": "养鸡",
         "offsetgroup": "养鸡",
         "orientation": "v",
         "showlegend": true,
         "textposition": "auto",
         "type": "bar",
         "x": [
          "养鸡"
         ],
         "xaxis": "x",
         "y": [
          18
         ],
         "yaxis": "y"
        },
        {
         "alignmentgroup": "True",
         "hovertemplate": "name=%{x}<br>count=%{y}<extra></extra>",
         "legendgroup": "5G",
         "marker": {
          "color": "#636efa",
          "pattern": {
           "shape": ""
          }
         },
         "name": "5G",
         "offsetgroup": "5G",
         "orientation": "v",
         "showlegend": true,
         "textposition": "auto",
         "type": "bar",
         "x": [
          "5G"
         ],
         "xaxis": "x",
         "y": [
          18
         ],
         "yaxis": "y"
        },
        {
         "alignmentgroup": "True",
         "hovertemplate": "name=%{x}<br>count=%{y}<extra></extra>",
         "legendgroup": "草地贪夜蛾防治",
         "marker": {
          "color": "#EF553B",
          "pattern": {
           "shape": ""
          }
         },
         "name": "草地贪夜蛾防治",
         "offsetgroup": "草地贪夜蛾防治",
         "orientation": "v",
         "showlegend": true,
         "textposition": "auto",
         "type": "bar",
         "x": [
          "草地贪夜蛾防治"
         ],
         "xaxis": "x",
         "y": [
          18
         ],
         "yaxis": "y"
        },
        {
         "alignmentgroup": "True",
         "hovertemplate": "name=%{x}<br>count=%{y}<extra></extra>",
         "legendgroup": "NFT",
         "marker": {
          "color": "#00cc96",
          "pattern": {
           "shape": ""
          }
         },
         "name": "NFT",
         "offsetgroup": "NFT",
         "orientation": "v",
         "showlegend": true,
         "textposition": "auto",
         "type": "bar",
         "x": [
          "NFT"
         ],
         "xaxis": "x",
         "y": [
          18
         ],
         "yaxis": "y"
        },
        {
         "alignmentgroup": "True",
         "hovertemplate": "name=%{x}<br>count=%{y}<extra></extra>",
         "legendgroup": "足球概念",
         "marker": {
          "color": "#ab63fa",
          "pattern": {
           "shape": ""
          }
         },
         "name": "足球概念",
         "offsetgroup": "足球概念",
         "orientation": "v",
         "showlegend": true,
         "textposition": "auto",
         "type": "bar",
         "x": [
          "足球概念"
         ],
         "xaxis": "x",
         "y": [
          18
         ],
         "yaxis": "y"
        },
        {
         "alignmentgroup": "True",
         "hovertemplate": "name=%{x}<br>count=%{y}<extra></extra>",
         "legendgroup": "民爆概念",
         "marker": {
          "color": "#FFA15A",
          "pattern": {
           "shape": ""
          }
         },
         "name": "民爆概念",
         "offsetgroup": "民爆概念",
         "orientation": "v",
         "showlegend": true,
         "textposition": "auto",
         "type": "bar",
         "x": [
          "民爆概念"
         ],
         "xaxis": "x",
         "y": [
          18
         ],
         "yaxis": "y"
        },
        {
         "alignmentgroup": "True",
         "hovertemplate": "name=%{x}<br>count=%{y}<extra></extra>",
         "legendgroup": "新三板精选层概念",
         "marker": {
          "color": "#19d3f3",
          "pattern": {
           "shape": ""
          }
         },
         "name": "新三板精选层概念",
         "offsetgroup": "新三板精选层概念",
         "orientation": "v",
         "showlegend": true,
         "textposition": "auto",
         "type": "bar",
         "x": [
          "新三板精选层概念"
         ],
         "xaxis": "x",
         "y": [
          19
         ],
         "yaxis": "y"
        },
        {
         "alignmentgroup": "True",
         "hovertemplate": "name=%{x}<br>count=%{y}<extra></extra>",
         "legendgroup": "NMN概念",
         "marker": {
          "color": "#FF6692",
          "pattern": {
           "shape": ""
          }
         },
         "name": "NMN概念",
         "offsetgroup": "NMN概念",
         "orientation": "v",
         "showlegend": true,
         "textposition": "auto",
         "type": "bar",
         "x": [
          "NMN概念"
         ],
         "xaxis": "x",
         "y": [
          19
         ],
         "yaxis": "y"
        },
        {
         "alignmentgroup": "True",
         "hovertemplate": "name=%{x}<br>count=%{y}<extra></extra>",
         "legendgroup": "华为海思概念股",
         "marker": {
          "color": "#B6E880",
          "pattern": {
           "shape": ""
          }
         },
         "name": "华为海思概念股",
         "offsetgroup": "华为海思概念股",
         "orientation": "v",
         "showlegend": true,
         "textposition": "auto",
         "type": "bar",
         "x": [
          "华为海思概念股"
         ],
         "xaxis": "x",
         "y": [
          19
         ],
         "yaxis": "y"
        },
        {
         "alignmentgroup": "True",
         "hovertemplate": "name=%{x}<br>count=%{y}<extra></extra>",
         "legendgroup": "大麻",
         "marker": {
          "color": "#FF97FF",
          "pattern": {
           "shape": ""
          }
         },
         "name": "大麻",
         "offsetgroup": "大麻",
         "orientation": "v",
         "showlegend": true,
         "textposition": "auto",
         "type": "bar",
         "x": [
          "大麻"
         ],
         "xaxis": "x",
         "y": [
          20
         ],
         "yaxis": "y"
        },
        {
         "alignmentgroup": "True",
         "hovertemplate": "name=%{x}<br>count=%{y}<extra></extra>",
         "legendgroup": "智慧灯杆",
         "marker": {
          "color": "#FECB52",
          "pattern": {
           "shape": ""
          }
         },
         "name": "智慧灯杆",
         "offsetgroup": "智慧灯杆",
         "orientation": "v",
         "showlegend": true,
         "textposition": "auto",
         "type": "bar",
         "x": [
          "智慧灯杆"
         ],
         "xaxis": "x",
         "y": [
          20
         ],
         "yaxis": "y"
        },
        {
         "alignmentgroup": "True",
         "hovertemplate": "name=%{x}<br>count=%{y}<extra></extra>",
         "legendgroup": "数据安全",
         "marker": {
          "color": "#636efa",
          "pattern": {
           "shape": ""
          }
         },
         "name": "数据安全",
         "offsetgroup": "数据安全",
         "orientation": "v",
         "showlegend": true,
         "textposition": "auto",
         "type": "bar",
         "x": [
          "数据安全"
         ],
         "xaxis": "x",
         "y": [
          20
         ],
         "yaxis": "y"
        },
        {
         "alignmentgroup": "True",
         "hovertemplate": "name=%{x}<br>count=%{y}<extra></extra>",
         "legendgroup": "PCB概念",
         "marker": {
          "color": "#EF553B",
          "pattern": {
           "shape": ""
          }
         },
         "name": "PCB概念",
         "offsetgroup": "PCB概念",
         "orientation": "v",
         "showlegend": true,
         "textposition": "auto",
         "type": "bar",
         "x": [
          "PCB概念"
         ],
         "xaxis": "x",
         "y": [
          20
         ],
         "yaxis": "y"
        },
        {
         "alignmentgroup": "True",
         "hovertemplate": "name=%{x}<br>count=%{y}<extra></extra>",
         "legendgroup": "智能音箱",
         "marker": {
          "color": "#00cc96",
          "pattern": {
           "shape": ""
          }
         },
         "name": "智能音箱",
         "offsetgroup": "智能音箱",
         "orientation": "v",
         "showlegend": true,
         "textposition": "auto",
         "type": "bar",
         "x": [
          "智能音箱"
         ],
         "xaxis": "x",
         "y": [
          20
         ],
         "yaxis": "y"
        },
        {
         "alignmentgroup": "True",
         "hovertemplate": "name=%{x}<br>count=%{y}<extra></extra>",
         "legendgroup": "租售同权",
         "marker": {
          "color": "#ab63fa",
          "pattern": {
           "shape": ""
          }
         },
         "name": "租售同权",
         "offsetgroup": "租售同权",
         "orientation": "v",
         "showlegend": true,
         "textposition": "auto",
         "type": "bar",
         "x": [
          "租售同权"
         ],
         "xaxis": "x",
         "y": [
          20
         ],
         "yaxis": "y"
        },
        {
         "alignmentgroup": "True",
         "hovertemplate": "name=%{x}<br>count=%{y}<extra></extra>",
         "legendgroup": "新能源车",
         "marker": {
          "color": "#FFA15A",
          "pattern": {
           "shape": ""
          }
         },
         "name": "新能源车",
         "offsetgroup": "新能源车",
         "orientation": "v",
         "showlegend": true,
         "textposition": "auto",
         "type": "bar",
         "x": [
          "新能源车"
         ],
         "xaxis": "x",
         "y": [
          20
         ],
         "yaxis": "y"
        },
        {
         "alignmentgroup": "True",
         "hovertemplate": "name=%{x}<br>count=%{y}<extra></extra>",
         "legendgroup": "WiFi 6",
         "marker": {
          "color": "#19d3f3",
          "pattern": {
           "shape": ""
          }
         },
         "name": "WiFi 6",
         "offsetgroup": "WiFi 6",
         "orientation": "v",
         "showlegend": true,
         "textposition": "auto",
         "type": "bar",
         "x": [
          "WiFi 6"
         ],
         "xaxis": "x",
         "y": [
          20
         ],
         "yaxis": "y"
        },
        {
         "alignmentgroup": "True",
         "hovertemplate": "name=%{x}<br>count=%{y}<extra></extra>",
         "legendgroup": "云游戏",
         "marker": {
          "color": "#FF6692",
          "pattern": {
           "shape": ""
          }
         },
         "name": "云游戏",
         "offsetgroup": "云游戏",
         "orientation": "v",
         "showlegend": true,
         "textposition": "auto",
         "type": "bar",
         "x": [
          "云游戏"
         ],
         "xaxis": "x",
         "y": [
          21
         ],
         "yaxis": "y"
        },
        {
         "alignmentgroup": "True",
         "hovertemplate": "name=%{x}<br>count=%{y}<extra></extra>",
         "legendgroup": "超级真菌",
         "marker": {
          "color": "#B6E880",
          "pattern": {
           "shape": ""
          }
         },
         "name": "超级真菌",
         "offsetgroup": "超级真菌",
         "orientation": "v",
         "showlegend": true,
         "textposition": "auto",
         "type": "bar",
         "x": [
          "超级真菌"
         ],
         "xaxis": "x",
         "y": [
          21
         ],
         "yaxis": "y"
        },
        {
         "alignmentgroup": "True",
         "hovertemplate": "name=%{x}<br>count=%{y}<extra></extra>",
         "legendgroup": "特钢概念",
         "marker": {
          "color": "#FF97FF",
          "pattern": {
           "shape": ""
          }
         },
         "name": "特钢概念",
         "offsetgroup": "特钢概念",
         "orientation": "v",
         "showlegend": true,
         "textposition": "auto",
         "type": "bar",
         "x": [
          "特钢概念"
         ],
         "xaxis": "x",
         "y": [
          21
         ],
         "yaxis": "y"
        },
        {
         "alignmentgroup": "True",
         "hovertemplate": "name=%{x}<br>count=%{y}<extra></extra>",
         "legendgroup": "氟化工概念",
         "marker": {
          "color": "#FECB52",
          "pattern": {
           "shape": ""
          }
         },
         "name": "氟化工概念",
         "offsetgroup": "氟化工概念",
         "orientation": "v",
         "showlegend": true,
         "textposition": "auto",
         "type": "bar",
         "x": [
          "氟化工概念"
         ],
         "xaxis": "x",
         "y": [
          21
         ],
         "yaxis": "y"
        },
        {
         "alignmentgroup": "True",
         "hovertemplate": "name=%{x}<br>count=%{y}<extra></extra>",
         "legendgroup": "有机硅概念",
         "marker": {
          "color": "#636efa",
          "pattern": {
           "shape": ""
          }
         },
         "name": "有机硅概念",
         "offsetgroup": "有机硅概念",
         "orientation": "v",
         "showlegend": true,
         "textposition": "auto",
         "type": "bar",
         "x": [
          "有机硅概念"
         ],
         "xaxis": "x",
         "y": [
          22
         ],
         "yaxis": "y"
        },
        {
         "alignmentgroup": "True",
         "hovertemplate": "name=%{x}<br>count=%{y}<extra></extra>",
         "legendgroup": "碳纤维",
         "marker": {
          "color": "#EF553B",
          "pattern": {
           "shape": ""
          }
         },
         "name": "碳纤维",
         "offsetgroup": "碳纤维",
         "orientation": "v",
         "showlegend": true,
         "textposition": "auto",
         "type": "bar",
         "x": [
          "碳纤维"
         ],
         "xaxis": "x",
         "y": [
          22
         ],
         "yaxis": "y"
        },
        {
         "alignmentgroup": "True",
         "hovertemplate": "name=%{x}<br>count=%{y}<extra></extra>",
         "legendgroup": "互联网保险",
         "marker": {
          "color": "#00cc96",
          "pattern": {
           "shape": ""
          }
         },
         "name": "互联网保险",
         "offsetgroup": "互联网保险",
         "orientation": "v",
         "showlegend": true,
         "textposition": "auto",
         "type": "bar",
         "x": [
          "互联网保险"
         ],
         "xaxis": "x",
         "y": [
          22
         ],
         "yaxis": "y"
        },
        {
         "alignmentgroup": "True",
         "hovertemplate": "name=%{x}<br>count=%{y}<extra></extra>",
         "legendgroup": "自由贸易港",
         "marker": {
          "color": "#ab63fa",
          "pattern": {
           "shape": ""
          }
         },
         "name": "自由贸易港",
         "offsetgroup": "自由贸易港",
         "orientation": "v",
         "showlegend": true,
         "textposition": "auto",
         "type": "bar",
         "x": [
          "自由贸易港"
         ],
         "xaxis": "x",
         "y": [
          23
         ],
         "yaxis": "y"
        },
        {
         "alignmentgroup": "True",
         "hovertemplate": "name=%{x}<br>count=%{y}<extra></extra>",
         "legendgroup": "抽水蓄能",
         "marker": {
          "color": "#FFA15A",
          "pattern": {
           "shape": ""
          }
         },
         "name": "抽水蓄能",
         "offsetgroup": "抽水蓄能",
         "orientation": "v",
         "showlegend": true,
         "textposition": "auto",
         "type": "bar",
         "x": [
          "抽水蓄能"
         ],
         "xaxis": "x",
         "y": [
          23
         ],
         "yaxis": "y"
        },
        {
         "alignmentgroup": "True",
         "hovertemplate": "name=%{x}<br>count=%{y}<extra></extra>",
         "legendgroup": "室外经济",
         "marker": {
          "color": "#19d3f3",
          "pattern": {
           "shape": ""
          }
         },
         "name": "室外经济",
         "offsetgroup": "室外经济",
         "orientation": "v",
         "showlegend": true,
         "textposition": "auto",
         "type": "bar",
         "x": [
          "室外经济"
         ],
         "xaxis": "x",
         "y": [
          24
         ],
         "yaxis": "y"
        },
        {
         "alignmentgroup": "True",
         "hovertemplate": "name=%{x}<br>count=%{y}<extra></extra>",
         "legendgroup": "海峡两岸",
         "marker": {
          "color": "#FF6692",
          "pattern": {
           "shape": ""
          }
         },
         "name": "海峡两岸",
         "offsetgroup": "海峡两岸",
         "orientation": "v",
         "showlegend": true,
         "textposition": "auto",
         "type": "bar",
         "x": [
          "海峡两岸"
         ],
         "xaxis": "x",
         "y": [
          24
         ],
         "yaxis": "y"
        },
        {
         "alignmentgroup": "True",
         "hovertemplate": "name=%{x}<br>count=%{y}<extra></extra>",
         "legendgroup": "航运概念",
         "marker": {
          "color": "#B6E880",
          "pattern": {
           "shape": ""
          }
         },
         "name": "航运概念",
         "offsetgroup": "航运概念",
         "orientation": "v",
         "showlegend": true,
         "textposition": "auto",
         "type": "bar",
         "x": [
          "航运概念"
         ],
         "xaxis": "x",
         "y": [
          25
         ],
         "yaxis": "y"
        },
        {
         "alignmentgroup": "True",
         "hovertemplate": "name=%{x}<br>count=%{y}<extra></extra>",
         "legendgroup": "烟草",
         "marker": {
          "color": "#FF97FF",
          "pattern": {
           "shape": ""
          }
         },
         "name": "烟草",
         "offsetgroup": "烟草",
         "orientation": "v",
         "showlegend": true,
         "textposition": "auto",
         "type": "bar",
         "x": [
          "烟草"
         ],
         "xaxis": "x",
         "y": [
          25
         ],
         "yaxis": "y"
        },
        {
         "alignmentgroup": "True",
         "hovertemplate": "name=%{x}<br>count=%{y}<extra></extra>",
         "legendgroup": "物业管理",
         "marker": {
          "color": "#FECB52",
          "pattern": {
           "shape": ""
          }
         },
         "name": "物业管理",
         "offsetgroup": "物业管理",
         "orientation": "v",
         "showlegend": true,
         "textposition": "auto",
         "type": "bar",
         "x": [
          "物业管理"
         ],
         "xaxis": "x",
         "y": [
          26
         ],
         "yaxis": "y"
        },
        {
         "alignmentgroup": "True",
         "hovertemplate": "name=%{x}<br>count=%{y}<extra></extra>",
         "legendgroup": "信托概念",
         "marker": {
          "color": "#636efa",
          "pattern": {
           "shape": ""
          }
         },
         "name": "信托概念",
         "offsetgroup": "信托概念",
         "orientation": "v",
         "showlegend": true,
         "textposition": "auto",
         "type": "bar",
         "x": [
          "信托概念"
         ],
         "xaxis": "x",
         "y": [
          26
         ],
         "yaxis": "y"
        },
        {
         "alignmentgroup": "True",
         "hovertemplate": "name=%{x}<br>count=%{y}<extra></extra>",
         "legendgroup": "NFT概念",
         "marker": {
          "color": "#EF553B",
          "pattern": {
           "shape": ""
          }
         },
         "name": "NFT概念",
         "offsetgroup": "NFT概念",
         "orientation": "v",
         "showlegend": true,
         "textposition": "auto",
         "type": "bar",
         "x": [
          "NFT概念"
         ],
         "xaxis": "x",
         "y": [
          26
         ],
         "yaxis": "y"
        },
        {
         "alignmentgroup": "True",
         "hovertemplate": "name=%{x}<br>count=%{y}<extra></extra>",
         "legendgroup": "胎压监测",
         "marker": {
          "color": "#00cc96",
          "pattern": {
           "shape": ""
          }
         },
         "name": "胎压监测",
         "offsetgroup": "胎压监测",
         "orientation": "v",
         "showlegend": true,
         "textposition": "auto",
         "type": "bar",
         "x": [
          "胎压监测"
         ],
         "xaxis": "x",
         "y": [
          26
         ],
         "yaxis": "y"
        },
        {
         "alignmentgroup": "True",
         "hovertemplate": "name=%{x}<br>count=%{y}<extra></extra>",
         "legendgroup": "钴",
         "marker": {
          "color": "#ab63fa",
          "pattern": {
           "shape": ""
          }
         },
         "name": "钴",
         "offsetgroup": "钴",
         "orientation": "v",
         "showlegend": true,
         "textposition": "auto",
         "type": "bar",
         "x": [
          "钴"
         ],
         "xaxis": "x",
         "y": [
          27
         ],
         "yaxis": "y"
        },
        {
         "alignmentgroup": "True",
         "hovertemplate": "name=%{x}<br>count=%{y}<extra></extra>",
         "legendgroup": "CRO概念",
         "marker": {
          "color": "#FFA15A",
          "pattern": {
           "shape": ""
          }
         },
         "name": "CRO概念",
         "offsetgroup": "CRO概念",
         "orientation": "v",
         "showlegend": true,
         "textposition": "auto",
         "type": "bar",
         "x": [
          "CRO概念"
         ],
         "xaxis": "x",
         "y": [
          27
         ],
         "yaxis": "y"
        },
        {
         "alignmentgroup": "True",
         "hovertemplate": "name=%{x}<br>count=%{y}<extra></extra>",
         "legendgroup": "新冠概念",
         "marker": {
          "color": "#19d3f3",
          "pattern": {
           "shape": ""
          }
         },
         "name": "新冠概念",
         "offsetgroup": "新冠概念",
         "orientation": "v",
         "showlegend": true,
         "textposition": "auto",
         "type": "bar",
         "x": [
          "新冠概念"
         ],
         "xaxis": "x",
         "y": [
          27
         ],
         "yaxis": "y"
        },
        {
         "alignmentgroup": "True",
         "hovertemplate": "name=%{x}<br>count=%{y}<extra></extra>",
         "legendgroup": "汽车芯片",
         "marker": {
          "color": "#FF6692",
          "pattern": {
           "shape": ""
          }
         },
         "name": "汽车芯片",
         "offsetgroup": "汽车芯片",
         "orientation": "v",
         "showlegend": true,
         "textposition": "auto",
         "type": "bar",
         "x": [
          "汽车芯片"
         ],
         "xaxis": "x",
         "y": [
          27
         ],
         "yaxis": "y"
        },
        {
         "alignmentgroup": "True",
         "hovertemplate": "name=%{x}<br>count=%{y}<extra></extra>",
         "legendgroup": "快手概念",
         "marker": {
          "color": "#B6E880",
          "pattern": {
           "shape": ""
          }
         },
         "name": "快手概念",
         "offsetgroup": "快手概念",
         "orientation": "v",
         "showlegend": true,
         "textposition": "auto",
         "type": "bar",
         "x": [
          "快手概念"
         ],
         "xaxis": "x",
         "y": [
          27
         ],
         "yaxis": "y"
        },
        {
         "alignmentgroup": "True",
         "hovertemplate": "name=%{x}<br>count=%{y}<extra></extra>",
         "legendgroup": "盐湖提锂",
         "marker": {
          "color": "#FF97FF",
          "pattern": {
           "shape": ""
          }
         },
         "name": "盐湖提锂",
         "offsetgroup": "盐湖提锂",
         "orientation": "v",
         "showlegend": true,
         "textposition": "auto",
         "type": "bar",
         "x": [
          "盐湖提锂"
         ],
         "xaxis": "x",
         "y": [
          27
         ],
         "yaxis": "y"
        },
        {
         "alignmentgroup": "True",
         "hovertemplate": "name=%{x}<br>count=%{y}<extra></extra>",
         "legendgroup": "跨境支付（CIPS）",
         "marker": {
          "color": "#FECB52",
          "pattern": {
           "shape": ""
          }
         },
         "name": "跨境支付（CIPS）",
         "offsetgroup": "跨境支付（CIPS）",
         "orientation": "v",
         "showlegend": true,
         "textposition": "auto",
         "type": "bar",
         "x": [
          "跨境支付（CIPS）"
         ],
         "xaxis": "x",
         "y": [
          27
         ],
         "yaxis": "y"
        },
        {
         "alignmentgroup": "True",
         "hovertemplate": "name=%{x}<br>count=%{y}<extra></extra>",
         "legendgroup": "细胞免疫治疗",
         "marker": {
          "color": "#636efa",
          "pattern": {
           "shape": ""
          }
         },
         "name": "细胞免疫治疗",
         "offsetgroup": "细胞免疫治疗",
         "orientation": "v",
         "showlegend": true,
         "textposition": "auto",
         "type": "bar",
         "x": [
          "细胞免疫治疗"
         ],
         "xaxis": "x",
         "y": [
          27
         ],
         "yaxis": "y"
        },
        {
         "alignmentgroup": "True",
         "hovertemplate": "name=%{x}<br>count=%{y}<extra></extra>",
         "legendgroup": "动力电池回收",
         "marker": {
          "color": "#EF553B",
          "pattern": {
           "shape": ""
          }
         },
         "name": "动力电池回收",
         "offsetgroup": "动力电池回收",
         "orientation": "v",
         "showlegend": true,
         "textposition": "auto",
         "type": "bar",
         "x": [
          "动力电池回收"
         ],
         "xaxis": "x",
         "y": [
          28
         ],
         "yaxis": "y"
        },
        {
         "alignmentgroup": "True",
         "hovertemplate": "name=%{x}<br>count=%{y}<extra></extra>",
         "legendgroup": "超级电容",
         "marker": {
          "color": "#00cc96",
          "pattern": {
           "shape": ""
          }
         },
         "name": "超级电容",
         "offsetgroup": "超级电容",
         "orientation": "v",
         "showlegend": true,
         "textposition": "auto",
         "type": "bar",
         "x": [
          "超级电容"
         ],
         "xaxis": "x",
         "y": [
          28
         ],
         "yaxis": "y"
        },
        {
         "alignmentgroup": "True",
         "hovertemplate": "name=%{x}<br>count=%{y}<extra></extra>",
         "legendgroup": "超级品牌",
         "marker": {
          "color": "#ab63fa",
          "pattern": {
           "shape": ""
          }
         },
         "name": "超级品牌",
         "offsetgroup": "超级品牌",
         "orientation": "v",
         "showlegend": true,
         "textposition": "auto",
         "type": "bar",
         "x": [
          "超级品牌"
         ],
         "xaxis": "x",
         "y": [
          28
         ],
         "yaxis": "y"
        },
        {
         "alignmentgroup": "True",
         "hovertemplate": "name=%{x}<br>count=%{y}<extra></extra>",
         "legendgroup": "乳业",
         "marker": {
          "color": "#FFA15A",
          "pattern": {
           "shape": ""
          }
         },
         "name": "乳业",
         "offsetgroup": "乳业",
         "orientation": "v",
         "showlegend": true,
         "textposition": "auto",
         "type": "bar",
         "x": [
          "乳业"
         ],
         "xaxis": "x",
         "y": [
          29
         ],
         "yaxis": "y"
        },
        {
         "alignmentgroup": "True",
         "hovertemplate": "name=%{x}<br>count=%{y}<extra></extra>",
         "legendgroup": "新冠治疗",
         "marker": {
          "color": "#19d3f3",
          "pattern": {
           "shape": ""
          }
         },
         "name": "新冠治疗",
         "offsetgroup": "新冠治疗",
         "orientation": "v",
         "showlegend": true,
         "textposition": "auto",
         "type": "bar",
         "x": [
          "新冠治疗"
         ],
         "xaxis": "x",
         "y": [
          29
         ],
         "yaxis": "y"
        },
        {
         "alignmentgroup": "True",
         "hovertemplate": "name=%{x}<br>count=%{y}<extra></extra>",
         "legendgroup": "云办公",
         "marker": {
          "color": "#FF6692",
          "pattern": {
           "shape": ""
          }
         },
         "name": "云办公",
         "offsetgroup": "云办公",
         "orientation": "v",
         "showlegend": true,
         "textposition": "auto",
         "type": "bar",
         "x": [
          "云办公"
         ],
         "xaxis": "x",
         "y": [
          29
         ],
         "yaxis": "y"
        },
        {
         "alignmentgroup": "True",
         "hovertemplate": "name=%{x}<br>count=%{y}<extra></extra>",
         "legendgroup": "医疗废物处理",
         "marker": {
          "color": "#B6E880",
          "pattern": {
           "shape": ""
          }
         },
         "name": "医疗废物处理",
         "offsetgroup": "医疗废物处理",
         "orientation": "v",
         "showlegend": true,
         "textposition": "auto",
         "type": "bar",
         "x": [
          "医疗废物处理"
         ],
         "xaxis": "x",
         "y": [
          29
         ],
         "yaxis": "y"
        },
        {
         "alignmentgroup": "True",
         "hovertemplate": "name=%{x}<br>count=%{y}<extra></extra>",
         "legendgroup": "深圳国资改革",
         "marker": {
          "color": "#FF97FF",
          "pattern": {
           "shape": ""
          }
         },
         "name": "深圳国资改革",
         "offsetgroup": "深圳国资改革",
         "orientation": "v",
         "showlegend": true,
         "textposition": "auto",
         "type": "bar",
         "x": [
          "深圳国资改革"
         ],
         "xaxis": "x",
         "y": [
          29
         ],
         "yaxis": "y"
        },
        {
         "alignmentgroup": "True",
         "hovertemplate": "name=%{x}<br>count=%{y}<extra></extra>",
         "legendgroup": "农机",
         "marker": {
          "color": "#FECB52",
          "pattern": {
           "shape": ""
          }
         },
         "name": "农机",
         "offsetgroup": "农机",
         "orientation": "v",
         "showlegend": true,
         "textposition": "auto",
         "type": "bar",
         "x": [
          "农机"
         ],
         "xaxis": "x",
         "y": [
          29
         ],
         "yaxis": "y"
        },
        {
         "alignmentgroup": "True",
         "hovertemplate": "name=%{x}<br>count=%{y}<extra></extra>",
         "legendgroup": "富媒体",
         "marker": {
          "color": "#636efa",
          "pattern": {
           "shape": ""
          }
         },
         "name": "富媒体",
         "offsetgroup": "富媒体",
         "orientation": "v",
         "showlegend": true,
         "textposition": "auto",
         "type": "bar",
         "x": [
          "富媒体"
         ],
         "xaxis": "x",
         "y": [
          29
         ],
         "yaxis": "y"
        },
        {
         "alignmentgroup": "True",
         "hovertemplate": "name=%{x}<br>count=%{y}<extra></extra>",
         "legendgroup": "HJT电池",
         "marker": {
          "color": "#EF553B",
          "pattern": {
           "shape": ""
          }
         },
         "name": "HJT电池",
         "offsetgroup": "HJT电池",
         "orientation": "v",
         "showlegend": true,
         "textposition": "auto",
         "type": "bar",
         "x": [
          "HJT电池"
         ],
         "xaxis": "x",
         "y": [
          30
         ],
         "yaxis": "y"
        },
        {
         "alignmentgroup": "True",
         "hovertemplate": "name=%{x}<br>count=%{y}<extra></extra>",
         "legendgroup": "MCU芯片",
         "marker": {
          "color": "#00cc96",
          "pattern": {
           "shape": ""
          }
         },
         "name": "MCU芯片",
         "offsetgroup": "MCU芯片",
         "orientation": "v",
         "showlegend": true,
         "textposition": "auto",
         "type": "bar",
         "x": [
          "MCU芯片"
         ],
         "xaxis": "x",
         "y": [
          30
         ],
         "yaxis": "y"
        },
        {
         "alignmentgroup": "True",
         "hovertemplate": "name=%{x}<br>count=%{y}<extra></extra>",
         "legendgroup": "特色小镇",
         "marker": {
          "color": "#ab63fa",
          "pattern": {
           "shape": ""
          }
         },
         "name": "特色小镇",
         "offsetgroup": "特色小镇",
         "orientation": "v",
         "showlegend": true,
         "textposition": "auto",
         "type": "bar",
         "x": [
          "特色小镇"
         ],
         "xaxis": "x",
         "y": [
          31
         ],
         "yaxis": "y"
        },
        {
         "alignmentgroup": "True",
         "hovertemplate": "name=%{x}<br>count=%{y}<extra></extra>",
         "legendgroup": "猪肉",
         "marker": {
          "color": "#FFA15A",
          "pattern": {
           "shape": ""
          }
         },
         "name": "猪肉",
         "offsetgroup": "猪肉",
         "orientation": "v",
         "showlegend": true,
         "textposition": "auto",
         "type": "bar",
         "x": [
          "猪肉"
         ],
         "xaxis": "x",
         "y": [
          31
         ],
         "yaxis": "y"
        },
        {
         "alignmentgroup": "True",
         "hovertemplate": "name=%{x}<br>count=%{y}<extra></extra>",
         "legendgroup": "电子竞技",
         "marker": {
          "color": "#19d3f3",
          "pattern": {
           "shape": ""
          }
         },
         "name": "电子竞技",
         "offsetgroup": "电子竞技",
         "orientation": "v",
         "showlegend": true,
         "textposition": "auto",
         "type": "bar",
         "x": [
          "电子竞技"
         ],
         "xaxis": "x",
         "y": [
          31
         ],
         "yaxis": "y"
        },
        {
         "alignmentgroup": "True",
         "hovertemplate": "name=%{x}<br>count=%{y}<extra></extra>",
         "legendgroup": "眼科医疗",
         "marker": {
          "color": "#FF6692",
          "pattern": {
           "shape": ""
          }
         },
         "name": "眼科医疗",
         "offsetgroup": "眼科医疗",
         "orientation": "v",
         "showlegend": true,
         "textposition": "auto",
         "type": "bar",
         "x": [
          "眼科医疗"
         ],
         "xaxis": "x",
         "y": [
          31
         ],
         "yaxis": "y"
        },
        {
         "alignmentgroup": "True",
         "hovertemplate": "name=%{x}<br>count=%{y}<extra></extra>",
         "legendgroup": "换电概念",
         "marker": {
          "color": "#B6E880",
          "pattern": {
           "shape": ""
          }
         },
         "name": "换电概念",
         "offsetgroup": "换电概念",
         "orientation": "v",
         "showlegend": true,
         "textposition": "auto",
         "type": "bar",
         "x": [
          "换电概念"
         ],
         "xaxis": "x",
         "y": [
          31
         ],
         "yaxis": "y"
        },
        {
         "alignmentgroup": "True",
         "hovertemplate": "name=%{x}<br>count=%{y}<extra></extra>",
         "legendgroup": "禽流感",
         "marker": {
          "color": "#FF97FF",
          "pattern": {
           "shape": ""
          }
         },
         "name": "禽流感",
         "offsetgroup": "禽流感",
         "orientation": "v",
         "showlegend": true,
         "textposition": "auto",
         "type": "bar",
         "x": [
          "禽流感"
         ],
         "xaxis": "x",
         "y": [
          31
         ],
         "yaxis": "y"
        },
        {
         "alignmentgroup": "True",
         "hovertemplate": "name=%{x}<br>count=%{y}<extra></extra>",
         "legendgroup": "无线充电",
         "marker": {
          "color": "#FECB52",
          "pattern": {
           "shape": ""
          }
         },
         "name": "无线充电",
         "offsetgroup": "无线充电",
         "orientation": "v",
         "showlegend": true,
         "textposition": "auto",
         "type": "bar",
         "x": [
          "无线充电"
         ],
         "xaxis": "x",
         "y": [
          32
         ],
         "yaxis": "y"
        },
        {
         "alignmentgroup": "True",
         "hovertemplate": "name=%{x}<br>count=%{y}<extra></extra>",
         "legendgroup": "通用航空",
         "marker": {
          "color": "#636efa",
          "pattern": {
           "shape": ""
          }
         },
         "name": "通用航空",
         "offsetgroup": "通用航空",
         "orientation": "v",
         "showlegend": true,
         "textposition": "auto",
         "type": "bar",
         "x": [
          "通用航空"
         ],
         "xaxis": "x",
         "y": [
          32
         ],
         "yaxis": "y"
        },
        {
         "alignmentgroup": "True",
         "hovertemplate": "name=%{x}<br>count=%{y}<extra></extra>",
         "legendgroup": "国家大基金持股",
         "marker": {
          "color": "#EF553B",
          "pattern": {
           "shape": ""
          }
         },
         "name": "国家大基金持股",
         "offsetgroup": "国家大基金持股",
         "orientation": "v",
         "showlegend": true,
         "textposition": "auto",
         "type": "bar",
         "x": [
          "国家大基金持股"
         ],
         "xaxis": "x",
         "y": [
          32
         ],
         "yaxis": "y"
        },
        {
         "alignmentgroup": "True",
         "hovertemplate": "name=%{x}<br>count=%{y}<extra></extra>",
         "legendgroup": "海工装备",
         "marker": {
          "color": "#00cc96",
          "pattern": {
           "shape": ""
          }
         },
         "name": "海工装备",
         "offsetgroup": "海工装备",
         "orientation": "v",
         "showlegend": true,
         "textposition": "auto",
         "type": "bar",
         "x": [
          "海工装备"
         ],
         "xaxis": "x",
         "y": [
          34
         ],
         "yaxis": "y"
        },
        {
         "alignmentgroup": "True",
         "hovertemplate": "name=%{x}<br>count=%{y}<extra></extra>",
         "legendgroup": "海南自贸区",
         "marker": {
          "color": "#ab63fa",
          "pattern": {
           "shape": ""
          }
         },
         "name": "海南自贸区",
         "offsetgroup": "海南自贸区",
         "orientation": "v",
         "showlegend": true,
         "textposition": "auto",
         "type": "bar",
         "x": [
          "海南自贸区"
         ],
         "xaxis": "x",
         "y": [
          34
         ],
         "yaxis": "y"
        },
        {
         "alignmentgroup": "True",
         "hovertemplate": "name=%{x}<br>count=%{y}<extra></extra>",
         "legendgroup": "医药电商",
         "marker": {
          "color": "#FFA15A",
          "pattern": {
           "shape": ""
          }
         },
         "name": "医药电商",
         "offsetgroup": "医药电商",
         "orientation": "v",
         "showlegend": true,
         "textposition": "auto",
         "type": "bar",
         "x": [
          "医药电商"
         ],
         "xaxis": "x",
         "y": [
          34
         ],
         "yaxis": "y"
        },
        {
         "alignmentgroup": "True",
         "hovertemplate": "name=%{x}<br>count=%{y}<extra></extra>",
         "legendgroup": "SaaS",
         "marker": {
          "color": "#19d3f3",
          "pattern": {
           "shape": ""
          }
         },
         "name": "SaaS",
         "offsetgroup": "SaaS",
         "orientation": "v",
         "showlegend": true,
         "textposition": "auto",
         "type": "bar",
         "x": [
          "SaaS"
         ],
         "xaxis": "x",
         "y": [
          34
         ],
         "yaxis": "y"
        },
        {
         "alignmentgroup": "True",
         "hovertemplate": "name=%{x}<br>count=%{y}<extra></extra>",
         "legendgroup": "生态农业",
         "marker": {
          "color": "#FF6692",
          "pattern": {
           "shape": ""
          }
         },
         "name": "生态农业",
         "offsetgroup": "生态农业",
         "orientation": "v",
         "showlegend": true,
         "textposition": "auto",
         "type": "bar",
         "x": [
          "生态农业"
         ],
         "xaxis": "x",
         "y": [
          34
         ],
         "yaxis": "y"
        },
        {
         "alignmentgroup": "True",
         "hovertemplate": "name=%{x}<br>count=%{y}<extra></extra>",
         "legendgroup": "免税店",
         "marker": {
          "color": "#B6E880",
          "pattern": {
           "shape": ""
          }
         },
         "name": "免税店",
         "offsetgroup": "免税店",
         "orientation": "v",
         "showlegend": true,
         "textposition": "auto",
         "type": "bar",
         "x": [
          "免税店"
         ],
         "xaxis": "x",
         "y": [
          35
         ],
         "yaxis": "y"
        },
        {
         "alignmentgroup": "True",
         "hovertemplate": "name=%{x}<br>count=%{y}<extra></extra>",
         "legendgroup": "PM2.5",
         "marker": {
          "color": "#FF97FF",
          "pattern": {
           "shape": ""
          }
         },
         "name": "PM2.5",
         "offsetgroup": "PM2.5",
         "orientation": "v",
         "showlegend": true,
         "textposition": "auto",
         "type": "bar",
         "x": [
          "PM2.5"
         ],
         "xaxis": "x",
         "y": [
          35
         ],
         "yaxis": "y"
        },
        {
         "alignmentgroup": "True",
         "hovertemplate": "name=%{x}<br>count=%{y}<extra></extra>",
         "legendgroup": "页岩气",
         "marker": {
          "color": "#FECB52",
          "pattern": {
           "shape": ""
          }
         },
         "name": "页岩气",
         "offsetgroup": "页岩气",
         "orientation": "v",
         "showlegend": true,
         "textposition": "auto",
         "type": "bar",
         "x": [
          "页岩气"
         ],
         "xaxis": "x",
         "y": [
          35
         ],
         "yaxis": "y"
        },
        {
         "alignmentgroup": "True",
         "hovertemplate": "name=%{x}<br>count=%{y}<extra></extra>",
         "legendgroup": "水泥概念",
         "marker": {
          "color": "#636efa",
          "pattern": {
           "shape": ""
          }
         },
         "name": "水泥概念",
         "offsetgroup": "水泥概念",
         "orientation": "v",
         "showlegend": true,
         "textposition": "auto",
         "type": "bar",
         "x": [
          "水泥概念"
         ],
         "xaxis": "x",
         "y": [
          35
         ],
         "yaxis": "y"
        },
        {
         "alignmentgroup": "True",
         "hovertemplate": "name=%{x}<br>count=%{y}<extra></extra>",
         "legendgroup": "农业种植",
         "marker": {
          "color": "#EF553B",
          "pattern": {
           "shape": ""
          }
         },
         "name": "农业种植",
         "offsetgroup": "农业种植",
         "orientation": "v",
         "showlegend": true,
         "textposition": "auto",
         "type": "bar",
         "x": [
          "农业种植"
         ],
         "xaxis": "x",
         "y": [
          35
         ],
         "yaxis": "y"
        },
        {
         "alignmentgroup": "True",
         "hovertemplate": "name=%{x}<br>count=%{y}<extra></extra>",
         "legendgroup": "国产航母",
         "marker": {
          "color": "#00cc96",
          "pattern": {
           "shape": ""
          }
         },
         "name": "国产航母",
         "offsetgroup": "国产航母",
         "orientation": "v",
         "showlegend": true,
         "textposition": "auto",
         "type": "bar",
         "x": [
          "国产航母"
         ],
         "xaxis": "x",
         "y": [
          36
         ],
         "yaxis": "y"
        },
        {
         "alignmentgroup": "True",
         "hovertemplate": "name=%{x}<br>count=%{y}<extra></extra>",
         "legendgroup": "C2M概念",
         "marker": {
          "color": "#ab63fa",
          "pattern": {
           "shape": ""
          }
         },
         "name": "C2M概念",
         "offsetgroup": "C2M概念",
         "orientation": "v",
         "showlegend": true,
         "textposition": "auto",
         "type": "bar",
         "x": [
          "C2M概念"
         ],
         "xaxis": "x",
         "y": [
          36
         ],
         "yaxis": "y"
        },
        {
         "alignmentgroup": "True",
         "hovertemplate": "name=%{x}<br>count=%{y}<extra></extra>",
         "legendgroup": "食品安全",
         "marker": {
          "color": "#FFA15A",
          "pattern": {
           "shape": ""
          }
         },
         "name": "食品安全",
         "offsetgroup": "食品安全",
         "orientation": "v",
         "showlegend": true,
         "textposition": "auto",
         "type": "bar",
         "x": [
          "食品安全"
         ],
         "xaxis": "x",
         "y": [
          37
         ],
         "yaxis": "y"
        },
        {
         "alignmentgroup": "True",
         "hovertemplate": "name=%{x}<br>count=%{y}<extra></extra>",
         "legendgroup": "新型烟草",
         "marker": {
          "color": "#19d3f3",
          "pattern": {
           "shape": ""
          }
         },
         "name": "新型烟草",
         "offsetgroup": "新型烟草",
         "orientation": "v",
         "showlegend": true,
         "textposition": "auto",
         "type": "bar",
         "x": [
          "新型烟草"
         ],
         "xaxis": "x",
         "y": [
          37
         ],
         "yaxis": "y"
        },
        {
         "alignmentgroup": "True",
         "hovertemplate": "name=%{x}<br>count=%{y}<extra></extra>",
         "legendgroup": "ETC",
         "marker": {
          "color": "#FF6692",
          "pattern": {
           "shape": ""
          }
         },
         "name": "ETC",
         "offsetgroup": "ETC",
         "orientation": "v",
         "showlegend": true,
         "textposition": "auto",
         "type": "bar",
         "x": [
          "ETC"
         ],
         "xaxis": "x",
         "y": [
          37
         ],
         "yaxis": "y"
        },
        {
         "alignmentgroup": "True",
         "hovertemplate": "name=%{x}<br>count=%{y}<extra></extra>",
         "legendgroup": "量子科技",
         "marker": {
          "color": "#B6E880",
          "pattern": {
           "shape": ""
          }
         },
         "name": "量子科技",
         "offsetgroup": "量子科技",
         "orientation": "v",
         "showlegend": true,
         "textposition": "auto",
         "type": "bar",
         "x": [
          "量子科技"
         ],
         "xaxis": "x",
         "y": [
          37
         ],
         "yaxis": "y"
        },
        {
         "alignmentgroup": "True",
         "hovertemplate": "name=%{x}<br>count=%{y}<extra></extra>",
         "legendgroup": "农村电商",
         "marker": {
          "color": "#FF97FF",
          "pattern": {
           "shape": ""
          }
         },
         "name": "农村电商",
         "offsetgroup": "农村电商",
         "orientation": "v",
         "showlegend": true,
         "textposition": "auto",
         "type": "bar",
         "x": [
          "农村电商"
         ],
         "xaxis": "x",
         "y": [
          37
         ],
         "yaxis": "y"
        },
        {
         "alignmentgroup": "True",
         "hovertemplate": "name=%{x}<br>count=%{y}<extra></extra>",
         "legendgroup": "磷化工",
         "marker": {
          "color": "#FECB52",
          "pattern": {
           "shape": ""
          }
         },
         "name": "磷化工",
         "offsetgroup": "磷化工",
         "orientation": "v",
         "showlegend": true,
         "textposition": "auto",
         "type": "bar",
         "x": [
          "磷化工"
         ],
         "xaxis": "x",
         "y": [
          37
         ],
         "yaxis": "y"
        },
        {
         "alignmentgroup": "True",
         "hovertemplate": "name=%{x}<br>count=%{y}<extra></extra>",
         "legendgroup": "航空发动机",
         "marker": {
          "color": "#636efa",
          "pattern": {
           "shape": ""
          }
         },
         "name": "航空发动机",
         "offsetgroup": "航空发动机",
         "orientation": "v",
         "showlegend": true,
         "textposition": "auto",
         "type": "bar",
         "x": [
          "航空发动机"
         ],
         "xaxis": "x",
         "y": [
          37
         ],
         "yaxis": "y"
        },
        {
         "alignmentgroup": "True",
         "hovertemplate": "name=%{x}<br>count=%{y}<extra></extra>",
         "legendgroup": "虚拟数字人",
         "marker": {
          "color": "#EF553B",
          "pattern": {
           "shape": ""
          }
         },
         "name": "虚拟数字人",
         "offsetgroup": "虚拟数字人",
         "orientation": "v",
         "showlegend": true,
         "textposition": "auto",
         "type": "bar",
         "x": [
          "虚拟数字人"
         ],
         "xaxis": "x",
         "y": [
          37
         ],
         "yaxis": "y"
        },
        {
         "alignmentgroup": "True",
         "hovertemplate": "name=%{x}<br>count=%{y}<extra></extra>",
         "legendgroup": "数字乡村",
         "marker": {
          "color": "#00cc96",
          "pattern": {
           "shape": ""
          }
         },
         "name": "数字乡村",
         "offsetgroup": "数字乡村",
         "orientation": "v",
         "showlegend": true,
         "textposition": "auto",
         "type": "bar",
         "x": [
          "数字乡村"
         ],
         "xaxis": "x",
         "y": [
          38
         ],
         "yaxis": "y"
        },
        {
         "alignmentgroup": "True",
         "hovertemplate": "name=%{x}<br>count=%{y}<extra></extra>",
         "legendgroup": "辅助生殖",
         "marker": {
          "color": "#ab63fa",
          "pattern": {
           "shape": ""
          }
         },
         "name": "辅助生殖",
         "offsetgroup": "辅助生殖",
         "orientation": "v",
         "showlegend": true,
         "textposition": "auto",
         "type": "bar",
         "x": [
          "辅助生殖"
         ],
         "xaxis": "x",
         "y": [
          38
         ],
         "yaxis": "y"
        },
        {
         "alignmentgroup": "True",
         "hovertemplate": "name=%{x}<br>count=%{y}<extra></extra>",
         "legendgroup": "举牌",
         "marker": {
          "color": "#FFA15A",
          "pattern": {
           "shape": ""
          }
         },
         "name": "举牌",
         "offsetgroup": "举牌",
         "orientation": "v",
         "showlegend": true,
         "textposition": "auto",
         "type": "bar",
         "x": [
          "举牌"
         ],
         "xaxis": "x",
         "y": [
          38
         ],
         "yaxis": "y"
        },
        {
         "alignmentgroup": "True",
         "hovertemplate": "name=%{x}<br>count=%{y}<extra></extra>",
         "legendgroup": "东数西算（算力）",
         "marker": {
          "color": "#19d3f3",
          "pattern": {
           "shape": ""
          }
         },
         "name": "东数西算（算力）",
         "offsetgroup": "东数西算（算力）",
         "orientation": "v",
         "showlegend": true,
         "textposition": "auto",
         "type": "bar",
         "x": [
          "东数西算（算力）"
         ],
         "xaxis": "x",
         "y": [
          38
         ],
         "yaxis": "y"
        },
        {
         "alignmentgroup": "True",
         "hovertemplate": "name=%{x}<br>count=%{y}<extra></extra>",
         "legendgroup": "智慧政务",
         "marker": {
          "color": "#FF6692",
          "pattern": {
           "shape": ""
          }
         },
         "name": "智慧政务",
         "offsetgroup": "智慧政务",
         "orientation": "v",
         "showlegend": true,
         "textposition": "auto",
         "type": "bar",
         "x": [
          "智慧政务"
         ],
         "xaxis": "x",
         "y": [
          38
         ],
         "yaxis": "y"
        },
        {
         "alignmentgroup": "True",
         "hovertemplate": "name=%{x}<br>count=%{y}<extra></extra>",
         "legendgroup": "黑龙江自贸区",
         "marker": {
          "color": "#B6E880",
          "pattern": {
           "shape": ""
          }
         },
         "name": "黑龙江自贸区",
         "offsetgroup": "黑龙江自贸区",
         "orientation": "v",
         "showlegend": true,
         "textposition": "auto",
         "type": "bar",
         "x": [
          "黑龙江自贸区"
         ],
         "xaxis": "x",
         "y": [
          38
         ],
         "yaxis": "y"
        },
        {
         "alignmentgroup": "True",
         "hovertemplate": "name=%{x}<br>count=%{y}<extra></extra>",
         "legendgroup": "土地流转",
         "marker": {
          "color": "#FF97FF",
          "pattern": {
           "shape": ""
          }
         },
         "name": "土地流转",
         "offsetgroup": "土地流转",
         "orientation": "v",
         "showlegend": true,
         "textposition": "auto",
         "type": "bar",
         "x": [
          "土地流转"
         ],
         "xaxis": "x",
         "y": [
          39
         ],
         "yaxis": "y"
        },
        {
         "alignmentgroup": "True",
         "hovertemplate": "name=%{x}<br>count=%{y}<extra></extra>",
         "legendgroup": "光刻胶",
         "marker": {
          "color": "#FECB52",
          "pattern": {
           "shape": ""
          }
         },
         "name": "光刻胶",
         "offsetgroup": "光刻胶",
         "orientation": "v",
         "showlegend": true,
         "textposition": "auto",
         "type": "bar",
         "x": [
          "光刻胶"
         ],
         "xaxis": "x",
         "y": [
          40
         ],
         "yaxis": "y"
        },
        {
         "alignmentgroup": "True",
         "hovertemplate": "name=%{x}<br>count=%{y}<extra></extra>",
         "legendgroup": "证金持股",
         "marker": {
          "color": "#636efa",
          "pattern": {
           "shape": ""
          }
         },
         "name": "证金持股",
         "offsetgroup": "证金持股",
         "orientation": "v",
         "showlegend": true,
         "textposition": "auto",
         "type": "bar",
         "x": [
          "证金持股"
         ],
         "xaxis": "x",
         "y": [
          41
         ],
         "yaxis": "y"
        },
        {
         "alignmentgroup": "True",
         "hovertemplate": "name=%{x}<br>count=%{y}<extra></extra>",
         "legendgroup": "白酒概念",
         "marker": {
          "color": "#EF553B",
          "pattern": {
           "shape": ""
          }
         },
         "name": "白酒概念",
         "offsetgroup": "白酒概念",
         "orientation": "v",
         "showlegend": true,
         "textposition": "auto",
         "type": "bar",
         "x": [
          "白酒概念"
         ],
         "xaxis": "x",
         "y": [
          41
         ],
         "yaxis": "y"
        },
        {
         "alignmentgroup": "True",
         "hovertemplate": "name=%{x}<br>count=%{y}<extra></extra>",
         "legendgroup": "柔性直流输电",
         "marker": {
          "color": "#00cc96",
          "pattern": {
           "shape": ""
          }
         },
         "name": "柔性直流输电",
         "offsetgroup": "柔性直流输电",
         "orientation": "v",
         "showlegend": true,
         "textposition": "auto",
         "type": "bar",
         "x": [
          "柔性直流输电"
         ],
         "xaxis": "x",
         "y": [
          41
         ],
         "yaxis": "y"
        },
        {
         "alignmentgroup": "True",
         "hovertemplate": "name=%{x}<br>count=%{y}<extra></extra>",
         "legendgroup": "稀缺资源",
         "marker": {
          "color": "#ab63fa",
          "pattern": {
           "shape": ""
          }
         },
         "name": "稀缺资源",
         "offsetgroup": "稀缺资源",
         "orientation": "v",
         "showlegend": true,
         "textposition": "auto",
         "type": "bar",
         "x": [
          "稀缺资源"
         ],
         "xaxis": "x",
         "y": [
          41
         ],
         "yaxis": "y"
        },
        {
         "alignmentgroup": "True",
         "hovertemplate": "name=%{x}<br>count=%{y}<extra></extra>",
         "legendgroup": "智能制造",
         "marker": {
          "color": "#FFA15A",
          "pattern": {
           "shape": ""
          }
         },
         "name": "智能制造",
         "offsetgroup": "智能制造",
         "orientation": "v",
         "showlegend": true,
         "textposition": "auto",
         "type": "bar",
         "x": [
          "智能制造"
         ],
         "xaxis": "x",
         "y": [
          41
         ],
         "yaxis": "y"
        },
        {
         "alignmentgroup": "True",
         "hovertemplate": "name=%{x}<br>count=%{y}<extra></extra>",
         "legendgroup": "数字孪生",
         "marker": {
          "color": "#19d3f3",
          "pattern": {
           "shape": ""
          }
         },
         "name": "数字孪生",
         "offsetgroup": "数字孪生",
         "orientation": "v",
         "showlegend": true,
         "textposition": "auto",
         "type": "bar",
         "x": [
          "数字孪生"
         ],
         "xaxis": "x",
         "y": [
          41
         ],
         "yaxis": "y"
        },
        {
         "alignmentgroup": "True",
         "hovertemplate": "name=%{x}<br>count=%{y}<extra></extra>",
         "legendgroup": "人脸识别",
         "marker": {
          "color": "#FF6692",
          "pattern": {
           "shape": ""
          }
         },
         "name": "人脸识别",
         "offsetgroup": "人脸识别",
         "orientation": "v",
         "showlegend": true,
         "textposition": "auto",
         "type": "bar",
         "x": [
          "人脸识别"
         ],
         "xaxis": "x",
         "y": [
          42
         ],
         "yaxis": "y"
        },
        {
         "alignmentgroup": "True",
         "hovertemplate": "name=%{x}<br>count=%{y}<extra></extra>",
         "legendgroup": "新疆振兴",
         "marker": {
          "color": "#B6E880",
          "pattern": {
           "shape": ""
          }
         },
         "name": "新疆振兴",
         "offsetgroup": "新疆振兴",
         "orientation": "v",
         "showlegend": true,
         "textposition": "auto",
         "type": "bar",
         "x": [
          "新疆振兴"
         ],
         "xaxis": "x",
         "y": [
          42
         ],
         "yaxis": "y"
        },
        {
         "alignmentgroup": "True",
         "hovertemplate": "name=%{x}<br>count=%{y}<extra></extra>",
         "legendgroup": "上海自贸区",
         "marker": {
          "color": "#FF97FF",
          "pattern": {
           "shape": ""
          }
         },
         "name": "上海自贸区",
         "offsetgroup": "上海自贸区",
         "orientation": "v",
         "showlegend": true,
         "textposition": "auto",
         "type": "bar",
         "x": [
          "上海自贸区"
         ],
         "xaxis": "x",
         "y": [
          43
         ],
         "yaxis": "y"
        },
        {
         "alignmentgroup": "True",
         "hovertemplate": "name=%{x}<br>count=%{y}<extra></extra>",
         "legendgroup": "横琴新区",
         "marker": {
          "color": "#FECB52",
          "pattern": {
           "shape": ""
          }
         },
         "name": "横琴新区",
         "offsetgroup": "横琴新区",
         "orientation": "v",
         "showlegend": true,
         "textposition": "auto",
         "type": "bar",
         "x": [
          "横琴新区"
         ],
         "xaxis": "x",
         "y": [
          43
         ],
         "yaxis": "y"
        },
        {
         "alignmentgroup": "True",
         "hovertemplate": "name=%{x}<br>count=%{y}<extra></extra>",
         "legendgroup": "共同富裕示范区",
         "marker": {
          "color": "#636efa",
          "pattern": {
           "shape": ""
          }
         },
         "name": "共同富裕示范区",
         "offsetgroup": "共同富裕示范区",
         "orientation": "v",
         "showlegend": true,
         "textposition": "auto",
         "type": "bar",
         "x": [
          "共同富裕示范区"
         ],
         "xaxis": "x",
         "y": [
          43
         ],
         "yaxis": "y"
        },
        {
         "alignmentgroup": "True",
         "hovertemplate": "name=%{x}<br>count=%{y}<extra></extra>",
         "legendgroup": "华为汽车",
         "marker": {
          "color": "#EF553B",
          "pattern": {
           "shape": ""
          }
         },
         "name": "华为汽车",
         "offsetgroup": "华为汽车",
         "orientation": "v",
         "showlegend": true,
         "textposition": "auto",
         "type": "bar",
         "x": [
          "华为汽车"
         ],
         "xaxis": "x",
         "y": [
          43
         ],
         "yaxis": "y"
        },
        {
         "alignmentgroup": "True",
         "hovertemplate": "name=%{x}<br>count=%{y}<extra></extra>",
         "legendgroup": "债转股",
         "marker": {
          "color": "#00cc96",
          "pattern": {
           "shape": ""
          }
         },
         "name": "债转股",
         "offsetgroup": "债转股",
         "orientation": "v",
         "showlegend": true,
         "textposition": "auto",
         "type": "bar",
         "x": [
          "债转股"
         ],
         "xaxis": "x",
         "y": [
          43
         ],
         "yaxis": "y"
        },
        {
         "alignmentgroup": "True",
         "hovertemplate": "name=%{x}<br>count=%{y}<extra></extra>",
         "legendgroup": "工业母机",
         "marker": {
          "color": "#ab63fa",
          "pattern": {
           "shape": ""
          }
         },
         "name": "工业母机",
         "offsetgroup": "工业母机",
         "orientation": "v",
         "showlegend": true,
         "textposition": "auto",
         "type": "bar",
         "x": [
          "工业母机"
         ],
         "xaxis": "x",
         "y": [
          44
         ],
         "yaxis": "y"
        },
        {
         "alignmentgroup": "True",
         "hovertemplate": "name=%{x}<br>count=%{y}<extra></extra>",
         "legendgroup": "知识产权保护",
         "marker": {
          "color": "#FFA15A",
          "pattern": {
           "shape": ""
          }
         },
         "name": "知识产权保护",
         "offsetgroup": "知识产权保护",
         "orientation": "v",
         "showlegend": true,
         "textposition": "auto",
         "type": "bar",
         "x": [
          "知识产权保护"
         ],
         "xaxis": "x",
         "y": [
          45
         ],
         "yaxis": "y"
        },
        {
         "alignmentgroup": "True",
         "hovertemplate": "name=%{x}<br>count=%{y}<extra></extra>",
         "legendgroup": "基因测序",
         "marker": {
          "color": "#19d3f3",
          "pattern": {
           "shape": ""
          }
         },
         "name": "基因测序",
         "offsetgroup": "基因测序",
         "orientation": "v",
         "showlegend": true,
         "textposition": "auto",
         "type": "bar",
         "x": [
          "基因测序"
         ],
         "xaxis": "x",
         "y": [
          45
         ],
         "yaxis": "y"
        },
        {
         "alignmentgroup": "True",
         "hovertemplate": "name=%{x}<br>count=%{y}<extra></extra>",
         "legendgroup": "杭州亚运会",
         "marker": {
          "color": "#FF6692",
          "pattern": {
           "shape": ""
          }
         },
         "name": "杭州亚运会",
         "offsetgroup": "杭州亚运会",
         "orientation": "v",
         "showlegend": true,
         "textposition": "auto",
         "type": "bar",
         "x": [
          "杭州亚运会"
         ],
         "xaxis": "x",
         "y": [
          46
         ],
         "yaxis": "y"
        },
        {
         "alignmentgroup": "True",
         "hovertemplate": "name=%{x}<br>count=%{y}<extra></extra>",
         "legendgroup": "地下管网",
         "marker": {
          "color": "#B6E880",
          "pattern": {
           "shape": ""
          }
         },
         "name": "地下管网",
         "offsetgroup": "地下管网",
         "orientation": "v",
         "showlegend": true,
         "textposition": "auto",
         "type": "bar",
         "x": [
          "地下管网"
         ],
         "xaxis": "x",
         "y": [
          46
         ],
         "yaxis": "y"
        },
        {
         "alignmentgroup": "True",
         "hovertemplate": "name=%{x}<br>count=%{y}<extra></extra>",
         "legendgroup": "百度概念",
         "marker": {
          "color": "#FF97FF",
          "pattern": {
           "shape": ""
          }
         },
         "name": "百度概念",
         "offsetgroup": "百度概念",
         "orientation": "v",
         "showlegend": true,
         "textposition": "auto",
         "type": "bar",
         "x": [
          "百度概念"
         ],
         "xaxis": "x",
         "y": [
          46
         ],
         "yaxis": "y"
        },
        {
         "alignmentgroup": "True",
         "hovertemplate": "name=%{x}<br>count=%{y}<extra></extra>",
         "legendgroup": "智能医疗",
         "marker": {
          "color": "#FECB52",
          "pattern": {
           "shape": ""
          }
         },
         "name": "智能医疗",
         "offsetgroup": "智能医疗",
         "orientation": "v",
         "showlegend": true,
         "textposition": "auto",
         "type": "bar",
         "x": [
          "智能医疗"
         ],
         "xaxis": "x",
         "y": [
          46
         ],
         "yaxis": "y"
        },
        {
         "alignmentgroup": "True",
         "hovertemplate": "name=%{x}<br>count=%{y}<extra></extra>",
         "legendgroup": "消毒剂",
         "marker": {
          "color": "#636efa",
          "pattern": {
           "shape": ""
          }
         },
         "name": "消毒剂",
         "offsetgroup": "消毒剂",
         "orientation": "v",
         "showlegend": true,
         "textposition": "auto",
         "type": "bar",
         "x": [
          "消毒剂"
         ],
         "xaxis": "x",
         "y": [
          47
         ],
         "yaxis": "y"
        },
        {
         "alignmentgroup": "True",
         "hovertemplate": "name=%{x}<br>count=%{y}<extra></extra>",
         "legendgroup": "中芯国际概念",
         "marker": {
          "color": "#EF553B",
          "pattern": {
           "shape": ""
          }
         },
         "name": "中芯国际概念",
         "offsetgroup": "中芯国际概念",
         "orientation": "v",
         "showlegend": true,
         "textposition": "auto",
         "type": "bar",
         "x": [
          "中芯国际概念"
         ],
         "xaxis": "x",
         "y": [
          48
         ],
         "yaxis": "y"
        },
        {
         "alignmentgroup": "True",
         "hovertemplate": "name=%{x}<br>count=%{y}<extra></extra>",
         "legendgroup": "金改",
         "marker": {
          "color": "#00cc96",
          "pattern": {
           "shape": ""
          }
         },
         "name": "金改",
         "offsetgroup": "金改",
         "orientation": "v",
         "showlegend": true,
         "textposition": "auto",
         "type": "bar",
         "x": [
          "金改"
         ],
         "xaxis": "x",
         "y": [
          49
         ],
         "yaxis": "y"
        },
        {
         "alignmentgroup": "True",
         "hovertemplate": "name=%{x}<br>count=%{y}<extra></extra>",
         "legendgroup": "传感器",
         "marker": {
          "color": "#ab63fa",
          "pattern": {
           "shape": ""
          }
         },
         "name": "传感器",
         "offsetgroup": "传感器",
         "orientation": "v",
         "showlegend": true,
         "textposition": "auto",
         "type": "bar",
         "x": [
          "传感器"
         ],
         "xaxis": "x",
         "y": [
          49
         ],
         "yaxis": "y"
        },
        {
         "alignmentgroup": "True",
         "hovertemplate": "name=%{x}<br>count=%{y}<extra></extra>",
         "legendgroup": "供应链金融",
         "marker": {
          "color": "#FFA15A",
          "pattern": {
           "shape": ""
          }
         },
         "name": "供应链金融",
         "offsetgroup": "供应链金融",
         "orientation": "v",
         "showlegend": true,
         "textposition": "auto",
         "type": "bar",
         "x": [
          "供应链金融"
         ],
         "xaxis": "x",
         "y": [
          50
         ],
         "yaxis": "y"
        },
        {
         "alignmentgroup": "True",
         "hovertemplate": "name=%{x}<br>count=%{y}<extra></extra>",
         "legendgroup": "富士康概念",
         "marker": {
          "color": "#19d3f3",
          "pattern": {
           "shape": ""
          }
         },
         "name": "富士康概念",
         "offsetgroup": "富士康概念",
         "orientation": "v",
         "showlegend": true,
         "textposition": "auto",
         "type": "bar",
         "x": [
          "富士康概念"
         ],
         "xaxis": "x",
         "y": [
          50
         ],
         "yaxis": "y"
        },
        {
         "alignmentgroup": "True",
         "hovertemplate": "name=%{x}<br>count=%{y}<extra></extra>",
         "legendgroup": "俄乌冲突概念",
         "marker": {
          "color": "#FF6692",
          "pattern": {
           "shape": ""
          }
         },
         "name": "俄乌冲突概念",
         "offsetgroup": "俄乌冲突概念",
         "orientation": "v",
         "showlegend": true,
         "textposition": "auto",
         "type": "bar",
         "x": [
          "俄乌冲突概念"
         ],
         "xaxis": "x",
         "y": [
          51
         ],
         "yaxis": "y"
        },
        {
         "alignmentgroup": "True",
         "hovertemplate": "name=%{x}<br>count=%{y}<extra></extra>",
         "legendgroup": "煤炭概念",
         "marker": {
          "color": "#B6E880",
          "pattern": {
           "shape": ""
          }
         },
         "name": "煤炭概念",
         "offsetgroup": "煤炭概念",
         "orientation": "v",
         "showlegend": true,
         "textposition": "auto",
         "type": "bar",
         "x": [
          "煤炭概念"
         ],
         "xaxis": "x",
         "y": [
          51
         ],
         "yaxis": "y"
        },
        {
         "alignmentgroup": "True",
         "hovertemplate": "name=%{x}<br>count=%{y}<extra></extra>",
         "legendgroup": "工业大麻",
         "marker": {
          "color": "#FF97FF",
          "pattern": {
           "shape": ""
          }
         },
         "name": "工业大麻",
         "offsetgroup": "工业大麻",
         "orientation": "v",
         "showlegend": true,
         "textposition": "auto",
         "type": "bar",
         "x": [
          "工业大麻"
         ],
         "xaxis": "x",
         "y": [
          51
         ],
         "yaxis": "y"
        },
        {
         "alignmentgroup": "True",
         "hovertemplate": "name=%{x}<br>count=%{y}<extra></extra>",
         "legendgroup": "稀土永磁",
         "marker": {
          "color": "#FECB52",
          "pattern": {
           "shape": ""
          }
         },
         "name": "稀土永磁",
         "offsetgroup": "稀土永磁",
         "orientation": "v",
         "showlegend": true,
         "textposition": "auto",
         "type": "bar",
         "x": [
          "稀土永磁"
         ],
         "xaxis": "x",
         "y": [
          51
         ],
         "yaxis": "y"
        },
        {
         "alignmentgroup": "True",
         "hovertemplate": "name=%{x}<br>count=%{y}<extra></extra>",
         "legendgroup": "国产操作系统",
         "marker": {
          "color": "#636efa",
          "pattern": {
           "shape": ""
          }
         },
         "name": "国产操作系统",
         "offsetgroup": "国产操作系统",
         "orientation": "v",
         "showlegend": true,
         "textposition": "auto",
         "type": "bar",
         "x": [
          "国产操作系统"
         ],
         "xaxis": "x",
         "y": [
          52
         ],
         "yaxis": "y"
        },
        {
         "alignmentgroup": "True",
         "hovertemplate": "name=%{x}<br>count=%{y}<extra></extra>",
         "legendgroup": "医美概念",
         "marker": {
          "color": "#EF553B",
          "pattern": {
           "shape": ""
          }
         },
         "name": "医美概念",
         "offsetgroup": "医美概念",
         "orientation": "v",
         "showlegend": true,
         "textposition": "auto",
         "type": "bar",
         "x": [
          "医美概念"
         ],
         "xaxis": "x",
         "y": [
          52
         ],
         "yaxis": "y"
        },
        {
         "alignmentgroup": "True",
         "hovertemplate": "name=%{x}<br>count=%{y}<extra></extra>",
         "legendgroup": "电力物联网",
         "marker": {
          "color": "#00cc96",
          "pattern": {
           "shape": ""
          }
         },
         "name": "电力物联网",
         "offsetgroup": "电力物联网",
         "orientation": "v",
         "showlegend": true,
         "textposition": "auto",
         "type": "bar",
         "x": [
          "电力物联网"
         ],
         "xaxis": "x",
         "y": [
          52
         ],
         "yaxis": "y"
        },
        {
         "alignmentgroup": "True",
         "hovertemplate": "name=%{x}<br>count=%{y}<extra></extra>",
         "legendgroup": "水利",
         "marker": {
          "color": "#ab63fa",
          "pattern": {
           "shape": ""
          }
         },
         "name": "水利",
         "offsetgroup": "水利",
         "orientation": "v",
         "showlegend": true,
         "textposition": "auto",
         "type": "bar",
         "x": [
          "水利"
         ],
         "xaxis": "x",
         "y": [
          53
         ],
         "yaxis": "y"
        },
        {
         "alignmentgroup": "True",
         "hovertemplate": "name=%{x}<br>count=%{y}<extra></extra>",
         "legendgroup": "生物疫苗",
         "marker": {
          "color": "#FFA15A",
          "pattern": {
           "shape": ""
          }
         },
         "name": "生物疫苗",
         "offsetgroup": "生物疫苗",
         "orientation": "v",
         "showlegend": true,
         "textposition": "auto",
         "type": "bar",
         "x": [
          "生物疫苗"
         ],
         "xaxis": "x",
         "y": [
          53
         ],
         "yaxis": "y"
        },
        {
         "alignmentgroup": "True",
         "hovertemplate": "name=%{x}<br>count=%{y}<extra></extra>",
         "legendgroup": "京津冀一体化",
         "marker": {
          "color": "#19d3f3",
          "pattern": {
           "shape": ""
          }
         },
         "name": "京津冀一体化",
         "offsetgroup": "京津冀一体化",
         "orientation": "v",
         "showlegend": true,
         "textposition": "auto",
         "type": "bar",
         "x": [
          "京津冀一体化"
         ],
         "xaxis": "x",
         "y": [
          54
         ],
         "yaxis": "y"
        },
        {
         "alignmentgroup": "True",
         "hovertemplate": "name=%{x}<br>count=%{y}<extra></extra>",
         "legendgroup": "预制菜",
         "marker": {
          "color": "#FF6692",
          "pattern": {
           "shape": ""
          }
         },
         "name": "预制菜",
         "offsetgroup": "预制菜",
         "orientation": "v",
         "showlegend": true,
         "textposition": "auto",
         "type": "bar",
         "x": [
          "预制菜"
         ],
         "xaxis": "x",
         "y": [
          54
         ],
         "yaxis": "y"
        },
        {
         "alignmentgroup": "True",
         "hovertemplate": "name=%{x}<br>count=%{y}<extra></extra>",
         "legendgroup": "黄金概念",
         "marker": {
          "color": "#B6E880",
          "pattern": {
           "shape": ""
          }
         },
         "name": "黄金概念",
         "offsetgroup": "黄金概念",
         "orientation": "v",
         "showlegend": true,
         "textposition": "auto",
         "type": "bar",
         "x": [
          "黄金概念"
         ],
         "xaxis": "x",
         "y": [
          54
         ],
         "yaxis": "y"
        },
        {
         "alignmentgroup": "True",
         "hovertemplate": "name=%{x}<br>count=%{y}<extra></extra>",
         "legendgroup": "蚂蚁金服概念",
         "marker": {
          "color": "#FF97FF",
          "pattern": {
           "shape": ""
          }
         },
         "name": "蚂蚁金服概念",
         "offsetgroup": "蚂蚁金服概念",
         "orientation": "v",
         "showlegend": true,
         "textposition": "auto",
         "type": "bar",
         "x": [
          "蚂蚁金服概念"
         ],
         "xaxis": "x",
         "y": [
          54
         ],
         "yaxis": "y"
        },
        {
         "alignmentgroup": "True",
         "hovertemplate": "name=%{x}<br>count=%{y}<extra></extra>",
         "legendgroup": "智能物流",
         "marker": {
          "color": "#FECB52",
          "pattern": {
           "shape": ""
          }
         },
         "name": "智能物流",
         "offsetgroup": "智能物流",
         "orientation": "v",
         "showlegend": true,
         "textposition": "auto",
         "type": "bar",
         "x": [
          "智能物流"
         ],
         "xaxis": "x",
         "y": [
          54
         ],
         "yaxis": "y"
        },
        {
         "alignmentgroup": "True",
         "hovertemplate": "name=%{x}<br>count=%{y}<extra></extra>",
         "legendgroup": "3D打印",
         "marker": {
          "color": "#636efa",
          "pattern": {
           "shape": ""
          }
         },
         "name": "3D打印",
         "offsetgroup": "3D打印",
         "orientation": "v",
         "showlegend": true,
         "textposition": "auto",
         "type": "bar",
         "x": [
          "3D打印"
         ],
         "xaxis": "x",
         "y": [
          55
         ],
         "yaxis": "y"
        },
        {
         "alignmentgroup": "True",
         "hovertemplate": "name=%{x}<br>count=%{y}<extra></extra>",
         "legendgroup": "幽门螺杆菌概念",
         "marker": {
          "color": "#EF553B",
          "pattern": {
           "shape": ""
          }
         },
         "name": "幽门螺杆菌概念",
         "offsetgroup": "幽门螺杆菌概念",
         "orientation": "v",
         "showlegend": true,
         "textposition": "auto",
         "type": "bar",
         "x": [
          "幽门螺杆菌概念"
         ],
         "xaxis": "x",
         "y": [
          57
         ],
         "yaxis": "y"
        },
        {
         "alignmentgroup": "True",
         "hovertemplate": "name=%{x}<br>count=%{y}<extra></extra>",
         "legendgroup": "光伏建筑一体化",
         "marker": {
          "color": "#00cc96",
          "pattern": {
           "shape": ""
          }
         },
         "name": "光伏建筑一体化",
         "offsetgroup": "光伏建筑一体化",
         "orientation": "v",
         "showlegend": true,
         "textposition": "auto",
         "type": "bar",
         "x": [
          "光伏建筑一体化"
         ],
         "xaxis": "x",
         "y": [
          57
         ],
         "yaxis": "y"
        },
        {
         "alignmentgroup": "True",
         "hovertemplate": "name=%{x}<br>count=%{y}<extra></extra>",
         "legendgroup": "数字货币",
         "marker": {
          "color": "#ab63fa",
          "pattern": {
           "shape": ""
          }
         },
         "name": "数字货币",
         "offsetgroup": "数字货币",
         "orientation": "v",
         "showlegend": true,
         "textposition": "auto",
         "type": "bar",
         "x": [
          "数字货币"
         ],
         "xaxis": "x",
         "y": [
          57
         ],
         "yaxis": "y"
        },
        {
         "alignmentgroup": "True",
         "hovertemplate": "name=%{x}<br>count=%{y}<extra></extra>",
         "legendgroup": "土壤修复",
         "marker": {
          "color": "#FFA15A",
          "pattern": {
           "shape": ""
          }
         },
         "name": "土壤修复",
         "offsetgroup": "土壤修复",
         "orientation": "v",
         "showlegend": true,
         "textposition": "auto",
         "type": "bar",
         "x": [
          "土壤修复"
         ],
         "xaxis": "x",
         "y": [
          58
         ],
         "yaxis": "y"
        },
        {
         "alignmentgroup": "True",
         "hovertemplate": "name=%{x}<br>count=%{y}<extra></extra>",
         "legendgroup": "MiniLED",
         "marker": {
          "color": "#19d3f3",
          "pattern": {
           "shape": ""
          }
         },
         "name": "MiniLED",
         "offsetgroup": "MiniLED",
         "orientation": "v",
         "showlegend": true,
         "textposition": "auto",
         "type": "bar",
         "x": [
          "MiniLED"
         ],
         "xaxis": "x",
         "y": [
          58
         ],
         "yaxis": "y"
        }
       ],
       "layout": {
        "barmode": "relative",
        "legend": {
         "title": {
          "text": "name"
         },
         "tracegroupgap": 0
        },
        "margin": {
         "t": 60
        },
        "template": {
         "data": {
          "bar": [
           {
            "error_x": {
             "color": "#2a3f5f"
            },
            "error_y": {
             "color": "#2a3f5f"
            },
            "marker": {
             "line": {
              "color": "#E5ECF6",
              "width": 0.5
             },
             "pattern": {
              "fillmode": "overlay",
              "size": 10,
              "solidity": 0.2
             }
            },
            "type": "bar"
           }
          ],
          "barpolar": [
           {
            "marker": {
             "line": {
              "color": "#E5ECF6",
              "width": 0.5
             },
             "pattern": {
              "fillmode": "overlay",
              "size": 10,
              "solidity": 0.2
             }
            },
            "type": "barpolar"
           }
          ],
          "carpet": [
           {
            "aaxis": {
             "endlinecolor": "#2a3f5f",
             "gridcolor": "white",
             "linecolor": "white",
             "minorgridcolor": "white",
             "startlinecolor": "#2a3f5f"
            },
            "baxis": {
             "endlinecolor": "#2a3f5f",
             "gridcolor": "white",
             "linecolor": "white",
             "minorgridcolor": "white",
             "startlinecolor": "#2a3f5f"
            },
            "type": "carpet"
           }
          ],
          "choropleth": [
           {
            "colorbar": {
             "outlinewidth": 0,
             "ticks": ""
            },
            "type": "choropleth"
           }
          ],
          "contour": [
           {
            "colorbar": {
             "outlinewidth": 0,
             "ticks": ""
            },
            "colorscale": [
             [
              0,
              "#0d0887"
             ],
             [
              0.1111111111111111,
              "#46039f"
             ],
             [
              0.2222222222222222,
              "#7201a8"
             ],
             [
              0.3333333333333333,
              "#9c179e"
             ],
             [
              0.4444444444444444,
              "#bd3786"
             ],
             [
              0.5555555555555556,
              "#d8576b"
             ],
             [
              0.6666666666666666,
              "#ed7953"
             ],
             [
              0.7777777777777778,
              "#fb9f3a"
             ],
             [
              0.8888888888888888,
              "#fdca26"
             ],
             [
              1,
              "#f0f921"
             ]
            ],
            "type": "contour"
           }
          ],
          "contourcarpet": [
           {
            "colorbar": {
             "outlinewidth": 0,
             "ticks": ""
            },
            "type": "contourcarpet"
           }
          ],
          "heatmap": [
           {
            "colorbar": {
             "outlinewidth": 0,
             "ticks": ""
            },
            "colorscale": [
             [
              0,
              "#0d0887"
             ],
             [
              0.1111111111111111,
              "#46039f"
             ],
             [
              0.2222222222222222,
              "#7201a8"
             ],
             [
              0.3333333333333333,
              "#9c179e"
             ],
             [
              0.4444444444444444,
              "#bd3786"
             ],
             [
              0.5555555555555556,
              "#d8576b"
             ],
             [
              0.6666666666666666,
              "#ed7953"
             ],
             [
              0.7777777777777778,
              "#fb9f3a"
             ],
             [
              0.8888888888888888,
              "#fdca26"
             ],
             [
              1,
              "#f0f921"
             ]
            ],
            "type": "heatmap"
           }
          ],
          "heatmapgl": [
           {
            "colorbar": {
             "outlinewidth": 0,
             "ticks": ""
            },
            "colorscale": [
             [
              0,
              "#0d0887"
             ],
             [
              0.1111111111111111,
              "#46039f"
             ],
             [
              0.2222222222222222,
              "#7201a8"
             ],
             [
              0.3333333333333333,
              "#9c179e"
             ],
             [
              0.4444444444444444,
              "#bd3786"
             ],
             [
              0.5555555555555556,
              "#d8576b"
             ],
             [
              0.6666666666666666,
              "#ed7953"
             ],
             [
              0.7777777777777778,
              "#fb9f3a"
             ],
             [
              0.8888888888888888,
              "#fdca26"
             ],
             [
              1,
              "#f0f921"
             ]
            ],
            "type": "heatmapgl"
           }
          ],
          "histogram": [
           {
            "marker": {
             "pattern": {
              "fillmode": "overlay",
              "size": 10,
              "solidity": 0.2
             }
            },
            "type": "histogram"
           }
          ],
          "histogram2d": [
           {
            "colorbar": {
             "outlinewidth": 0,
             "ticks": ""
            },
            "colorscale": [
             [
              0,
              "#0d0887"
             ],
             [
              0.1111111111111111,
              "#46039f"
             ],
             [
              0.2222222222222222,
              "#7201a8"
             ],
             [
              0.3333333333333333,
              "#9c179e"
             ],
             [
              0.4444444444444444,
              "#bd3786"
             ],
             [
              0.5555555555555556,
              "#d8576b"
             ],
             [
              0.6666666666666666,
              "#ed7953"
             ],
             [
              0.7777777777777778,
              "#fb9f3a"
             ],
             [
              0.8888888888888888,
              "#fdca26"
             ],
             [
              1,
              "#f0f921"
             ]
            ],
            "type": "histogram2d"
           }
          ],
          "histogram2dcontour": [
           {
            "colorbar": {
             "outlinewidth": 0,
             "ticks": ""
            },
            "colorscale": [
             [
              0,
              "#0d0887"
             ],
             [
              0.1111111111111111,
              "#46039f"
             ],
             [
              0.2222222222222222,
              "#7201a8"
             ],
             [
              0.3333333333333333,
              "#9c179e"
             ],
             [
              0.4444444444444444,
              "#bd3786"
             ],
             [
              0.5555555555555556,
              "#d8576b"
             ],
             [
              0.6666666666666666,
              "#ed7953"
             ],
             [
              0.7777777777777778,
              "#fb9f3a"
             ],
             [
              0.8888888888888888,
              "#fdca26"
             ],
             [
              1,
              "#f0f921"
             ]
            ],
            "type": "histogram2dcontour"
           }
          ],
          "mesh3d": [
           {
            "colorbar": {
             "outlinewidth": 0,
             "ticks": ""
            },
            "type": "mesh3d"
           }
          ],
          "parcoords": [
           {
            "line": {
             "colorbar": {
              "outlinewidth": 0,
              "ticks": ""
             }
            },
            "type": "parcoords"
           }
          ],
          "pie": [
           {
            "automargin": true,
            "type": "pie"
           }
          ],
          "scatter": [
           {
            "marker": {
             "colorbar": {
              "outlinewidth": 0,
              "ticks": ""
             }
            },
            "type": "scatter"
           }
          ],
          "scatter3d": [
           {
            "line": {
             "colorbar": {
              "outlinewidth": 0,
              "ticks": ""
             }
            },
            "marker": {
             "colorbar": {
              "outlinewidth": 0,
              "ticks": ""
             }
            },
            "type": "scatter3d"
           }
          ],
          "scattercarpet": [
           {
            "marker": {
             "colorbar": {
              "outlinewidth": 0,
              "ticks": ""
             }
            },
            "type": "scattercarpet"
           }
          ],
          "scattergeo": [
           {
            "marker": {
             "colorbar": {
              "outlinewidth": 0,
              "ticks": ""
             }
            },
            "type": "scattergeo"
           }
          ],
          "scattergl": [
           {
            "marker": {
             "colorbar": {
              "outlinewidth": 0,
              "ticks": ""
             }
            },
            "type": "scattergl"
           }
          ],
          "scattermapbox": [
           {
            "marker": {
             "colorbar": {
              "outlinewidth": 0,
              "ticks": ""
             }
            },
            "type": "scattermapbox"
           }
          ],
          "scatterpolar": [
           {
            "marker": {
             "colorbar": {
              "outlinewidth": 0,
              "ticks": ""
             }
            },
            "type": "scatterpolar"
           }
          ],
          "scatterpolargl": [
           {
            "marker": {
             "colorbar": {
              "outlinewidth": 0,
              "ticks": ""
             }
            },
            "type": "scatterpolargl"
           }
          ],
          "scatterternary": [
           {
            "marker": {
             "colorbar": {
              "outlinewidth": 0,
              "ticks": ""
             }
            },
            "type": "scatterternary"
           }
          ],
          "surface": [
           {
            "colorbar": {
             "outlinewidth": 0,
             "ticks": ""
            },
            "colorscale": [
             [
              0,
              "#0d0887"
             ],
             [
              0.1111111111111111,
              "#46039f"
             ],
             [
              0.2222222222222222,
              "#7201a8"
             ],
             [
              0.3333333333333333,
              "#9c179e"
             ],
             [
              0.4444444444444444,
              "#bd3786"
             ],
             [
              0.5555555555555556,
              "#d8576b"
             ],
             [
              0.6666666666666666,
              "#ed7953"
             ],
             [
              0.7777777777777778,
              "#fb9f3a"
             ],
             [
              0.8888888888888888,
              "#fdca26"
             ],
             [
              1,
              "#f0f921"
             ]
            ],
            "type": "surface"
           }
          ],
          "table": [
           {
            "cells": {
             "fill": {
              "color": "#EBF0F8"
             },
             "line": {
              "color": "white"
             }
            },
            "header": {
             "fill": {
              "color": "#C8D4E3"
             },
             "line": {
              "color": "white"
             }
            },
            "type": "table"
           }
          ]
         },
         "layout": {
          "annotationdefaults": {
           "arrowcolor": "#2a3f5f",
           "arrowhead": 0,
           "arrowwidth": 1
          },
          "autotypenumbers": "strict",
          "coloraxis": {
           "colorbar": {
            "outlinewidth": 0,
            "ticks": ""
           }
          },
          "colorscale": {
           "diverging": [
            [
             0,
             "#8e0152"
            ],
            [
             0.1,
             "#c51b7d"
            ],
            [
             0.2,
             "#de77ae"
            ],
            [
             0.3,
             "#f1b6da"
            ],
            [
             0.4,
             "#fde0ef"
            ],
            [
             0.5,
             "#f7f7f7"
            ],
            [
             0.6,
             "#e6f5d0"
            ],
            [
             0.7,
             "#b8e186"
            ],
            [
             0.8,
             "#7fbc41"
            ],
            [
             0.9,
             "#4d9221"
            ],
            [
             1,
             "#276419"
            ]
           ],
           "sequential": [
            [
             0,
             "#0d0887"
            ],
            [
             0.1111111111111111,
             "#46039f"
            ],
            [
             0.2222222222222222,
             "#7201a8"
            ],
            [
             0.3333333333333333,
             "#9c179e"
            ],
            [
             0.4444444444444444,
             "#bd3786"
            ],
            [
             0.5555555555555556,
             "#d8576b"
            ],
            [
             0.6666666666666666,
             "#ed7953"
            ],
            [
             0.7777777777777778,
             "#fb9f3a"
            ],
            [
             0.8888888888888888,
             "#fdca26"
            ],
            [
             1,
             "#f0f921"
            ]
           ],
           "sequentialminus": [
            [
             0,
             "#0d0887"
            ],
            [
             0.1111111111111111,
             "#46039f"
            ],
            [
             0.2222222222222222,
             "#7201a8"
            ],
            [
             0.3333333333333333,
             "#9c179e"
            ],
            [
             0.4444444444444444,
             "#bd3786"
            ],
            [
             0.5555555555555556,
             "#d8576b"
            ],
            [
             0.6666666666666666,
             "#ed7953"
            ],
            [
             0.7777777777777778,
             "#fb9f3a"
            ],
            [
             0.8888888888888888,
             "#fdca26"
            ],
            [
             1,
             "#f0f921"
            ]
           ]
          },
          "colorway": [
           "#636efa",
           "#EF553B",
           "#00cc96",
           "#ab63fa",
           "#FFA15A",
           "#19d3f3",
           "#FF6692",
           "#B6E880",
           "#FF97FF",
           "#FECB52"
          ],
          "font": {
           "color": "#2a3f5f"
          },
          "geo": {
           "bgcolor": "white",
           "lakecolor": "white",
           "landcolor": "#E5ECF6",
           "showlakes": true,
           "showland": true,
           "subunitcolor": "white"
          },
          "hoverlabel": {
           "align": "left"
          },
          "hovermode": "closest",
          "mapbox": {
           "style": "light"
          },
          "paper_bgcolor": "white",
          "plot_bgcolor": "#E5ECF6",
          "polar": {
           "angularaxis": {
            "gridcolor": "white",
            "linecolor": "white",
            "ticks": ""
           },
           "bgcolor": "#E5ECF6",
           "radialaxis": {
            "gridcolor": "white",
            "linecolor": "white",
            "ticks": ""
           }
          },
          "scene": {
           "xaxis": {
            "backgroundcolor": "#E5ECF6",
            "gridcolor": "white",
            "gridwidth": 2,
            "linecolor": "white",
            "showbackground": true,
            "ticks": "",
            "zerolinecolor": "white"
           },
           "yaxis": {
            "backgroundcolor": "#E5ECF6",
            "gridcolor": "white",
            "gridwidth": 2,
            "linecolor": "white",
            "showbackground": true,
            "ticks": "",
            "zerolinecolor": "white"
           },
           "zaxis": {
            "backgroundcolor": "#E5ECF6",
            "gridcolor": "white",
            "gridwidth": 2,
            "linecolor": "white",
            "showbackground": true,
            "ticks": "",
            "zerolinecolor": "white"
           }
          },
          "shapedefaults": {
           "line": {
            "color": "#2a3f5f"
           }
          },
          "ternary": {
           "aaxis": {
            "gridcolor": "white",
            "linecolor": "white",
            "ticks": ""
           },
           "baxis": {
            "gridcolor": "white",
            "linecolor": "white",
            "ticks": ""
           },
           "bgcolor": "#E5ECF6",
           "caxis": {
            "gridcolor": "white",
            "linecolor": "white",
            "ticks": ""
           }
          },
          "title": {
           "x": 0.05
          },
          "xaxis": {
           "automargin": true,
           "gridcolor": "white",
           "linecolor": "white",
           "ticks": "",
           "title": {
            "standoff": 15
           },
           "zerolinecolor": "white",
           "zerolinewidth": 2
          },
          "yaxis": {
           "automargin": true,
           "gridcolor": "white",
           "linecolor": "white",
           "ticks": "",
           "title": {
            "standoff": 15
           },
           "zerolinecolor": "white",
           "zerolinewidth": 2
          }
         }
        },
        "xaxis": {
         "anchor": "y",
         "categoryarray": [
          "中韩自贸区",
          "天津自贸区",
          "共享单车",
          "转基因",
          "啤酒概念",
          "拼多多概念",
          "环氧丙烷",
          "CAR-T",
          "石墨电极",
          "中俄贸易概念",
          "草甘膦",
          "广东自贸区",
          "钛白粉概念",
          "可燃冰",
          "社区团购",
          "电子纸",
          "太空旅行",
          "汽车拆解概念",
          "鸿蒙概念",
          "DRG/DIP",
          "WSB概念",
          "染料",
          "网约车",
          "互联网彩票",
          "冰雪产业",
          "福建自贸区",
          "牙科医疗",
          "钠离子电池",
          "EDR概念",
          "净水概念",
          "人造肉",
          "玉米",
          "动物疫苗",
          "太阳能",
          "无人零售",
          "代糖概念",
          "在线旅游",
          "北交所概念",
          "硅能源",
          "养鸡",
          "5G",
          "草地贪夜蛾防治",
          "NFT",
          "足球概念",
          "民爆概念",
          "新三板精选层概念",
          "NMN概念",
          "华为海思概念股",
          "大麻",
          "智慧灯杆",
          "数据安全",
          "PCB概念",
          "智能音箱",
          "租售同权",
          "新能源车",
          "WiFi 6",
          "云游戏",
          "超级真菌",
          "特钢概念",
          "氟化工概念",
          "有机硅概念",
          "碳纤维",
          "互联网保险",
          "自由贸易港",
          "抽水蓄能",
          "室外经济",
          "海峡两岸",
          "航运概念",
          "烟草",
          "物业管理",
          "信托概念",
          "NFT概念",
          "胎压监测",
          "钴",
          "CRO概念",
          "新冠概念",
          "汽车芯片",
          "快手概念",
          "盐湖提锂",
          "跨境支付（CIPS）",
          "细胞免疫治疗",
          "动力电池回收",
          "超级电容",
          "超级品牌",
          "乳业",
          "新冠治疗",
          "云办公",
          "医疗废物处理",
          "深圳国资改革",
          "农机",
          "富媒体",
          "HJT电池",
          "MCU芯片",
          "特色小镇",
          "猪肉",
          "电子竞技",
          "眼科医疗",
          "换电概念",
          "禽流感",
          "无线充电",
          "通用航空",
          "国家大基金持股",
          "海工装备",
          "海南自贸区",
          "医药电商",
          "SaaS",
          "生态农业",
          "免税店",
          "PM2.5",
          "页岩气",
          "水泥概念",
          "农业种植",
          "国产航母",
          "C2M概念",
          "食品安全",
          "新型烟草",
          "ETC",
          "量子科技",
          "农村电商",
          "磷化工",
          "航空发动机",
          "虚拟数字人",
          "数字乡村",
          "辅助生殖",
          "举牌",
          "东数西算（算力）",
          "智慧政务",
          "黑龙江自贸区",
          "土地流转",
          "光刻胶",
          "证金持股",
          "白酒概念",
          "柔性直流输电",
          "稀缺资源",
          "智能制造",
          "数字孪生",
          "人脸识别",
          "新疆振兴",
          "上海自贸区",
          "横琴新区",
          "共同富裕示范区",
          "华为汽车",
          "债转股",
          "工业母机",
          "知识产权保护",
          "基因测序",
          "杭州亚运会",
          "地下管网",
          "百度概念",
          "智能医疗",
          "消毒剂",
          "中芯国际概念",
          "金改",
          "传感器",
          "供应链金融",
          "富士康概念",
          "俄乌冲突概念",
          "煤炭概念",
          "工业大麻",
          "稀土永磁",
          "国产操作系统",
          "医美概念",
          "电力物联网",
          "水利",
          "生物疫苗",
          "京津冀一体化",
          "预制菜",
          "黄金概念",
          "蚂蚁金服概念",
          "智能物流",
          "3D打印",
          "幽门螺杆菌概念",
          "光伏建筑一体化",
          "数字货币",
          "土壤修复",
          "MiniLED"
         ],
         "categoryorder": "array",
         "domain": [
          0,
          1
         ],
         "tickangle": 45,
         "title": {
          "text": "name"
         }
        },
        "yaxis": {
         "anchor": "x",
         "domain": [
          0,
          1
         ],
         "title": {
          "text": "count"
         }
        }
       }
      }
     },
     "metadata": {},
     "output_type": "display_data"
    }
   ],
   "source": [
    "fig = px.bar(A_index_listF.sort_values('count'), x='name', y='count', color='name')\n",
    "fig.update_layout(xaxis_tickangle=45)"
   ]
  },
  {
   "cell_type": "code",
   "execution_count": 14,
   "metadata": {},
   "outputs": [
    {
     "name": "stdout",
     "output_type": "stream",
     "text": [
      "2022-03-04 21:14:27.936758\n",
      "current date is 20220304, previous date is 20220222\n"
     ]
    }
   ],
   "source": [
    "# get daily THS concept data\n",
    "ct = datetime.today() # current time\n",
    "print(ct)\n",
    "# ct = datetime.strptime(ct.strftime('%Y%m%d'), '%Y%m%d')\n",
    "# print(ct)\n",
    "num_days = 10 # 取多少日数据, 我们只需要算1，3，5日收益率，10天够了\n",
    "pt = ct - timedelta(num_days) # num_days days before\n",
    "ct = ct.strftime('%Y%m%d')\n",
    "pt = pt.strftime('%Y%m%d')\n",
    "print(f'current date is {ct}, previous date is {pt}')"
   ]
  },
  {
   "cell_type": "code",
   "execution_count": 15,
   "metadata": {},
   "outputs": [
    {
     "name": "stdout",
     "output_type": "stream",
     "text": [
      "TS code is 864007.TI\n",
      "count = 1\n",
      "TS code is 864009.TI\n",
      "count = 2\n",
      "TS code is 864010.TI\n",
      "count = 3\n",
      "TS code is 864013.TI\n",
      "count = 4\n",
      "TS code is 864017.TI\n",
      "count = 5\n",
      "TS code is 864020.TI\n",
      "beyond 5 times sleep 1 min\n",
      "TS code is 864022.TI\n",
      "count = 7\n",
      "TS code is 864026.TI\n",
      "count = 8\n",
      "TS code is 864027.TI\n",
      "count = 9\n",
      "TS code is 864028.TI\n",
      "count = 10\n",
      "TS code is 885284.TI\n",
      "beyond 5 times sleep 1 min\n",
      "TS code is 885343.TI\n",
      "count = 12\n",
      "TS code is 885345.TI\n",
      "count = 13\n",
      "TS code is 885372.TI\n",
      "count = 14\n",
      "TS code is 885402.TI\n",
      "count = 15\n",
      "TS code is 885406.TI\n",
      "beyond 5 times sleep 1 min\n",
      "TS code is 885426.TI\n",
      "count = 17\n",
      "TS code is 885428.TI\n",
      "count = 18\n",
      "TS code is 885439.TI\n",
      "count = 19\n",
      "TS code is 885462.TI\n",
      "count = 20\n",
      "TS code is 885472.TI\n",
      "beyond 5 times sleep 1 min\n",
      "TS code is 885487.TI\n",
      "count = 22\n",
      "TS code is 885497.TI\n",
      "count = 23\n",
      "TS code is 885500.TI\n",
      "count = 24\n",
      "TS code is 885505.TI\n",
      "count = 25\n",
      "TS code is 885508.TI\n",
      "beyond 5 times sleep 1 min\n",
      "TS code is 885514.TI\n",
      "count = 27\n",
      "TS code is 885525.TI\n",
      "count = 28\n",
      "TS code is 885530.TI\n",
      "count = 29\n",
      "TS code is 885537.TI\n",
      "count = 30\n",
      "TS code is 885551.TI\n",
      "beyond 5 times sleep 1 min\n",
      "TS code is 885555.TI\n",
      "count = 32\n",
      "TS code is 885560.TI\n",
      "count = 33\n",
      "TS code is 885572.TI\n",
      "count = 34\n",
      "TS code is 885573.TI\n",
      "count = 35\n",
      "TS code is 885578.TI\n",
      "beyond 5 times sleep 1 min\n",
      "TS code is 885580.TI\n",
      "count = 37\n",
      "TS code is 885587.TI\n",
      "count = 38\n",
      "TS code is 885591.TI\n",
      "count = 39\n",
      "TS code is 885617.TI\n",
      "count = 40\n",
      "TS code is 885629.TI\n",
      "beyond 5 times sleep 1 min\n",
      "TS code is 885633.TI\n",
      "count = 42\n",
      "TS code is 885640.TI\n",
      "count = 43\n",
      "TS code is 885647.TI\n",
      "count = 44\n",
      "TS code is 885650.TI\n",
      "count = 45\n",
      "TS code is 885652.TI\n",
      "beyond 5 times sleep 1 min\n",
      "TS code is 885657.TI\n",
      "count = 47\n",
      "TS code is 885661.TI\n",
      "count = 48\n",
      "TS code is 885663.TI\n",
      "count = 49\n",
      "TS code is 885692.TI\n",
      "count = 50\n",
      "TS code is 885697.TI\n",
      "beyond 5 times sleep 1 min\n",
      "TS code is 885701.TI\n",
      "count = 52\n",
      "TS code is 885706.TI\n",
      "count = 53\n",
      "TS code is 885730.TI\n",
      "count = 54\n",
      "TS code is 885733.TI\n",
      "count = 55\n",
      "TS code is 885734.TI\n",
      "beyond 5 times sleep 1 min\n",
      "TS code is 885737.TI\n",
      "count = 57\n",
      "TS code is 885740.TI\n",
      "count = 58\n",
      "TS code is 885747.TI\n",
      "count = 59\n",
      "TS code is 885748.TI\n",
      "count = 60\n",
      "TS code is 885749.TI\n",
      "beyond 5 times sleep 1 min\n",
      "TS code is 885750.TI\n",
      "count = 62\n",
      "TS code is 885753.TI\n",
      "count = 63\n",
      "TS code is 885758.TI\n",
      "count = 64\n",
      "TS code is 885759.TI\n",
      "count = 65\n",
      "TS code is 885761.TI\n",
      "beyond 5 times sleep 1 min\n",
      "TS code is 885764.TI\n",
      "count = 67\n",
      "TS code is 885767.TI\n",
      "count = 68\n",
      "TS code is 885768.TI\n",
      "count = 69\n",
      "TS code is 885769.TI\n",
      "count = 70\n",
      "TS code is 885770.TI\n",
      "beyond 5 times sleep 1 min\n",
      "TS code is 885771.TI\n",
      "count = 72\n",
      "TS code is 885774.TI\n",
      "count = 73\n",
      "TS code is 885780.TI\n",
      "count = 74\n",
      "TS code is 885781.TI\n",
      "count = 75\n",
      "TS code is 885782.TI\n",
      "beyond 5 times sleep 1 min\n",
      "TS code is 885786.TI\n",
      "count = 77\n",
      "TS code is 885791.TI\n",
      "count = 78\n",
      "TS code is 885795.TI\n",
      "count = 79\n",
      "TS code is 885797.TI\n",
      "count = 80\n",
      "TS code is 885808.TI\n",
      "beyond 5 times sleep 1 min\n",
      "TS code is 885811.TI\n",
      "count = 82\n",
      "TS code is 885812.TI\n",
      "count = 83\n",
      "TS code is 885814.TI\n",
      "count = 84\n",
      "TS code is 885818.TI\n",
      "count = 85\n",
      "TS code is 885819.TI\n",
      "beyond 5 times sleep 1 min\n",
      "TS code is 885820.TI\n",
      "count = 87\n",
      "TS code is 885825.TI\n",
      "count = 88\n",
      "TS code is 885827.TI\n",
      "count = 89\n",
      "TS code is 885831.TI\n",
      "count = 90\n",
      "TS code is 885834.TI\n",
      "beyond 5 times sleep 1 min\n",
      "TS code is 885838.TI\n",
      "count = 92\n",
      "TS code is 885839.TI\n",
      "count = 93\n",
      "TS code is 885841.TI\n",
      "count = 94\n",
      "TS code is 885842.TI\n",
      "count = 95\n",
      "TS code is 885843.TI\n",
      "beyond 5 times sleep 1 min\n",
      "TS code is 885844.TI\n",
      "count = 97\n",
      "TS code is 885845.TI\n",
      "count = 98\n",
      "TS code is 885846.TI\n",
      "count = 99\n",
      "TS code is 885849.TI\n",
      "count = 100\n",
      "TS code is 885851.TI\n",
      "beyond 5 times sleep 1 min\n",
      "TS code is 885861.TI\n",
      "count = 102\n",
      "TS code is 885863.TI\n",
      "count = 103\n",
      "TS code is 885864.TI\n",
      "count = 104\n",
      "TS code is 885865.TI\n",
      "count = 105\n",
      "TS code is 885866.TI\n",
      "beyond 5 times sleep 1 min\n",
      "TS code is 885871.TI\n",
      "count = 107\n",
      "TS code is 885874.TI\n",
      "count = 108\n",
      "TS code is 885875.TI\n",
      "count = 109\n",
      "TS code is 885877.TI\n",
      "count = 110\n",
      "TS code is 885878.TI\n",
      "beyond 5 times sleep 1 min\n",
      "TS code is 885881.TI\n",
      "count = 112\n",
      "TS code is 885882.TI\n",
      "count = 113\n",
      "TS code is 885883.TI\n",
      "count = 114\n",
      "TS code is 885884.TI\n",
      "count = 115\n",
      "TS code is 885886.TI\n",
      "beyond 5 times sleep 1 min\n",
      "TS code is 885888.TI\n",
      "count = 117\n",
      "TS code is 885889.TI\n",
      "count = 118\n",
      "TS code is 885891.TI\n",
      "count = 119\n",
      "TS code is 885893.TI\n",
      "count = 120\n",
      "TS code is 885894.TI\n",
      "beyond 5 times sleep 1 min\n",
      "TS code is 885895.TI\n",
      "count = 122\n",
      "TS code is 885897.TI\n",
      "count = 123\n",
      "TS code is 885898.TI\n",
      "count = 124\n",
      "TS code is 885899.TI\n",
      "count = 125\n",
      "TS code is 885900.TI\n",
      "beyond 5 times sleep 1 min\n",
      "TS code is 885902.TI\n",
      "count = 127\n",
      "TS code is 885903.TI\n",
      "count = 128\n",
      "TS code is 885904.TI\n",
      "count = 129\n",
      "TS code is 885909.TI\n",
      "count = 130\n",
      "TS code is 885910.TI\n",
      "beyond 5 times sleep 1 min\n",
      "TS code is 885911.TI\n",
      "count = 132\n",
      "TS code is 885912.TI\n",
      "count = 133\n",
      "TS code is 885913.TI\n",
      "count = 134\n",
      "TS code is 885914.TI\n",
      "count = 135\n",
      "TS code is 885915.TI\n",
      "beyond 5 times sleep 1 min\n",
      "TS code is 885918.TI\n",
      "count = 137\n",
      "TS code is 885920.TI\n",
      "count = 138\n",
      "TS code is 885922.TI\n",
      "count = 139\n",
      "TS code is 885923.TI\n",
      "count = 140\n",
      "TS code is 885924.TI\n",
      "beyond 5 times sleep 1 min\n",
      "TS code is 885925.TI\n",
      "count = 142\n",
      "TS code is 885926.TI\n",
      "count = 143\n",
      "TS code is 885927.TI\n",
      "count = 144\n",
      "TS code is 885928.TI\n",
      "count = 145\n",
      "TS code is 885930.TI\n",
      "beyond 5 times sleep 1 min\n",
      "TS code is 885932.TI\n",
      "count = 147\n",
      "TS code is 885933.TI\n",
      "count = 148\n",
      "TS code is 885935.TI\n",
      "count = 149\n",
      "TS code is 885938.TI\n",
      "count = 150\n",
      "TS code is 885939.TI\n",
      "beyond 5 times sleep 1 min\n",
      "TS code is 885940.TI\n",
      "count = 152\n",
      "TS code is 885941.TI\n",
      "count = 153\n",
      "TS code is 885942.TI\n",
      "count = 154\n",
      "TS code is 885943.TI\n",
      "count = 155\n",
      "TS code is 885944.TI\n",
      "beyond 5 times sleep 1 min\n",
      "TS code is 885945.TI\n",
      "count = 157\n",
      "TS code is 885946.TI\n",
      "count = 158\n",
      "TS code is 885947.TI\n",
      "count = 159\n",
      "TS code is 885948.TI\n",
      "count = 160\n",
      "TS code is 885950.TI\n",
      "beyond 5 times sleep 1 min\n",
      "TS code is 885951.TI\n",
      "count = 162\n",
      "TS code is 885952.TI\n",
      "count = 163\n",
      "TS code is 885953.TI\n",
      "count = 164\n",
      "TS code is 885954.TI\n",
      "count = 165\n",
      "TS code is 885956.TI\n",
      "beyond 5 times sleep 1 min\n",
      "TS code is 885957.TI\n",
      "count = 167\n",
      "TS code is 885958.TI\n",
      "count = 168\n",
      "TS code is 885959.TI\n",
      "count = 169\n",
      "TS code is 885960.TI\n",
      "count = 170\n",
      "TS code is 885961.TI\n",
      "beyond 5 times sleep 1 min\n",
      "TS code is 885962.TI\n",
      "count = 172\n",
      "TS code is 885963.TI\n",
      "count = 173\n",
      "TS code is 885964.TI\n",
      "count = 174\n",
      "TS code is 885965.TI\n",
      "count = 175\n",
      "TS code is 885966.TI\n",
      "beyond 5 times sleep 1 min\n"
     ]
    }
   ],
   "source": [
    "df = pd.DataFrame() # empty dataframe\n",
    "cnt = 0\n",
    "miss_code = []\n",
    "for code in A_index_listF['ts_code']:\n",
    "    print(f'TS code is {code}')\n",
    "    if cnt != 0 and cnt % 5 == 0:\n",
    "        print('beyond 5 times sleep 1 min')\n",
    "        miss_code.append(code)\n",
    "        time.sleep(60)\n",
    "        cnt +=1\n",
    "    else:\n",
    "        df_tmp = pro.ths_daily(ts_code=code, start_date=pt, fields='ts_code,trade_date,open,close,high,low,pct_change')\n",
    "        df = pd.concat([df,df_tmp], ignore_index=True)\n",
    "        # print(df,df_tmp)\n",
    "        cnt += 1\n",
    "        print(f'count = {cnt}')"
   ]
  },
  {
   "cell_type": "code",
   "execution_count": 16,
   "metadata": {},
   "outputs": [
    {
     "name": "stdout",
     "output_type": "stream",
     "text": [
      "count = 1\n",
      "count = 2\n",
      "count = 3\n",
      "count = 4\n",
      "count = 5\n",
      "beyond 5 times sleep 1 min\n",
      "count = 7\n",
      "count = 8\n",
      "count = 9\n",
      "count = 10\n",
      "beyond 5 times sleep 1 min\n",
      "count = 12\n",
      "count = 13\n",
      "count = 14\n",
      "count = 15\n",
      "beyond 5 times sleep 1 min\n",
      "count = 17\n",
      "count = 18\n",
      "count = 19\n",
      "count = 20\n",
      "beyond 5 times sleep 1 min\n",
      "count = 22\n",
      "count = 23\n",
      "count = 24\n",
      "count = 25\n",
      "beyond 5 times sleep 1 min\n",
      "count = 27\n",
      "count = 28\n",
      "count = 29\n",
      "count = 30\n",
      "beyond 5 times sleep 1 min\n",
      "count = 32\n",
      "count = 33\n",
      "count = 34\n",
      "count = 35\n",
      "beyond 5 times sleep 1 min\n",
      "count = 37\n",
      "count = 38\n",
      "count = 39\n",
      "count = 40\n",
      "beyond 5 times sleep 1 min\n",
      "missing code now less than 5\n"
     ]
    }
   ],
   "source": [
    "time.sleep(60)\n",
    "cnt = 0\n",
    "while len(miss_code) > 5:\n",
    "    miss_code2 = []\n",
    "    for code in miss_code:\n",
    "        if cnt != 0 and cnt % 5 == 0:\n",
    "            print('beyond 5 times sleep 1 min')\n",
    "            miss_code2.append(code)\n",
    "            miss_code = miss_code2\n",
    "            time.sleep(60)\n",
    "            cnt +=1\n",
    "        else:\n",
    "            df_tmp = pro.ths_daily(ts_code=code, start_date=pt, fields='ts_code,trade_date,open,close,high,low,pct_change')\n",
    "            df = pd.concat([df,df_tmp], ignore_index=True)\n",
    "            # print(df,df_tmp)\n",
    "            cnt += 1\n",
    "            print(f'count = {cnt}')\n",
    "else:\n",
    "    print('missing code now less than 5')\n",
    "    for code in miss_code:\n",
    "        df_tmp = pro.ths_daily(ts_code=code, start_date=pt, fields='ts_code,trade_date,open,close,high,low,pct_change')\n",
    "        df = pd.concat([df,df_tmp], ignore_index=True)"
   ]
  },
  {
   "cell_type": "code",
   "execution_count": 17,
   "metadata": {},
   "outputs": [],
   "source": [
    "df.to_csv('同花顺概念指数'+ct+'.csv')\n",
    "# df = pd.read_csv('同花顺概念指数' + ct + '.csv')"
   ]
  },
  {
   "cell_type": "code",
   "execution_count": 18,
   "metadata": {},
   "outputs": [
    {
     "data": {
      "text/html": [
       "<div>\n",
       "<style scoped>\n",
       "    .dataframe tbody tr th:only-of-type {\n",
       "        vertical-align: middle;\n",
       "    }\n",
       "\n",
       "    .dataframe tbody tr th {\n",
       "        vertical-align: top;\n",
       "    }\n",
       "\n",
       "    .dataframe thead th {\n",
       "        text-align: right;\n",
       "    }\n",
       "</style>\n",
       "<table border=\"1\" class=\"dataframe\">\n",
       "  <thead>\n",
       "    <tr style=\"text-align: right;\">\n",
       "      <th>ts_code</th>\n",
       "      <th>885284.TI</th>\n",
       "      <th>885343.TI</th>\n",
       "      <th>885345.TI</th>\n",
       "      <th>885372.TI</th>\n",
       "      <th>885402.TI</th>\n",
       "      <th>885406.TI</th>\n",
       "      <th>885426.TI</th>\n",
       "      <th>885428.TI</th>\n",
       "      <th>885439.TI</th>\n",
       "      <th>885462.TI</th>\n",
       "      <th>...</th>\n",
       "      <th>885957.TI</th>\n",
       "      <th>885958.TI</th>\n",
       "      <th>885959.TI</th>\n",
       "      <th>885960.TI</th>\n",
       "      <th>885961.TI</th>\n",
       "      <th>885962.TI</th>\n",
       "      <th>885963.TI</th>\n",
       "      <th>885964.TI</th>\n",
       "      <th>885965.TI</th>\n",
       "      <th>885966.TI</th>\n",
       "    </tr>\n",
       "    <tr>\n",
       "      <th>trade_date</th>\n",
       "      <th></th>\n",
       "      <th></th>\n",
       "      <th></th>\n",
       "      <th></th>\n",
       "      <th></th>\n",
       "      <th></th>\n",
       "      <th></th>\n",
       "      <th></th>\n",
       "      <th></th>\n",
       "      <th></th>\n",
       "      <th></th>\n",
       "      <th></th>\n",
       "      <th></th>\n",
       "      <th></th>\n",
       "      <th></th>\n",
       "      <th></th>\n",
       "      <th></th>\n",
       "      <th></th>\n",
       "      <th></th>\n",
       "      <th></th>\n",
       "      <th></th>\n",
       "    </tr>\n",
       "  </thead>\n",
       "  <tbody>\n",
       "    <tr>\n",
       "      <th>20220222</th>\n",
       "      <td>1308.081</td>\n",
       "      <td>2115.636</td>\n",
       "      <td>770.232</td>\n",
       "      <td>1716.767</td>\n",
       "      <td>3370.094</td>\n",
       "      <td>3872.374</td>\n",
       "      <td>1897.016</td>\n",
       "      <td>3200.964</td>\n",
       "      <td>2223.529</td>\n",
       "      <td>2133.999</td>\n",
       "      <td>...</td>\n",
       "      <td>1142.291</td>\n",
       "      <td>1047.809</td>\n",
       "      <td>1007.335</td>\n",
       "      <td>1164.085</td>\n",
       "      <td>972.536</td>\n",
       "      <td>994.861</td>\n",
       "      <td>1001.955</td>\n",
       "      <td>NaN</td>\n",
       "      <td>NaN</td>\n",
       "      <td>NaN</td>\n",
       "    </tr>\n",
       "    <tr>\n",
       "      <th>20220223</th>\n",
       "      <td>1314.649</td>\n",
       "      <td>2156.857</td>\n",
       "      <td>767.829</td>\n",
       "      <td>1704.015</td>\n",
       "      <td>3415.791</td>\n",
       "      <td>3958.383</td>\n",
       "      <td>1927.337</td>\n",
       "      <td>3238.433</td>\n",
       "      <td>2225.905</td>\n",
       "      <td>2140.923</td>\n",
       "      <td>...</td>\n",
       "      <td>1159.460</td>\n",
       "      <td>1101.246</td>\n",
       "      <td>1034.837</td>\n",
       "      <td>1161.983</td>\n",
       "      <td>980.119</td>\n",
       "      <td>1004.154</td>\n",
       "      <td>1010.194</td>\n",
       "      <td>NaN</td>\n",
       "      <td>NaN</td>\n",
       "      <td>NaN</td>\n",
       "    </tr>\n",
       "    <tr>\n",
       "      <th>20220224</th>\n",
       "      <td>1302.515</td>\n",
       "      <td>2119.847</td>\n",
       "      <td>768.358</td>\n",
       "      <td>1758.840</td>\n",
       "      <td>3272.582</td>\n",
       "      <td>3821.816</td>\n",
       "      <td>1934.491</td>\n",
       "      <td>3163.729</td>\n",
       "      <td>2179.850</td>\n",
       "      <td>2090.180</td>\n",
       "      <td>...</td>\n",
       "      <td>1108.167</td>\n",
       "      <td>1098.931</td>\n",
       "      <td>1007.127</td>\n",
       "      <td>1129.917</td>\n",
       "      <td>944.637</td>\n",
       "      <td>967.341</td>\n",
       "      <td>984.360</td>\n",
       "      <td>NaN</td>\n",
       "      <td>NaN</td>\n",
       "      <td>NaN</td>\n",
       "    </tr>\n",
       "    <tr>\n",
       "      <th>20220225</th>\n",
       "      <td>1308.824</td>\n",
       "      <td>2152.772</td>\n",
       "      <td>776.990</td>\n",
       "      <td>1774.313</td>\n",
       "      <td>3298.475</td>\n",
       "      <td>3885.884</td>\n",
       "      <td>1922.119</td>\n",
       "      <td>3222.426</td>\n",
       "      <td>2188.224</td>\n",
       "      <td>2103.876</td>\n",
       "      <td>...</td>\n",
       "      <td>1118.839</td>\n",
       "      <td>1103.604</td>\n",
       "      <td>1021.766</td>\n",
       "      <td>1125.638</td>\n",
       "      <td>959.967</td>\n",
       "      <td>971.623</td>\n",
       "      <td>986.683</td>\n",
       "      <td>996.083</td>\n",
       "      <td>NaN</td>\n",
       "      <td>NaN</td>\n",
       "    </tr>\n",
       "    <tr>\n",
       "      <th>20220228</th>\n",
       "      <td>1332.786</td>\n",
       "      <td>2162.242</td>\n",
       "      <td>785.580</td>\n",
       "      <td>1802.785</td>\n",
       "      <td>3290.083</td>\n",
       "      <td>3953.928</td>\n",
       "      <td>1938.044</td>\n",
       "      <td>3230.711</td>\n",
       "      <td>2197.124</td>\n",
       "      <td>2108.268</td>\n",
       "      <td>...</td>\n",
       "      <td>1116.553</td>\n",
       "      <td>1116.617</td>\n",
       "      <td>1012.808</td>\n",
       "      <td>1134.639</td>\n",
       "      <td>949.254</td>\n",
       "      <td>969.860</td>\n",
       "      <td>975.345</td>\n",
       "      <td>1006.837</td>\n",
       "      <td>1042.512</td>\n",
       "      <td>1027.102</td>\n",
       "    </tr>\n",
       "    <tr>\n",
       "      <th>20220301</th>\n",
       "      <td>1326.452</td>\n",
       "      <td>2156.669</td>\n",
       "      <td>791.459</td>\n",
       "      <td>1801.114</td>\n",
       "      <td>3307.534</td>\n",
       "      <td>3974.307</td>\n",
       "      <td>1968.830</td>\n",
       "      <td>3242.772</td>\n",
       "      <td>2224.463</td>\n",
       "      <td>2142.991</td>\n",
       "      <td>...</td>\n",
       "      <td>1147.340</td>\n",
       "      <td>1140.012</td>\n",
       "      <td>1014.982</td>\n",
       "      <td>1132.594</td>\n",
       "      <td>959.609</td>\n",
       "      <td>973.611</td>\n",
       "      <td>977.542</td>\n",
       "      <td>996.911</td>\n",
       "      <td>1035.807</td>\n",
       "      <td>1048.588</td>\n",
       "    </tr>\n",
       "    <tr>\n",
       "      <th>20220302</th>\n",
       "      <td>1342.998</td>\n",
       "      <td>2164.238</td>\n",
       "      <td>801.836</td>\n",
       "      <td>1863.996</td>\n",
       "      <td>3327.533</td>\n",
       "      <td>3991.237</td>\n",
       "      <td>1982.937</td>\n",
       "      <td>3250.554</td>\n",
       "      <td>2265.503</td>\n",
       "      <td>2159.435</td>\n",
       "      <td>...</td>\n",
       "      <td>1144.955</td>\n",
       "      <td>1150.591</td>\n",
       "      <td>1001.688</td>\n",
       "      <td>1131.723</td>\n",
       "      <td>960.061</td>\n",
       "      <td>982.569</td>\n",
       "      <td>978.321</td>\n",
       "      <td>1032.521</td>\n",
       "      <td>1115.413</td>\n",
       "      <td>1041.817</td>\n",
       "    </tr>\n",
       "    <tr>\n",
       "      <th>20220303</th>\n",
       "      <td>1346.983</td>\n",
       "      <td>2140.266</td>\n",
       "      <td>816.706</td>\n",
       "      <td>1951.060</td>\n",
       "      <td>3333.858</td>\n",
       "      <td>3962.378</td>\n",
       "      <td>1989.268</td>\n",
       "      <td>3255.116</td>\n",
       "      <td>2291.872</td>\n",
       "      <td>2148.164</td>\n",
       "      <td>...</td>\n",
       "      <td>1121.624</td>\n",
       "      <td>1126.068</td>\n",
       "      <td>981.537</td>\n",
       "      <td>1115.955</td>\n",
       "      <td>960.916</td>\n",
       "      <td>987.075</td>\n",
       "      <td>970.113</td>\n",
       "      <td>1073.473</td>\n",
       "      <td>1224.810</td>\n",
       "      <td>1046.800</td>\n",
       "    </tr>\n",
       "    <tr>\n",
       "      <th>20220304</th>\n",
       "      <td>1320.323</td>\n",
       "      <td>2096.746</td>\n",
       "      <td>800.074</td>\n",
       "      <td>1864.445</td>\n",
       "      <td>3315.398</td>\n",
       "      <td>3933.456</td>\n",
       "      <td>1932.246</td>\n",
       "      <td>3206.310</td>\n",
       "      <td>2261.076</td>\n",
       "      <td>2143.605</td>\n",
       "      <td>...</td>\n",
       "      <td>1099.231</td>\n",
       "      <td>1104.698</td>\n",
       "      <td>973.333</td>\n",
       "      <td>1097.343</td>\n",
       "      <td>954.021</td>\n",
       "      <td>971.141</td>\n",
       "      <td>951.253</td>\n",
       "      <td>1029.366</td>\n",
       "      <td>1201.588</td>\n",
       "      <td>1020.100</td>\n",
       "    </tr>\n",
       "  </tbody>\n",
       "</table>\n",
       "<p>9 rows × 166 columns</p>\n",
       "</div>"
      ],
      "text/plain": [
       "ts_code     885284.TI  885343.TI  885345.TI  885372.TI  885402.TI  885406.TI  \\\n",
       "trade_date                                                                     \n",
       "20220222     1308.081   2115.636    770.232   1716.767   3370.094   3872.374   \n",
       "20220223     1314.649   2156.857    767.829   1704.015   3415.791   3958.383   \n",
       "20220224     1302.515   2119.847    768.358   1758.840   3272.582   3821.816   \n",
       "20220225     1308.824   2152.772    776.990   1774.313   3298.475   3885.884   \n",
       "20220228     1332.786   2162.242    785.580   1802.785   3290.083   3953.928   \n",
       "20220301     1326.452   2156.669    791.459   1801.114   3307.534   3974.307   \n",
       "20220302     1342.998   2164.238    801.836   1863.996   3327.533   3991.237   \n",
       "20220303     1346.983   2140.266    816.706   1951.060   3333.858   3962.378   \n",
       "20220304     1320.323   2096.746    800.074   1864.445   3315.398   3933.456   \n",
       "\n",
       "ts_code     885426.TI  885428.TI  885439.TI  885462.TI  ...  885957.TI  \\\n",
       "trade_date                                              ...              \n",
       "20220222     1897.016   3200.964   2223.529   2133.999  ...   1142.291   \n",
       "20220223     1927.337   3238.433   2225.905   2140.923  ...   1159.460   \n",
       "20220224     1934.491   3163.729   2179.850   2090.180  ...   1108.167   \n",
       "20220225     1922.119   3222.426   2188.224   2103.876  ...   1118.839   \n",
       "20220228     1938.044   3230.711   2197.124   2108.268  ...   1116.553   \n",
       "20220301     1968.830   3242.772   2224.463   2142.991  ...   1147.340   \n",
       "20220302     1982.937   3250.554   2265.503   2159.435  ...   1144.955   \n",
       "20220303     1989.268   3255.116   2291.872   2148.164  ...   1121.624   \n",
       "20220304     1932.246   3206.310   2261.076   2143.605  ...   1099.231   \n",
       "\n",
       "ts_code     885958.TI  885959.TI  885960.TI  885961.TI  885962.TI  885963.TI  \\\n",
       "trade_date                                                                     \n",
       "20220222     1047.809   1007.335   1164.085    972.536    994.861   1001.955   \n",
       "20220223     1101.246   1034.837   1161.983    980.119   1004.154   1010.194   \n",
       "20220224     1098.931   1007.127   1129.917    944.637    967.341    984.360   \n",
       "20220225     1103.604   1021.766   1125.638    959.967    971.623    986.683   \n",
       "20220228     1116.617   1012.808   1134.639    949.254    969.860    975.345   \n",
       "20220301     1140.012   1014.982   1132.594    959.609    973.611    977.542   \n",
       "20220302     1150.591   1001.688   1131.723    960.061    982.569    978.321   \n",
       "20220303     1126.068    981.537   1115.955    960.916    987.075    970.113   \n",
       "20220304     1104.698    973.333   1097.343    954.021    971.141    951.253   \n",
       "\n",
       "ts_code     885964.TI  885965.TI  885966.TI  \n",
       "trade_date                                   \n",
       "20220222          NaN        NaN        NaN  \n",
       "20220223          NaN        NaN        NaN  \n",
       "20220224          NaN        NaN        NaN  \n",
       "20220225      996.083        NaN        NaN  \n",
       "20220228     1006.837   1042.512   1027.102  \n",
       "20220301      996.911   1035.807   1048.588  \n",
       "20220302     1032.521   1115.413   1041.817  \n",
       "20220303     1073.473   1224.810   1046.800  \n",
       "20220304     1029.366   1201.588   1020.100  \n",
       "\n",
       "[9 rows x 166 columns]"
      ]
     },
     "execution_count": 18,
     "metadata": {},
     "output_type": "execute_result"
    }
   ],
   "source": [
    "final_data = (df.sort_values(['ts_code', 'trade_date'])\n",
    "                .set_index(['trade_date', 'ts_code'])['close'].unstack()\n",
    "                )\n",
    "final_data"
   ]
  },
  {
   "cell_type": "code",
   "execution_count": 19,
   "metadata": {},
   "outputs": [
    {
     "data": {
      "text/html": [
       "<div>\n",
       "<style scoped>\n",
       "    .dataframe tbody tr th:only-of-type {\n",
       "        vertical-align: middle;\n",
       "    }\n",
       "\n",
       "    .dataframe tbody tr th {\n",
       "        vertical-align: top;\n",
       "    }\n",
       "\n",
       "    .dataframe thead th {\n",
       "        text-align: right;\n",
       "    }\n",
       "</style>\n",
       "<table border=\"1\" class=\"dataframe\">\n",
       "  <thead>\n",
       "    <tr style=\"text-align: right;\">\n",
       "      <th></th>\n",
       "      <th>ts_code</th>\n",
       "      <th>name</th>\n",
       "    </tr>\n",
       "  </thead>\n",
       "  <tbody>\n",
       "    <tr>\n",
       "      <th>0</th>\n",
       "      <td>885284.TI</td>\n",
       "      <td>稀缺资源</td>\n",
       "    </tr>\n",
       "    <tr>\n",
       "      <th>1</th>\n",
       "      <td>885343.TI</td>\n",
       "      <td>稀土永磁</td>\n",
       "    </tr>\n",
       "    <tr>\n",
       "      <th>2</th>\n",
       "      <td>885345.TI</td>\n",
       "      <td>新疆振兴</td>\n",
       "    </tr>\n",
       "    <tr>\n",
       "      <th>3</th>\n",
       "      <td>885372.TI</td>\n",
       "      <td>页岩气</td>\n",
       "    </tr>\n",
       "    <tr>\n",
       "      <th>4</th>\n",
       "      <td>885402.TI</td>\n",
       "      <td>智能医疗</td>\n",
       "    </tr>\n",
       "    <tr>\n",
       "      <th>...</th>\n",
       "      <td>...</td>\n",
       "      <td>...</td>\n",
       "    </tr>\n",
       "    <tr>\n",
       "      <th>161</th>\n",
       "      <td>885962.TI</td>\n",
       "      <td>土壤修复</td>\n",
       "    </tr>\n",
       "    <tr>\n",
       "      <th>162</th>\n",
       "      <td>885963.TI</td>\n",
       "      <td>智慧灯杆</td>\n",
       "    </tr>\n",
       "    <tr>\n",
       "      <th>163</th>\n",
       "      <td>885964.TI</td>\n",
       "      <td>俄乌冲突概念</td>\n",
       "    </tr>\n",
       "    <tr>\n",
       "      <th>164</th>\n",
       "      <td>885965.TI</td>\n",
       "      <td>中俄贸易概念</td>\n",
       "    </tr>\n",
       "    <tr>\n",
       "      <th>165</th>\n",
       "      <td>885966.TI</td>\n",
       "      <td>跨境支付（CIPS）</td>\n",
       "    </tr>\n",
       "  </tbody>\n",
       "</table>\n",
       "<p>166 rows × 2 columns</p>\n",
       "</div>"
      ],
      "text/plain": [
       "       ts_code        name\n",
       "0    885284.TI        稀缺资源\n",
       "1    885343.TI        稀土永磁\n",
       "2    885345.TI        新疆振兴\n",
       "3    885372.TI         页岩气\n",
       "4    885402.TI        智能医疗\n",
       "..         ...         ...\n",
       "161  885962.TI        土壤修复\n",
       "162  885963.TI        智慧灯杆\n",
       "163  885964.TI      俄乌冲突概念\n",
       "164  885965.TI      中俄贸易概念\n",
       "165  885966.TI  跨境支付（CIPS）\n",
       "\n",
       "[166 rows x 2 columns]"
      ]
     },
     "execution_count": 19,
     "metadata": {},
     "output_type": "execute_result"
    }
   ],
   "source": [
    "# substitute ts_code with name\n",
    "ts_codes = final_data.columns.values\n",
    "code_name = pd.DataFrame()\n",
    "for code in ts_codes:\n",
    "    name = A_index_listF[A_index_listF['ts_code'] == code][['ts_code', 'name']]\n",
    "    code_name = pd.concat([code_name,name], ignore_index=True)\n",
    "\n",
    "code_name"
   ]
  },
  {
   "cell_type": "code",
   "execution_count": 20,
   "metadata": {},
   "outputs": [
    {
     "data": {
      "text/html": [
       "<div>\n",
       "<style scoped>\n",
       "    .dataframe tbody tr th:only-of-type {\n",
       "        vertical-align: middle;\n",
       "    }\n",
       "\n",
       "    .dataframe tbody tr th {\n",
       "        vertical-align: top;\n",
       "    }\n",
       "\n",
       "    .dataframe thead th {\n",
       "        text-align: right;\n",
       "    }\n",
       "</style>\n",
       "<table border=\"1\" class=\"dataframe\">\n",
       "  <thead>\n",
       "    <tr style=\"text-align: right;\">\n",
       "      <th>ts_code</th>\n",
       "      <th>稀缺资源</th>\n",
       "      <th>稀土永磁</th>\n",
       "      <th>新疆振兴</th>\n",
       "      <th>页岩气</th>\n",
       "      <th>智能医疗</th>\n",
       "      <th>食品安全</th>\n",
       "      <th>海工装备</th>\n",
       "      <th>特钢概念</th>\n",
       "      <th>土地流转</th>\n",
       "      <th>乳业</th>\n",
       "      <th>...</th>\n",
       "      <th>东数西算（算力）</th>\n",
       "      <th>硅能源</th>\n",
       "      <th>PCB概念</th>\n",
       "      <th>民爆概念</th>\n",
       "      <th>净水概念</th>\n",
       "      <th>土壤修复</th>\n",
       "      <th>智慧灯杆</th>\n",
       "      <th>俄乌冲突概念</th>\n",
       "      <th>中俄贸易概念</th>\n",
       "      <th>跨境支付（CIPS）</th>\n",
       "    </tr>\n",
       "    <tr>\n",
       "      <th>trade_date</th>\n",
       "      <th></th>\n",
       "      <th></th>\n",
       "      <th></th>\n",
       "      <th></th>\n",
       "      <th></th>\n",
       "      <th></th>\n",
       "      <th></th>\n",
       "      <th></th>\n",
       "      <th></th>\n",
       "      <th></th>\n",
       "      <th></th>\n",
       "      <th></th>\n",
       "      <th></th>\n",
       "      <th></th>\n",
       "      <th></th>\n",
       "      <th></th>\n",
       "      <th></th>\n",
       "      <th></th>\n",
       "      <th></th>\n",
       "      <th></th>\n",
       "      <th></th>\n",
       "    </tr>\n",
       "  </thead>\n",
       "  <tbody>\n",
       "    <tr>\n",
       "      <th>20220302</th>\n",
       "      <td>1342.998</td>\n",
       "      <td>2164.238</td>\n",
       "      <td>801.836</td>\n",
       "      <td>1863.996</td>\n",
       "      <td>3327.533</td>\n",
       "      <td>3991.237</td>\n",
       "      <td>1982.937</td>\n",
       "      <td>3250.554</td>\n",
       "      <td>2265.503</td>\n",
       "      <td>2159.435</td>\n",
       "      <td>...</td>\n",
       "      <td>1144.955</td>\n",
       "      <td>1150.591</td>\n",
       "      <td>1001.688</td>\n",
       "      <td>1131.723</td>\n",
       "      <td>960.061</td>\n",
       "      <td>982.569</td>\n",
       "      <td>978.321</td>\n",
       "      <td>1032.521</td>\n",
       "      <td>1115.413</td>\n",
       "      <td>1041.817</td>\n",
       "    </tr>\n",
       "    <tr>\n",
       "      <th>20220303</th>\n",
       "      <td>1346.983</td>\n",
       "      <td>2140.266</td>\n",
       "      <td>816.706</td>\n",
       "      <td>1951.060</td>\n",
       "      <td>3333.858</td>\n",
       "      <td>3962.378</td>\n",
       "      <td>1989.268</td>\n",
       "      <td>3255.116</td>\n",
       "      <td>2291.872</td>\n",
       "      <td>2148.164</td>\n",
       "      <td>...</td>\n",
       "      <td>1121.624</td>\n",
       "      <td>1126.068</td>\n",
       "      <td>981.537</td>\n",
       "      <td>1115.955</td>\n",
       "      <td>960.916</td>\n",
       "      <td>987.075</td>\n",
       "      <td>970.113</td>\n",
       "      <td>1073.473</td>\n",
       "      <td>1224.810</td>\n",
       "      <td>1046.800</td>\n",
       "    </tr>\n",
       "    <tr>\n",
       "      <th>20220304</th>\n",
       "      <td>1320.323</td>\n",
       "      <td>2096.746</td>\n",
       "      <td>800.074</td>\n",
       "      <td>1864.445</td>\n",
       "      <td>3315.398</td>\n",
       "      <td>3933.456</td>\n",
       "      <td>1932.246</td>\n",
       "      <td>3206.310</td>\n",
       "      <td>2261.076</td>\n",
       "      <td>2143.605</td>\n",
       "      <td>...</td>\n",
       "      <td>1099.231</td>\n",
       "      <td>1104.698</td>\n",
       "      <td>973.333</td>\n",
       "      <td>1097.343</td>\n",
       "      <td>954.021</td>\n",
       "      <td>971.141</td>\n",
       "      <td>951.253</td>\n",
       "      <td>1029.366</td>\n",
       "      <td>1201.588</td>\n",
       "      <td>1020.100</td>\n",
       "    </tr>\n",
       "  </tbody>\n",
       "</table>\n",
       "<p>3 rows × 166 columns</p>\n",
       "</div>"
      ],
      "text/plain": [
       "ts_code         稀缺资源      稀土永磁     新疆振兴       页岩气      智能医疗      食品安全  \\\n",
       "trade_date                                                              \n",
       "20220302    1342.998  2164.238  801.836  1863.996  3327.533  3991.237   \n",
       "20220303    1346.983  2140.266  816.706  1951.060  3333.858  3962.378   \n",
       "20220304    1320.323  2096.746  800.074  1864.445  3315.398  3933.456   \n",
       "\n",
       "ts_code         海工装备      特钢概念      土地流转        乳业  ...  东数西算（算力）       硅能源  \\\n",
       "trade_date                                          ...                       \n",
       "20220302    1982.937  3250.554  2265.503  2159.435  ...  1144.955  1150.591   \n",
       "20220303    1989.268  3255.116  2291.872  2148.164  ...  1121.624  1126.068   \n",
       "20220304    1932.246  3206.310  2261.076  2143.605  ...  1099.231  1104.698   \n",
       "\n",
       "ts_code        PCB概念      民爆概念     净水概念     土壤修复     智慧灯杆    俄乌冲突概念    中俄贸易概念  \\\n",
       "trade_date                                                                      \n",
       "20220302    1001.688  1131.723  960.061  982.569  978.321  1032.521  1115.413   \n",
       "20220303     981.537  1115.955  960.916  987.075  970.113  1073.473  1224.810   \n",
       "20220304     973.333  1097.343  954.021  971.141  951.253  1029.366  1201.588   \n",
       "\n",
       "ts_code     跨境支付（CIPS）  \n",
       "trade_date              \n",
       "20220302      1041.817  \n",
       "20220303      1046.800  \n",
       "20220304      1020.100  \n",
       "\n",
       "[3 rows x 166 columns]"
      ]
     },
     "execution_count": 20,
     "metadata": {},
     "output_type": "execute_result"
    }
   ],
   "source": [
    "final_data = final_data.rename(columns=dict(code_name.values))\n",
    "final_data.iloc[-3:]"
   ]
  },
  {
   "cell_type": "code",
   "execution_count": 21,
   "metadata": {},
   "outputs": [
    {
     "data": {
      "text/plain": [
       "ts_code\n",
       "稀缺资源          -0.462060\n",
       "稀土永磁          -2.778498\n",
       "新疆振兴           1.088496\n",
       "页岩气            3.516213\n",
       "智能医疗           0.237760\n",
       "                ...    \n",
       "土壤修复          -0.253695\n",
       "智慧灯杆          -2.689296\n",
       "俄乌冲突概念         3.255556\n",
       "中俄贸易概念        16.005009\n",
       "跨境支付（CIPS）    -2.716796\n",
       "Name: 20220304, Length: 166, dtype: float64"
      ]
     },
     "execution_count": 21,
     "metadata": {},
     "output_type": "execute_result"
    }
   ],
   "source": [
    "((final_data/final_data.shift(3)-1)*100).fillna(0).iloc[-1]"
   ]
  },
  {
   "cell_type": "code",
   "execution_count": 22,
   "metadata": {},
   "outputs": [
    {
     "data": {
      "text/html": [
       "<div>\n",
       "<style scoped>\n",
       "    .dataframe tbody tr th:only-of-type {\n",
       "        vertical-align: middle;\n",
       "    }\n",
       "\n",
       "    .dataframe tbody tr th {\n",
       "        vertical-align: top;\n",
       "    }\n",
       "\n",
       "    .dataframe thead th {\n",
       "        text-align: right;\n",
       "    }\n",
       "</style>\n",
       "<table border=\"1\" class=\"dataframe\">\n",
       "  <thead>\n",
       "    <tr style=\"text-align: right;\">\n",
       "      <th></th>\n",
       "      <th>1日收益率%</th>\n",
       "      <th>3日收益率%</th>\n",
       "      <th>5日收益率%</th>\n",
       "    </tr>\n",
       "    <tr>\n",
       "      <th>ts_code</th>\n",
       "      <th></th>\n",
       "      <th></th>\n",
       "      <th></th>\n",
       "    </tr>\n",
       "  </thead>\n",
       "  <tbody>\n",
       "    <tr>\n",
       "      <th>中韩自贸区</th>\n",
       "      <td>-1.09</td>\n",
       "      <td>6.48</td>\n",
       "      <td>9.93</td>\n",
       "    </tr>\n",
       "    <tr>\n",
       "      <th>煤炭概念</th>\n",
       "      <td>0.08</td>\n",
       "      <td>4.96</td>\n",
       "      <td>8.78</td>\n",
       "    </tr>\n",
       "    <tr>\n",
       "      <th>航运概念</th>\n",
       "      <td>-1.94</td>\n",
       "      <td>4.03</td>\n",
       "      <td>6.59</td>\n",
       "    </tr>\n",
       "    <tr>\n",
       "      <th>辅助生殖</th>\n",
       "      <td>3.22</td>\n",
       "      <td>6.20</td>\n",
       "      <td>6.57</td>\n",
       "    </tr>\n",
       "    <tr>\n",
       "      <th>养鸡</th>\n",
       "      <td>0.86</td>\n",
       "      <td>0.04</td>\n",
       "      <td>6.27</td>\n",
       "    </tr>\n",
       "    <tr>\n",
       "      <th>...</th>\n",
       "      <td>...</td>\n",
       "      <td>...</td>\n",
       "      <td>...</td>\n",
       "    </tr>\n",
       "    <tr>\n",
       "      <th>胎压监测</th>\n",
       "      <td>-1.85</td>\n",
       "      <td>-3.85</td>\n",
       "      <td>-3.81</td>\n",
       "    </tr>\n",
       "    <tr>\n",
       "      <th>华为海思概念股</th>\n",
       "      <td>-1.60</td>\n",
       "      <td>-4.03</td>\n",
       "      <td>-3.82</td>\n",
       "    </tr>\n",
       "    <tr>\n",
       "      <th>传感器</th>\n",
       "      <td>-1.60</td>\n",
       "      <td>-3.70</td>\n",
       "      <td>-3.91</td>\n",
       "    </tr>\n",
       "    <tr>\n",
       "      <th>无线充电</th>\n",
       "      <td>-2.10</td>\n",
       "      <td>-4.92</td>\n",
       "      <td>-4.60</td>\n",
       "    </tr>\n",
       "    <tr>\n",
       "      <th>PCB概念</th>\n",
       "      <td>-0.84</td>\n",
       "      <td>-4.10</td>\n",
       "      <td>-4.74</td>\n",
       "    </tr>\n",
       "  </tbody>\n",
       "</table>\n",
       "<p>166 rows × 3 columns</p>\n",
       "</div>"
      ],
      "text/plain": [
       "         1日收益率%  3日收益率%  5日收益率%\n",
       "ts_code                        \n",
       "中韩自贸区     -1.09    6.48    9.93\n",
       "煤炭概念       0.08    4.96    8.78\n",
       "航运概念      -1.94    4.03    6.59\n",
       "辅助生殖       3.22    6.20    6.57\n",
       "养鸡         0.86    0.04    6.27\n",
       "...         ...     ...     ...\n",
       "胎压监测      -1.85   -3.85   -3.81\n",
       "华为海思概念股   -1.60   -4.03   -3.82\n",
       "传感器       -1.60   -3.70   -3.91\n",
       "无线充电      -2.10   -4.92   -4.60\n",
       "PCB概念     -0.84   -4.10   -4.74\n",
       "\n",
       "[166 rows x 3 columns]"
      ]
     },
     "execution_count": 22,
     "metadata": {},
     "output_type": "execute_result"
    }
   ],
   "source": [
    "def index_ret(data, w_list=[1,3,5]):\n",
    "    index = pd.DataFrame()\n",
    "    for w in w_list:\n",
    "        index[str(w)+'日收益率%'] = ((data/data.shift(w) - 1)*100).round(2).fillna(0).iloc[-1]\n",
    "    return index\n",
    "\n",
    "R = index_ret(final_data)\n",
    "R.sort_values('5日收益率%', ascending=False)"
   ]
  },
  {
   "cell_type": "code",
   "execution_count": 23,
   "metadata": {},
   "outputs": [
    {
     "data": {
      "application/vnd.plotly.v1+json": {
       "config": {
        "plotlyServerURL": "https://plot.ly"
       },
       "data": [
        {
         "alignmentgroup": "True",
         "hovertemplate": "同花顺概念=%{x}<br>3日收益率%=%{marker.color}<extra></extra>",
         "legendgroup": "",
         "marker": {
          "color": [
           -4.92,
           -4.31,
           -4.26,
           -4.19,
           -4.1,
           -4.03,
           -3.99,
           -3.85,
           -3.84,
           -3.72,
           -3.7,
           -3.51,
           -3.49,
           -3.46,
           -3.36,
           -3.2,
           -3.16,
           -3.13,
           -3.11,
           -3.1,
           -3.07,
           -3.05,
           -2.99,
           -2.9,
           -2.82,
           -2.82,
           -2.81,
           -2.8,
           -2.78,
           -2.72,
           -2.69,
           -2.68,
           -2.66,
           -2.43,
           -2.43,
           -2.38,
           -2.37,
           -2.34,
           -2.34,
           -2.26,
           -2.24,
           -2.22,
           -2.19,
           -2.18,
           -2.16,
           -2.15,
           -2.14,
           -2.12,
           -2.11,
           -2.08,
           -2.01,
           -2,
           -1.98,
           -1.98,
           -1.95,
           -1.93,
           -1.92,
           -1.86,
           -1.86,
           -1.84,
           -1.81,
           -1.75,
           -1.62,
           -1.61,
           -1.52,
           -1.48,
           -1.48,
           -1.36,
           -1.33,
           -1.32,
           -1.23,
           -1.22,
           -1.18,
           -1.15,
           -1.12,
           -1.11,
           -1.08,
           -1.08,
           -1.07,
           -1.03,
           -1.03,
           -0.97,
           -0.86,
           -0.77,
           -0.77,
           -0.69,
           -0.68,
           -0.67,
           -0.66,
           -0.59,
           -0.59,
           -0.58,
           -0.54,
           -0.48,
           -0.46,
           -0.45,
           -0.42,
           -0.36,
           -0.33,
           -0.32,
           -0.31,
           -0.29,
           -0.25,
           -0.25,
           -0.13,
           -0.11,
           -0.1,
           0,
           0.03,
           0.04,
           0.12,
           0.14,
           0.16,
           0.18,
           0.21,
           0.21,
           0.24,
           0.25,
           0.27,
           0.3,
           0.33,
           0.34,
           0.4,
           0.43,
           0.47,
           0.53,
           0.55,
           0.58,
           0.59,
           0.63,
           0.66,
           0.73,
           0.86,
           1.04,
           1.09,
           1.16,
           1.16,
           1.17,
           1.23,
           1.43,
           1.49,
           1.6,
           1.62,
           1.65,
           1.71,
           1.79,
           1.81,
           2.03,
           2.14,
           2.26,
           2.77,
           2.77,
           3.26,
           3.28,
           3.3,
           3.52,
           3.86,
           4.01,
           4.02,
           4.03,
           4.07,
           4.54,
           4.96,
           6.2,
           6.48,
           16.01
          ],
          "coloraxis": "coloraxis",
          "pattern": {
           "shape": ""
          }
         },
         "name": "",
         "offsetgroup": "",
         "orientation": "v",
         "showlegend": false,
         "textposition": "auto",
         "type": "bar",
         "x": [
          "无线充电",
          "钠离子电池",
          "华为汽车",
          "东数西算（算力）",
          "PCB概念",
          "华为海思概念股",
          "WiFi 6",
          "胎压监测",
          "氟化工概念",
          "鸿蒙概念",
          "传感器",
          "国产航母",
          "数字货币",
          "航空发动机",
          "富媒体",
          "通用航空",
          "盐湖提锂",
          "富士康概念",
          "民爆概念",
          "硅能源",
          "MiniLED",
          "有机硅概念",
          "动力电池回收",
          "量子科技",
          "互联网保险",
          "新型烟草",
          "国家大基金持股",
          "柔性直流输电",
          "稀土永磁",
          "跨境支付（CIPS）",
          "智慧灯杆",
          "中芯国际概念",
          "超级品牌",
          "汽车芯片",
          "环氧丙烷",
          "人脸识别",
          "智能音箱",
          "MCU芯片",
          "电力物联网",
          "碳纤维",
          "光刻胶",
          "ETC",
          "百度概念",
          "智慧政务",
          "国产操作系统",
          "钴",
          "拼多多概念",
          "超级电容",
          "工业母机",
          "3D打印",
          "EDR概念",
          "云办公",
          "白酒概念",
          "杭州亚运会",
          "磷化工",
          "光伏建筑一体化",
          "共享单车",
          "HJT电池",
          "海工装备",
          "换电概念",
          "蚂蚁金服概念",
          "抽水蓄能",
          "人造肉",
          "智能制造",
          "数字孪生",
          "钛白粉概念",
          "水利",
          "足球概念",
          "共同富裕示范区",
          "电子纸",
          "无人零售",
          "汽车拆解概念",
          "数据安全",
          "啤酒概念",
          "特钢概念",
          "深圳国资改革",
          "草地贪夜蛾防治",
          "社区团购",
          "猪肉",
          "农机",
          "食品安全",
          "横琴新区",
          "PM2.5",
          "烟草",
          "冰雪产业",
          "智能物流",
          "染料",
          "DRG/DIP",
          "海峡两岸",
          "供应链金融",
          "地下管网",
          "净水概念",
          "黄金概念",
          "室外经济",
          "稀缺资源",
          "石墨电极",
          "广东自贸区",
          "快手概念",
          "数字乡村",
          "预制菜",
          "CRO概念",
          "京津冀一体化",
          "土壤修复",
          "债转股",
          "医疗废物处理",
          "农村电商",
          "举牌",
          "证金持股",
          "乳业",
          "养鸡",
          "电子竞技",
          "水泥概念",
          "天津自贸区",
          "草甘膦",
          "新三板精选层概念",
          "特色小镇",
          "智能医疗",
          "互联网彩票",
          "物业管理",
          "北交所概念",
          "网约车",
          "消毒剂",
          "动物疫苗",
          "信托概念",
          "工业大麻",
          "生物疫苗",
          "知识产权保护",
          "云游戏",
          "金改",
          "C2M概念",
          "租售同权",
          "虚拟数字人",
          "免税店",
          "代糖概念",
          "新疆振兴",
          "眼科医疗",
          "生态农业",
          "海南自贸区",
          "牙科医疗",
          "福建自贸区",
          "黑龙江自贸区",
          "基因测序",
          "可燃冰",
          "土地流转",
          "NFT概念",
          "NMN概念",
          "自由贸易港",
          "新冠治疗",
          "上海自贸区",
          "细胞免疫治疗",
          "禽流感",
          "在线旅游",
          "俄乌冲突概念",
          "农业种植",
          "医美概念",
          "页岩气",
          "超级真菌",
          "转基因",
          "玉米",
          "航运概念",
          "幽门螺杆菌概念",
          "医药电商",
          "煤炭概念",
          "辅助生殖",
          "中韩自贸区",
          "中俄贸易概念"
         ],
         "xaxis": "x",
         "y": [
          -4.92,
          -4.31,
          -4.26,
          -4.19,
          -4.1,
          -4.03,
          -3.99,
          -3.85,
          -3.84,
          -3.72,
          -3.7,
          -3.51,
          -3.49,
          -3.46,
          -3.36,
          -3.2,
          -3.16,
          -3.13,
          -3.11,
          -3.1,
          -3.07,
          -3.05,
          -2.99,
          -2.9,
          -2.82,
          -2.82,
          -2.81,
          -2.8,
          -2.78,
          -2.72,
          -2.69,
          -2.68,
          -2.66,
          -2.43,
          -2.43,
          -2.38,
          -2.37,
          -2.34,
          -2.34,
          -2.26,
          -2.24,
          -2.22,
          -2.19,
          -2.18,
          -2.16,
          -2.15,
          -2.14,
          -2.12,
          -2.11,
          -2.08,
          -2.01,
          -2,
          -1.98,
          -1.98,
          -1.95,
          -1.93,
          -1.92,
          -1.86,
          -1.86,
          -1.84,
          -1.81,
          -1.75,
          -1.62,
          -1.61,
          -1.52,
          -1.48,
          -1.48,
          -1.36,
          -1.33,
          -1.32,
          -1.23,
          -1.22,
          -1.18,
          -1.15,
          -1.12,
          -1.11,
          -1.08,
          -1.08,
          -1.07,
          -1.03,
          -1.03,
          -0.97,
          -0.86,
          -0.77,
          -0.77,
          -0.69,
          -0.68,
          -0.67,
          -0.66,
          -0.59,
          -0.59,
          -0.58,
          -0.54,
          -0.48,
          -0.46,
          -0.45,
          -0.42,
          -0.36,
          -0.33,
          -0.32,
          -0.31,
          -0.29,
          -0.25,
          -0.25,
          -0.13,
          -0.11,
          -0.1,
          0,
          0.03,
          0.04,
          0.12,
          0.14,
          0.16,
          0.18,
          0.21,
          0.21,
          0.24,
          0.25,
          0.27,
          0.3,
          0.33,
          0.34,
          0.4,
          0.43,
          0.47,
          0.53,
          0.55,
          0.58,
          0.59,
          0.63,
          0.66,
          0.73,
          0.86,
          1.04,
          1.09,
          1.16,
          1.16,
          1.17,
          1.23,
          1.43,
          1.49,
          1.6,
          1.62,
          1.65,
          1.71,
          1.79,
          1.81,
          2.03,
          2.14,
          2.26,
          2.77,
          2.77,
          3.26,
          3.28,
          3.3,
          3.52,
          3.86,
          4.01,
          4.02,
          4.03,
          4.07,
          4.54,
          4.96,
          6.2,
          6.48,
          16.01
         ],
         "yaxis": "y"
        }
       ],
       "layout": {
        "barmode": "relative",
        "coloraxis": {
         "colorbar": {
          "title": {
           "text": "3日收益率%"
          }
         },
         "colorscale": [
          [
           0,
           "#0d0887"
          ],
          [
           0.1111111111111111,
           "#46039f"
          ],
          [
           0.2222222222222222,
           "#7201a8"
          ],
          [
           0.3333333333333333,
           "#9c179e"
          ],
          [
           0.4444444444444444,
           "#bd3786"
          ],
          [
           0.5555555555555556,
           "#d8576b"
          ],
          [
           0.6666666666666666,
           "#ed7953"
          ],
          [
           0.7777777777777778,
           "#fb9f3a"
          ],
          [
           0.8888888888888888,
           "#fdca26"
          ],
          [
           1,
           "#f0f921"
          ]
         ]
        },
        "legend": {
         "tracegroupgap": 0
        },
        "margin": {
         "t": 60
        },
        "template": {
         "data": {
          "bar": [
           {
            "error_x": {
             "color": "#2a3f5f"
            },
            "error_y": {
             "color": "#2a3f5f"
            },
            "marker": {
             "line": {
              "color": "#E5ECF6",
              "width": 0.5
             },
             "pattern": {
              "fillmode": "overlay",
              "size": 10,
              "solidity": 0.2
             }
            },
            "type": "bar"
           }
          ],
          "barpolar": [
           {
            "marker": {
             "line": {
              "color": "#E5ECF6",
              "width": 0.5
             },
             "pattern": {
              "fillmode": "overlay",
              "size": 10,
              "solidity": 0.2
             }
            },
            "type": "barpolar"
           }
          ],
          "carpet": [
           {
            "aaxis": {
             "endlinecolor": "#2a3f5f",
             "gridcolor": "white",
             "linecolor": "white",
             "minorgridcolor": "white",
             "startlinecolor": "#2a3f5f"
            },
            "baxis": {
             "endlinecolor": "#2a3f5f",
             "gridcolor": "white",
             "linecolor": "white",
             "minorgridcolor": "white",
             "startlinecolor": "#2a3f5f"
            },
            "type": "carpet"
           }
          ],
          "choropleth": [
           {
            "colorbar": {
             "outlinewidth": 0,
             "ticks": ""
            },
            "type": "choropleth"
           }
          ],
          "contour": [
           {
            "colorbar": {
             "outlinewidth": 0,
             "ticks": ""
            },
            "colorscale": [
             [
              0,
              "#0d0887"
             ],
             [
              0.1111111111111111,
              "#46039f"
             ],
             [
              0.2222222222222222,
              "#7201a8"
             ],
             [
              0.3333333333333333,
              "#9c179e"
             ],
             [
              0.4444444444444444,
              "#bd3786"
             ],
             [
              0.5555555555555556,
              "#d8576b"
             ],
             [
              0.6666666666666666,
              "#ed7953"
             ],
             [
              0.7777777777777778,
              "#fb9f3a"
             ],
             [
              0.8888888888888888,
              "#fdca26"
             ],
             [
              1,
              "#f0f921"
             ]
            ],
            "type": "contour"
           }
          ],
          "contourcarpet": [
           {
            "colorbar": {
             "outlinewidth": 0,
             "ticks": ""
            },
            "type": "contourcarpet"
           }
          ],
          "heatmap": [
           {
            "colorbar": {
             "outlinewidth": 0,
             "ticks": ""
            },
            "colorscale": [
             [
              0,
              "#0d0887"
             ],
             [
              0.1111111111111111,
              "#46039f"
             ],
             [
              0.2222222222222222,
              "#7201a8"
             ],
             [
              0.3333333333333333,
              "#9c179e"
             ],
             [
              0.4444444444444444,
              "#bd3786"
             ],
             [
              0.5555555555555556,
              "#d8576b"
             ],
             [
              0.6666666666666666,
              "#ed7953"
             ],
             [
              0.7777777777777778,
              "#fb9f3a"
             ],
             [
              0.8888888888888888,
              "#fdca26"
             ],
             [
              1,
              "#f0f921"
             ]
            ],
            "type": "heatmap"
           }
          ],
          "heatmapgl": [
           {
            "colorbar": {
             "outlinewidth": 0,
             "ticks": ""
            },
            "colorscale": [
             [
              0,
              "#0d0887"
             ],
             [
              0.1111111111111111,
              "#46039f"
             ],
             [
              0.2222222222222222,
              "#7201a8"
             ],
             [
              0.3333333333333333,
              "#9c179e"
             ],
             [
              0.4444444444444444,
              "#bd3786"
             ],
             [
              0.5555555555555556,
              "#d8576b"
             ],
             [
              0.6666666666666666,
              "#ed7953"
             ],
             [
              0.7777777777777778,
              "#fb9f3a"
             ],
             [
              0.8888888888888888,
              "#fdca26"
             ],
             [
              1,
              "#f0f921"
             ]
            ],
            "type": "heatmapgl"
           }
          ],
          "histogram": [
           {
            "marker": {
             "pattern": {
              "fillmode": "overlay",
              "size": 10,
              "solidity": 0.2
             }
            },
            "type": "histogram"
           }
          ],
          "histogram2d": [
           {
            "colorbar": {
             "outlinewidth": 0,
             "ticks": ""
            },
            "colorscale": [
             [
              0,
              "#0d0887"
             ],
             [
              0.1111111111111111,
              "#46039f"
             ],
             [
              0.2222222222222222,
              "#7201a8"
             ],
             [
              0.3333333333333333,
              "#9c179e"
             ],
             [
              0.4444444444444444,
              "#bd3786"
             ],
             [
              0.5555555555555556,
              "#d8576b"
             ],
             [
              0.6666666666666666,
              "#ed7953"
             ],
             [
              0.7777777777777778,
              "#fb9f3a"
             ],
             [
              0.8888888888888888,
              "#fdca26"
             ],
             [
              1,
              "#f0f921"
             ]
            ],
            "type": "histogram2d"
           }
          ],
          "histogram2dcontour": [
           {
            "colorbar": {
             "outlinewidth": 0,
             "ticks": ""
            },
            "colorscale": [
             [
              0,
              "#0d0887"
             ],
             [
              0.1111111111111111,
              "#46039f"
             ],
             [
              0.2222222222222222,
              "#7201a8"
             ],
             [
              0.3333333333333333,
              "#9c179e"
             ],
             [
              0.4444444444444444,
              "#bd3786"
             ],
             [
              0.5555555555555556,
              "#d8576b"
             ],
             [
              0.6666666666666666,
              "#ed7953"
             ],
             [
              0.7777777777777778,
              "#fb9f3a"
             ],
             [
              0.8888888888888888,
              "#fdca26"
             ],
             [
              1,
              "#f0f921"
             ]
            ],
            "type": "histogram2dcontour"
           }
          ],
          "mesh3d": [
           {
            "colorbar": {
             "outlinewidth": 0,
             "ticks": ""
            },
            "type": "mesh3d"
           }
          ],
          "parcoords": [
           {
            "line": {
             "colorbar": {
              "outlinewidth": 0,
              "ticks": ""
             }
            },
            "type": "parcoords"
           }
          ],
          "pie": [
           {
            "automargin": true,
            "type": "pie"
           }
          ],
          "scatter": [
           {
            "marker": {
             "colorbar": {
              "outlinewidth": 0,
              "ticks": ""
             }
            },
            "type": "scatter"
           }
          ],
          "scatter3d": [
           {
            "line": {
             "colorbar": {
              "outlinewidth": 0,
              "ticks": ""
             }
            },
            "marker": {
             "colorbar": {
              "outlinewidth": 0,
              "ticks": ""
             }
            },
            "type": "scatter3d"
           }
          ],
          "scattercarpet": [
           {
            "marker": {
             "colorbar": {
              "outlinewidth": 0,
              "ticks": ""
             }
            },
            "type": "scattercarpet"
           }
          ],
          "scattergeo": [
           {
            "marker": {
             "colorbar": {
              "outlinewidth": 0,
              "ticks": ""
             }
            },
            "type": "scattergeo"
           }
          ],
          "scattergl": [
           {
            "marker": {
             "colorbar": {
              "outlinewidth": 0,
              "ticks": ""
             }
            },
            "type": "scattergl"
           }
          ],
          "scattermapbox": [
           {
            "marker": {
             "colorbar": {
              "outlinewidth": 0,
              "ticks": ""
             }
            },
            "type": "scattermapbox"
           }
          ],
          "scatterpolar": [
           {
            "marker": {
             "colorbar": {
              "outlinewidth": 0,
              "ticks": ""
             }
            },
            "type": "scatterpolar"
           }
          ],
          "scatterpolargl": [
           {
            "marker": {
             "colorbar": {
              "outlinewidth": 0,
              "ticks": ""
             }
            },
            "type": "scatterpolargl"
           }
          ],
          "scatterternary": [
           {
            "marker": {
             "colorbar": {
              "outlinewidth": 0,
              "ticks": ""
             }
            },
            "type": "scatterternary"
           }
          ],
          "surface": [
           {
            "colorbar": {
             "outlinewidth": 0,
             "ticks": ""
            },
            "colorscale": [
             [
              0,
              "#0d0887"
             ],
             [
              0.1111111111111111,
              "#46039f"
             ],
             [
              0.2222222222222222,
              "#7201a8"
             ],
             [
              0.3333333333333333,
              "#9c179e"
             ],
             [
              0.4444444444444444,
              "#bd3786"
             ],
             [
              0.5555555555555556,
              "#d8576b"
             ],
             [
              0.6666666666666666,
              "#ed7953"
             ],
             [
              0.7777777777777778,
              "#fb9f3a"
             ],
             [
              0.8888888888888888,
              "#fdca26"
             ],
             [
              1,
              "#f0f921"
             ]
            ],
            "type": "surface"
           }
          ],
          "table": [
           {
            "cells": {
             "fill": {
              "color": "#EBF0F8"
             },
             "line": {
              "color": "white"
             }
            },
            "header": {
             "fill": {
              "color": "#C8D4E3"
             },
             "line": {
              "color": "white"
             }
            },
            "type": "table"
           }
          ]
         },
         "layout": {
          "annotationdefaults": {
           "arrowcolor": "#2a3f5f",
           "arrowhead": 0,
           "arrowwidth": 1
          },
          "autotypenumbers": "strict",
          "coloraxis": {
           "colorbar": {
            "outlinewidth": 0,
            "ticks": ""
           }
          },
          "colorscale": {
           "diverging": [
            [
             0,
             "#8e0152"
            ],
            [
             0.1,
             "#c51b7d"
            ],
            [
             0.2,
             "#de77ae"
            ],
            [
             0.3,
             "#f1b6da"
            ],
            [
             0.4,
             "#fde0ef"
            ],
            [
             0.5,
             "#f7f7f7"
            ],
            [
             0.6,
             "#e6f5d0"
            ],
            [
             0.7,
             "#b8e186"
            ],
            [
             0.8,
             "#7fbc41"
            ],
            [
             0.9,
             "#4d9221"
            ],
            [
             1,
             "#276419"
            ]
           ],
           "sequential": [
            [
             0,
             "#0d0887"
            ],
            [
             0.1111111111111111,
             "#46039f"
            ],
            [
             0.2222222222222222,
             "#7201a8"
            ],
            [
             0.3333333333333333,
             "#9c179e"
            ],
            [
             0.4444444444444444,
             "#bd3786"
            ],
            [
             0.5555555555555556,
             "#d8576b"
            ],
            [
             0.6666666666666666,
             "#ed7953"
            ],
            [
             0.7777777777777778,
             "#fb9f3a"
            ],
            [
             0.8888888888888888,
             "#fdca26"
            ],
            [
             1,
             "#f0f921"
            ]
           ],
           "sequentialminus": [
            [
             0,
             "#0d0887"
            ],
            [
             0.1111111111111111,
             "#46039f"
            ],
            [
             0.2222222222222222,
             "#7201a8"
            ],
            [
             0.3333333333333333,
             "#9c179e"
            ],
            [
             0.4444444444444444,
             "#bd3786"
            ],
            [
             0.5555555555555556,
             "#d8576b"
            ],
            [
             0.6666666666666666,
             "#ed7953"
            ],
            [
             0.7777777777777778,
             "#fb9f3a"
            ],
            [
             0.8888888888888888,
             "#fdca26"
            ],
            [
             1,
             "#f0f921"
            ]
           ]
          },
          "colorway": [
           "#636efa",
           "#EF553B",
           "#00cc96",
           "#ab63fa",
           "#FFA15A",
           "#19d3f3",
           "#FF6692",
           "#B6E880",
           "#FF97FF",
           "#FECB52"
          ],
          "font": {
           "color": "#2a3f5f"
          },
          "geo": {
           "bgcolor": "white",
           "lakecolor": "white",
           "landcolor": "#E5ECF6",
           "showlakes": true,
           "showland": true,
           "subunitcolor": "white"
          },
          "hoverlabel": {
           "align": "left"
          },
          "hovermode": "closest",
          "mapbox": {
           "style": "light"
          },
          "paper_bgcolor": "white",
          "plot_bgcolor": "#E5ECF6",
          "polar": {
           "angularaxis": {
            "gridcolor": "white",
            "linecolor": "white",
            "ticks": ""
           },
           "bgcolor": "#E5ECF6",
           "radialaxis": {
            "gridcolor": "white",
            "linecolor": "white",
            "ticks": ""
           }
          },
          "scene": {
           "xaxis": {
            "backgroundcolor": "#E5ECF6",
            "gridcolor": "white",
            "gridwidth": 2,
            "linecolor": "white",
            "showbackground": true,
            "ticks": "",
            "zerolinecolor": "white"
           },
           "yaxis": {
            "backgroundcolor": "#E5ECF6",
            "gridcolor": "white",
            "gridwidth": 2,
            "linecolor": "white",
            "showbackground": true,
            "ticks": "",
            "zerolinecolor": "white"
           },
           "zaxis": {
            "backgroundcolor": "#E5ECF6",
            "gridcolor": "white",
            "gridwidth": 2,
            "linecolor": "white",
            "showbackground": true,
            "ticks": "",
            "zerolinecolor": "white"
           }
          },
          "shapedefaults": {
           "line": {
            "color": "#2a3f5f"
           }
          },
          "ternary": {
           "aaxis": {
            "gridcolor": "white",
            "linecolor": "white",
            "ticks": ""
           },
           "baxis": {
            "gridcolor": "white",
            "linecolor": "white",
            "ticks": ""
           },
           "bgcolor": "#E5ECF6",
           "caxis": {
            "gridcolor": "white",
            "linecolor": "white",
            "ticks": ""
           }
          },
          "title": {
           "x": 0.05
          },
          "xaxis": {
           "automargin": true,
           "gridcolor": "white",
           "linecolor": "white",
           "ticks": "",
           "title": {
            "standoff": 15
           },
           "zerolinecolor": "white",
           "zerolinewidth": 2
          },
          "yaxis": {
           "automargin": true,
           "gridcolor": "white",
           "linecolor": "white",
           "ticks": "",
           "title": {
            "standoff": 15
           },
           "zerolinecolor": "white",
           "zerolinewidth": 2
          }
         }
        },
        "xaxis": {
         "anchor": "y",
         "domain": [
          0,
          1
         ],
         "tickangle": 45,
         "title": {
          "text": "同花顺概念"
         }
        },
        "yaxis": {
         "anchor": "x",
         "domain": [
          0,
          1
         ],
         "title": {
          "text": "3日收益率%"
         }
        }
       }
      }
     },
     "metadata": {},
     "output_type": "display_data"
    }
   ],
   "source": [
    "fig = px.bar(R.sort_values('3日收益率%'), x=R.sort_values('3日收益率%').index.values, y=R.sort_values('3日收益率%')['3日收益率%'], labels=dict(x='同花顺概念', y='3日收益率%', color='3日收益率%'), color='3日收益率%')\n",
    "fig.update_layout(xaxis_tickangle=45)"
   ]
  },
  {
   "cell_type": "code",
   "execution_count": 24,
   "metadata": {},
   "outputs": [
    {
     "data": {
      "text/html": [
       "<div>\n",
       "<style scoped>\n",
       "    .dataframe tbody tr th:only-of-type {\n",
       "        vertical-align: middle;\n",
       "    }\n",
       "\n",
       "    .dataframe tbody tr th {\n",
       "        vertical-align: top;\n",
       "    }\n",
       "\n",
       "    .dataframe thead th {\n",
       "        text-align: right;\n",
       "    }\n",
       "</style>\n",
       "<table border=\"1\" class=\"dataframe\">\n",
       "  <thead>\n",
       "    <tr style=\"text-align: right;\">\n",
       "      <th>ts_code</th>\n",
       "      <th>稀缺资源</th>\n",
       "      <th>稀土永磁</th>\n",
       "      <th>新疆振兴</th>\n",
       "      <th>页岩气</th>\n",
       "      <th>智能医疗</th>\n",
       "      <th>食品安全</th>\n",
       "      <th>海工装备</th>\n",
       "      <th>特钢概念</th>\n",
       "      <th>土地流转</th>\n",
       "      <th>乳业</th>\n",
       "      <th>...</th>\n",
       "      <th>东数西算（算力）</th>\n",
       "      <th>硅能源</th>\n",
       "      <th>PCB概念</th>\n",
       "      <th>民爆概念</th>\n",
       "      <th>净水概念</th>\n",
       "      <th>土壤修复</th>\n",
       "      <th>智慧灯杆</th>\n",
       "      <th>俄乌冲突概念</th>\n",
       "      <th>中俄贸易概念</th>\n",
       "      <th>跨境支付（CIPS）</th>\n",
       "    </tr>\n",
       "    <tr>\n",
       "      <th>trade_date</th>\n",
       "      <th></th>\n",
       "      <th></th>\n",
       "      <th></th>\n",
       "      <th></th>\n",
       "      <th></th>\n",
       "      <th></th>\n",
       "      <th></th>\n",
       "      <th></th>\n",
       "      <th></th>\n",
       "      <th></th>\n",
       "      <th></th>\n",
       "      <th></th>\n",
       "      <th></th>\n",
       "      <th></th>\n",
       "      <th></th>\n",
       "      <th></th>\n",
       "      <th></th>\n",
       "      <th></th>\n",
       "      <th></th>\n",
       "      <th></th>\n",
       "      <th></th>\n",
       "    </tr>\n",
       "  </thead>\n",
       "  <tbody>\n",
       "    <tr>\n",
       "      <th>20220228</th>\n",
       "      <td>1.83</td>\n",
       "      <td>0.44</td>\n",
       "      <td>1.11</td>\n",
       "      <td>1.60</td>\n",
       "      <td>-0.25</td>\n",
       "      <td>1.75</td>\n",
       "      <td>0.83</td>\n",
       "      <td>0.26</td>\n",
       "      <td>0.41</td>\n",
       "      <td>0.21</td>\n",
       "      <td>...</td>\n",
       "      <td>-0.20</td>\n",
       "      <td>1.18</td>\n",
       "      <td>-0.88</td>\n",
       "      <td>0.80</td>\n",
       "      <td>-1.12</td>\n",
       "      <td>-0.18</td>\n",
       "      <td>-1.15</td>\n",
       "      <td>1.08</td>\n",
       "      <td>NaN</td>\n",
       "      <td>NaN</td>\n",
       "    </tr>\n",
       "    <tr>\n",
       "      <th>20220301</th>\n",
       "      <td>-0.48</td>\n",
       "      <td>-0.26</td>\n",
       "      <td>0.75</td>\n",
       "      <td>-0.09</td>\n",
       "      <td>0.53</td>\n",
       "      <td>0.52</td>\n",
       "      <td>1.59</td>\n",
       "      <td>0.37</td>\n",
       "      <td>1.24</td>\n",
       "      <td>1.65</td>\n",
       "      <td>...</td>\n",
       "      <td>2.76</td>\n",
       "      <td>2.10</td>\n",
       "      <td>0.21</td>\n",
       "      <td>-0.18</td>\n",
       "      <td>1.09</td>\n",
       "      <td>0.39</td>\n",
       "      <td>0.23</td>\n",
       "      <td>-0.99</td>\n",
       "      <td>-0.64</td>\n",
       "      <td>2.09</td>\n",
       "    </tr>\n",
       "    <tr>\n",
       "      <th>20220302</th>\n",
       "      <td>1.25</td>\n",
       "      <td>0.35</td>\n",
       "      <td>1.31</td>\n",
       "      <td>3.49</td>\n",
       "      <td>0.60</td>\n",
       "      <td>0.43</td>\n",
       "      <td>0.72</td>\n",
       "      <td>0.24</td>\n",
       "      <td>1.84</td>\n",
       "      <td>0.77</td>\n",
       "      <td>...</td>\n",
       "      <td>-0.21</td>\n",
       "      <td>0.93</td>\n",
       "      <td>-1.31</td>\n",
       "      <td>-0.08</td>\n",
       "      <td>0.05</td>\n",
       "      <td>0.92</td>\n",
       "      <td>0.08</td>\n",
       "      <td>3.57</td>\n",
       "      <td>7.69</td>\n",
       "      <td>-0.65</td>\n",
       "    </tr>\n",
       "    <tr>\n",
       "      <th>20220303</th>\n",
       "      <td>0.30</td>\n",
       "      <td>-1.11</td>\n",
       "      <td>1.85</td>\n",
       "      <td>4.67</td>\n",
       "      <td>0.19</td>\n",
       "      <td>-0.72</td>\n",
       "      <td>0.32</td>\n",
       "      <td>0.14</td>\n",
       "      <td>1.16</td>\n",
       "      <td>-0.52</td>\n",
       "      <td>...</td>\n",
       "      <td>-2.04</td>\n",
       "      <td>-2.13</td>\n",
       "      <td>-2.01</td>\n",
       "      <td>-1.39</td>\n",
       "      <td>0.09</td>\n",
       "      <td>0.46</td>\n",
       "      <td>-0.84</td>\n",
       "      <td>3.97</td>\n",
       "      <td>9.81</td>\n",
       "      <td>0.48</td>\n",
       "    </tr>\n",
       "    <tr>\n",
       "      <th>20220304</th>\n",
       "      <td>-1.98</td>\n",
       "      <td>-2.03</td>\n",
       "      <td>-2.04</td>\n",
       "      <td>-4.44</td>\n",
       "      <td>-0.55</td>\n",
       "      <td>-0.73</td>\n",
       "      <td>-2.87</td>\n",
       "      <td>-1.50</td>\n",
       "      <td>-1.34</td>\n",
       "      <td>-0.21</td>\n",
       "      <td>...</td>\n",
       "      <td>-2.00</td>\n",
       "      <td>-1.90</td>\n",
       "      <td>-0.84</td>\n",
       "      <td>-1.67</td>\n",
       "      <td>-0.72</td>\n",
       "      <td>-1.61</td>\n",
       "      <td>-1.94</td>\n",
       "      <td>-4.11</td>\n",
       "      <td>-1.90</td>\n",
       "      <td>-2.55</td>\n",
       "    </tr>\n",
       "  </tbody>\n",
       "</table>\n",
       "<p>5 rows × 166 columns</p>\n",
       "</div>"
      ],
      "text/plain": [
       "ts_code     稀缺资源  稀土永磁  新疆振兴   页岩气  智能医疗  食品安全  海工装备  特钢概念  土地流转    乳业  ...  \\\n",
       "trade_date                                                              ...   \n",
       "20220228    1.83  0.44  1.11  1.60 -0.25  1.75  0.83  0.26  0.41  0.21  ...   \n",
       "20220301   -0.48 -0.26  0.75 -0.09  0.53  0.52  1.59  0.37  1.24  1.65  ...   \n",
       "20220302    1.25  0.35  1.31  3.49  0.60  0.43  0.72  0.24  1.84  0.77  ...   \n",
       "20220303    0.30 -1.11  1.85  4.67  0.19 -0.72  0.32  0.14  1.16 -0.52  ...   \n",
       "20220304   -1.98 -2.03 -2.04 -4.44 -0.55 -0.73 -2.87 -1.50 -1.34 -0.21  ...   \n",
       "\n",
       "ts_code     东数西算（算力）   硅能源  PCB概念  民爆概念  净水概念  土壤修复  智慧灯杆  俄乌冲突概念  中俄贸易概念  \\\n",
       "trade_date                                                                  \n",
       "20220228       -0.20  1.18  -0.88  0.80 -1.12 -0.18 -1.15    1.08     NaN   \n",
       "20220301        2.76  2.10   0.21 -0.18  1.09  0.39  0.23   -0.99   -0.64   \n",
       "20220302       -0.21  0.93  -1.31 -0.08  0.05  0.92  0.08    3.57    7.69   \n",
       "20220303       -2.04 -2.13  -2.01 -1.39  0.09  0.46 -0.84    3.97    9.81   \n",
       "20220304       -2.00 -1.90  -0.84 -1.67 -0.72 -1.61 -1.94   -4.11   -1.90   \n",
       "\n",
       "ts_code     跨境支付（CIPS）  \n",
       "trade_date              \n",
       "20220228           NaN  \n",
       "20220301          2.09  \n",
       "20220302         -0.65  \n",
       "20220303          0.48  \n",
       "20220304         -2.55  \n",
       "\n",
       "[5 rows x 166 columns]"
      ]
     },
     "execution_count": 24,
     "metadata": {},
     "output_type": "execute_result"
    }
   ],
   "source": [
    "# plot daily heatmap for THS concepts\n",
    "one_day_ret = ((final_data/final_data.shift(1) - 1) * 100).round(2)[-5:] # monitor latest 5 days\n",
    "one_day_ret"
   ]
  },
  {
   "cell_type": "code",
   "execution_count": 25,
   "metadata": {},
   "outputs": [
    {
     "data": {
      "text/plain": [
       "array(['2022-02-28', '2022-03-01', '2022-03-02', '2022-03-03',\n",
       "       '2022-03-04'], dtype='datetime64[D]')"
      ]
     },
     "execution_count": 25,
     "metadata": {},
     "output_type": "execute_result"
    }
   ],
   "source": [
    "date_list = one_day_ret.index.tolist()\n",
    "date_str = [datetime.strptime(str(date), \"%Y%m%d\") for date in date_list]\n",
    "dates = np.array(date_str, dtype = 'datetime64[D]')\n",
    "dates"
   ]
  },
  {
   "cell_type": "code",
   "execution_count": 26,
   "metadata": {},
   "outputs": [
    {
     "data": {
      "text/plain": [
       "array(['稀缺资源', '稀土永磁', '新疆振兴', '页岩气', '智能医疗', '食品安全', '海工装备', '特钢概念',\n",
       "       '土地流转', '乳业', '上海自贸区', '天津自贸区', '在线旅游', '通用航空', '生态农业', '禽流感',\n",
       "       '京津冀一体化', '白酒概念', '黄金概念', '3D打印', '氟化工概念', 'PM2.5', '金改', '水利',\n",
       "       '猪肉', '基因测序', '足球概念', '举牌', '中韩自贸区', '福建自贸区', '农村电商', '染料', '草甘膦',\n",
       "       '互联网彩票', '碳纤维', '钛白粉概念', '供应链金融', '医药电商', '证金持股', '地下管网', '深圳国资改革',\n",
       "       '杭州亚运会', '农机', '量子科技', '航运概念', '广东自贸区', '电子竞技', '债转股', '共享单车',\n",
       "       '可燃冰', '蚂蚁金服概念', '特色小镇', '网约车', '租售同权', '人脸识别', '超级品牌', '自由贸易港',\n",
       "       '互联网保险', '无人零售', '细胞免疫治疗', '智能物流', '智能音箱', '无线充电', '啤酒概念', '石墨电极',\n",
       "       '水泥概念', '富士康概念', '知识产权保护', '国产航母', '百度概念', '养鸡', '玉米', '农业种植',\n",
       "       '信托概念', '工业大麻', '电力物联网', '数字孪生', '冰雪产业', '横琴新区', '超级真菌', '华为汽车',\n",
       "       '眼科医疗', '人造肉', '草地贪夜蛾防治', '数字乡村', '华为海思概念股', '国产操作系统', '生物疫苗',\n",
       "       '动物疫苗', '黑龙江自贸区', '烟草', 'ETC', '磷化工', '光刻胶', '钴', '数字货币', '胎压监测',\n",
       "       '云游戏', 'MiniLED', '转基因', 'HJT电池', '云办公', '消毒剂', '医疗废物处理', '航空发动机',\n",
       "       '超级电容', 'C2M概念', '富媒体', '新三板精选层概念', '国家大基金持股', '海南自贸区', '室外经济',\n",
       "       '中芯国际概念', '免税店', '新型烟草', 'NMN概念', '汽车拆解概念', '环氧丙烷', '代糖概念', '辅助生殖',\n",
       "       '拼多多概念', '社区团购', '有机硅概念', '医美概念', '煤炭概念', '物业管理', '快手概念',\n",
       "       '光伏建筑一体化', '盐湖提锂', '鸿蒙概念', '共同富裕示范区', 'MCU芯片', '牙科医疗', 'CRO概念',\n",
       "       '钠离子电池', '工业母机', '北交所概念', 'NFT概念', '抽水蓄能', '换电概念', '海峡两岸',\n",
       "       'WiFi 6', '智能制造', '数据安全', 'EDR概念', '动力电池回收', '汽车芯片', '传感器',\n",
       "       'DRG/DIP', '柔性直流输电', '虚拟数字人', '预制菜', '幽门螺杆菌概念', '电子纸', '新冠治疗',\n",
       "       '智慧政务', '东数西算（算力）', '硅能源', 'PCB概念', '民爆概念', '净水概念', '土壤修复', '智慧灯杆',\n",
       "       '俄乌冲突概念', '中俄贸易概念', '跨境支付（CIPS）'], dtype=object)"
      ]
     },
     "execution_count": 26,
     "metadata": {},
     "output_type": "execute_result"
    }
   ],
   "source": [
    "one_day_ret.columns.values"
   ]
  },
  {
   "cell_type": "code",
   "execution_count": 27,
   "metadata": {},
   "outputs": [
    {
     "data": {
      "application/vnd.plotly.v1+json": {
       "config": {
        "plotlyServerURL": "https://plot.ly"
       },
       "data": [
        {
         "coloraxis": "coloraxis",
         "hovertemplate": "同花顺概念: %{x}<br>日期: %{y}<br>涨幅: %{z}<extra></extra>",
         "name": "0",
         "type": "heatmap",
         "x": [
          "稀缺资源",
          "稀土永磁",
          "新疆振兴",
          "页岩气",
          "智能医疗",
          "食品安全",
          "海工装备",
          "特钢概念",
          "土地流转",
          "乳业",
          "上海自贸区",
          "天津自贸区",
          "在线旅游",
          "通用航空",
          "生态农业",
          "禽流感",
          "京津冀一体化",
          "白酒概念",
          "黄金概念",
          "3D打印",
          "氟化工概念",
          "PM2.5",
          "金改",
          "水利",
          "猪肉",
          "基因测序",
          "足球概念",
          "举牌",
          "中韩自贸区",
          "福建自贸区",
          "农村电商",
          "染料",
          "草甘膦",
          "互联网彩票",
          "碳纤维",
          "钛白粉概念",
          "供应链金融",
          "医药电商",
          "证金持股",
          "地下管网",
          "深圳国资改革",
          "杭州亚运会",
          "农机",
          "量子科技",
          "航运概念",
          "广东自贸区",
          "电子竞技",
          "债转股",
          "共享单车",
          "可燃冰",
          "蚂蚁金服概念",
          "特色小镇",
          "网约车",
          "租售同权",
          "人脸识别",
          "超级品牌",
          "自由贸易港",
          "互联网保险",
          "无人零售",
          "细胞免疫治疗",
          "智能物流",
          "智能音箱",
          "无线充电",
          "啤酒概念",
          "石墨电极",
          "水泥概念",
          "富士康概念",
          "知识产权保护",
          "国产航母",
          "百度概念",
          "养鸡",
          "玉米",
          "农业种植",
          "信托概念",
          "工业大麻",
          "电力物联网",
          "数字孪生",
          "冰雪产业",
          "横琴新区",
          "超级真菌",
          "华为汽车",
          "眼科医疗",
          "人造肉",
          "草地贪夜蛾防治",
          "数字乡村",
          "华为海思概念股",
          "国产操作系统",
          "生物疫苗",
          "动物疫苗",
          "黑龙江自贸区",
          "烟草",
          "ETC",
          "磷化工",
          "光刻胶",
          "钴",
          "数字货币",
          "胎压监测",
          "云游戏",
          "MiniLED",
          "转基因",
          "HJT电池",
          "云办公",
          "消毒剂",
          "医疗废物处理",
          "航空发动机",
          "超级电容",
          "C2M概念",
          "富媒体",
          "新三板精选层概念",
          "国家大基金持股",
          "海南自贸区",
          "室外经济",
          "中芯国际概念",
          "免税店",
          "新型烟草",
          "NMN概念",
          "汽车拆解概念",
          "环氧丙烷",
          "代糖概念",
          "辅助生殖",
          "拼多多概念",
          "社区团购",
          "有机硅概念",
          "医美概念",
          "煤炭概念",
          "物业管理",
          "快手概念",
          "光伏建筑一体化",
          "盐湖提锂",
          "鸿蒙概念",
          "共同富裕示范区",
          "MCU芯片",
          "牙科医疗",
          "CRO概念",
          "钠离子电池",
          "工业母机",
          "北交所概念",
          "NFT概念",
          "抽水蓄能",
          "换电概念",
          "海峡两岸",
          "WiFi 6",
          "智能制造",
          "数据安全",
          "EDR概念",
          "动力电池回收",
          "汽车芯片",
          "传感器",
          "DRG/DIP",
          "柔性直流输电",
          "虚拟数字人",
          "预制菜",
          "幽门螺杆菌概念",
          "电子纸",
          "新冠治疗",
          "智慧政务",
          "东数西算（算力）",
          "硅能源",
          "PCB概念",
          "民爆概念",
          "净水概念",
          "土壤修复",
          "智慧灯杆",
          "俄乌冲突概念",
          "中俄贸易概念",
          "跨境支付（CIPS）"
         ],
         "xaxis": "x",
         "y": [
          "2022-02-28",
          "2022-03-01",
          "2022-03-02",
          "2022-03-03",
          "2022-03-04"
         ],
         "yaxis": "y",
         "z": [
          [
           1.83,
           0.44,
           1.11,
           1.6,
           -0.25,
           1.75,
           0.83,
           0.26,
           0.41,
           0.21,
           -0.05,
           0.21,
           -0.33,
           0.67,
           -0.52,
           0.89,
           0.12,
           0.34,
           0.36,
           -0.27,
           0.96,
           0.68,
           -0.6,
           -0.72,
           0.49,
           0.64,
           -0.64,
           0.66,
           2.07,
           -0.26,
           -0.13,
           -0.31,
           0.02,
           -0.28,
           1.13,
           2.22,
           0.45,
           -0.31,
           0.09,
           -0.27,
           -0.2,
           -1.38,
           -1.2,
           -0.39,
           2.06,
           0.62,
           -0.7,
           0.01,
           0.2,
           2.2,
           -0.11,
           -0.35,
           0.09,
           -0.45,
           -0.1,
           -0.23,
           0.53,
           0.82,
           -0.07,
           -0.05,
           -0.23,
           0.42,
           -0.19,
           -0.76,
           1.16,
           0.31,
           -0.23,
           -0.03,
           0.68,
           0,
           0.86,
           0.7,
           0.85,
           0.37,
           0.19,
           0,
           -0.6,
           -0.33,
           -0.13,
           0.35,
           0.39,
           0.16,
           0.02,
           0.1,
           -1.11,
           -0.03,
           0.1,
           -0.2,
           1.27,
           0.44,
           0.42,
           1.04,
           1.38,
           -0.02,
           1.34,
           3.59,
           -0.31,
           -0.5,
           -0.48,
           -0.13,
           2.31,
           -0.6,
           0.31,
           0.28,
           -0.33,
           -0.25,
           -0.41,
           -0.16,
           0.09,
           0.08,
           -0.02,
           0.71,
           1.14,
           -0.03,
           0.84,
           0.18,
           0.46,
           0.26,
           0.38,
           0.45,
           0.07,
           -0.3,
           1.62,
           -0.26,
           1.78,
           -1.16,
           0.49,
           -0.31,
           1.45,
           1.18,
           -0.79,
           0.16,
           0.64,
           0.54,
           1.04,
           -1.59,
           -0.51,
           2.19,
           0.41,
           0.44,
           0.18,
           0.62,
           -0.23,
           2.51,
           -0.32,
           1.15,
           0.6,
           -0.46,
           -0.73,
           -0.65,
           -0.16,
           0.23,
           0.98,
           -0.49,
           0.86,
           0.13,
           -0.2,
           1.18,
           -0.88,
           0.8,
           -1.12,
           -0.18,
           -1.15,
           1.08,
           null,
           null
          ],
          [
           -0.48,
           -0.26,
           0.75,
           -0.09,
           0.53,
           0.52,
           1.59,
           0.37,
           1.24,
           1.65,
           0.34,
           0.7,
           2.81,
           1.77,
           1.21,
           0.67,
           1.01,
           1.95,
           -0.04,
           0.44,
           0,
           0.87,
           0.6,
           1.3,
           4.69,
           -0.26,
           0.95,
           1.22,
           1.14,
           1.07,
           0.96,
           0.68,
           -1.04,
           1.31,
           0.87,
           0.54,
           0.7,
           -0.2,
           0.84,
           0.62,
           0.63,
           1.03,
           1.14,
           1.21,
           0.39,
           2.02,
           1.24,
           0.59,
           0.8,
           0.66,
           1.08,
           1.13,
           1.41,
           1.64,
           0.79,
           1.41,
           0.86,
           0.57,
           2.18,
           0.27,
           0.25,
           0.64,
           0.52,
           5.68,
           0.62,
           0.77,
           0.57,
           1.65,
           1.6,
           0.77,
           5.32,
           0.93,
           0.77,
           0.78,
           0.42,
           0.82,
           0.96,
           0.97,
           0.63,
           0.46,
           0.63,
           -0.13,
           0.93,
           -0.08,
           1.52,
           0.25,
           0.81,
           0.25,
           1.07,
           0.55,
           -0.25,
           0.8,
           -0.12,
           0.09,
           -0.57,
           1.38,
           0.35,
           1.21,
           0.41,
           0.75,
           1.49,
           1.17,
           0.26,
           1.3,
           1.38,
           -0.15,
           0.92,
           1.81,
           1.5,
           -0.08,
           1.39,
           0.73,
           -0.62,
           1.46,
           0.11,
           0.44,
           -1,
           0.3,
           0.72,
           -0.1,
           0.63,
           0.94,
           1.67,
           -0.04,
           1.83,
           1.52,
           0.86,
           1.64,
           -1.6,
           0.92,
           0.69,
           0.46,
           -0.27,
           1.54,
           0.42,
           0.66,
           2.47,
           1.98,
           1.24,
           0.45,
           1.15,
           1.31,
           0.59,
           0.95,
           0.61,
           -0.42,
           0.6,
           0.24,
           1.08,
           1.03,
           1.11,
           2.28,
           0.14,
           0.19,
           1.16,
           2.06,
           2.76,
           2.1,
           0.21,
           -0.18,
           1.09,
           0.39,
           0.23,
           -0.99,
           -0.64,
           2.09
          ],
          [
           1.25,
           0.35,
           1.31,
           3.49,
           0.6,
           0.43,
           0.72,
           0.24,
           1.84,
           0.77,
           1.16,
           0.73,
           0.27,
           -0.35,
           1.27,
           1.49,
           0.97,
           0.04,
           1.07,
           0.28,
           -0.63,
           0.85,
           0.96,
           0.75,
           -0.26,
           0.74,
           -0.03,
           0.45,
           2.69,
           1.62,
           0.86,
           0.79,
           0.65,
           0.41,
           0.39,
           0.08,
           0.73,
           1.48,
           0.17,
           1.54,
           0.57,
           0.46,
           0.28,
           0.06,
           2.19,
           0.07,
           0.07,
           0.62,
           0.04,
           3.11,
           0.09,
           0.63,
           1.97,
           1.01,
           0.7,
           -0.6,
           1.26,
           -0.13,
           0.35,
           0.81,
           0.47,
           -0.76,
           -0.85,
           0.12,
           1.2,
           0.43,
           -0.29,
           0.97,
           -0.21,
           0.2,
           0.28,
           2.98,
           2.5,
           0.81,
           1.19,
           0.12,
           0.65,
           -0.23,
           0.46,
           1.03,
           -0.38,
           0.98,
           0.06,
           0.33,
           1.33,
           -0.42,
           0.53,
           0.37,
           0.49,
           1.11,
           0.77,
           -0.07,
           0.33,
           -0.23,
           -0.15,
           -0.16,
           -0.42,
           0.25,
           -0.53,
           3.77,
           0.53,
           0.58,
           0.98,
           0.26,
           -0.26,
           0.27,
           1.22,
           0.12,
           0.63,
           -1.42,
           1.58,
           0.86,
           -0.74,
           0.69,
           -0.52,
           0.84,
           0.03,
           -0.1,
           0.81,
           1.04,
           -0.42,
           0.13,
           1.15,
           1.16,
           1.93,
           0.44,
           0.49,
           0.97,
           0.42,
           0.27,
           0.73,
           -0.97,
           0.92,
           -0.48,
           0.13,
           -0.15,
           1.05,
           0.47,
           0.14,
           0.49,
           0.8,
           -0.25,
           0.11,
           0.58,
           1.63,
           -0.3,
           -0.95,
           -0.55,
           0.12,
           0.24,
           0.25,
           0.33,
           2.56,
           0.43,
           0.78,
           0.47,
           -0.21,
           0.93,
           -1.31,
           -0.08,
           0.05,
           0.92,
           0.08,
           3.57,
           7.69,
           -0.65
          ],
          [
           0.3,
           -1.11,
           1.85,
           4.67,
           0.19,
           -0.72,
           0.32,
           0.14,
           1.16,
           -0.52,
           1.61,
           1.16,
           2.27,
           -0.38,
           0.83,
           0.66,
           0.46,
           -1.32,
           0.49,
           -0.59,
           -0.87,
           -0.43,
           0.58,
           0.18,
           -1.15,
           0.16,
           0.06,
           0.42,
           4.83,
           1.84,
           -0.08,
           -0.14,
           -0.47,
           -0.02,
           -0.16,
           0.07,
           0.47,
           0.73,
           0.64,
           0.59,
           0.44,
           0.27,
           -0.38,
           -1.3,
           3.82,
           0.64,
           -0.53,
           0.74,
           -1.54,
           3.21,
           -0.31,
           0.76,
           0.04,
           1.18,
           -1.57,
           -1.06,
           2.8,
           -0.52,
           -1.28,
           0.23,
           -0.12,
           -1.51,
           -2.04,
           -0.95,
           -0.13,
           1.43,
           -1.48,
           -0.81,
           -1.31,
           -1.65,
           -1.09,
           1.78,
           1.16,
           1.12,
           0.42,
           -1.19,
           -1.31,
           1.27,
           -0.5,
           1.58,
           -1.95,
           0.36,
           -0.03,
           -0.39,
           -0.49,
           -2.06,
           -1.32,
           -0.05,
           -0.63,
           2.14,
           -0.39,
           -0.05,
           -0.1,
           -1.2,
           -0.24,
           -1.09,
           -1.63,
           -1.31,
           -1.49,
           0.86,
           -2.2,
           -1.74,
           0.6,
           0.47,
           -1.69,
           -0.74,
           0.37,
           -1.89,
           0.25,
           -1.98,
           0.61,
           1.02,
           -1.73,
           1.66,
           -1.29,
           0.49,
           -0.15,
           -0.25,
           0.37,
           1.83,
           -2.12,
           -0.29,
           -1.41,
           0.86,
           2.89,
           1.07,
           -0.64,
           -1.11,
           -1.05,
           -2.2,
           0.77,
           -1.9,
           -0.51,
           0.15,
           -2.01,
           -0.78,
           0.53,
           -1.21,
           0.5,
           -1.11,
           0.68,
           -1.96,
           -0.93,
           -1.37,
           -1.85,
           -1.21,
           -1.92,
           -1.6,
           -0.76,
           -1.42,
           -1.33,
           -0.06,
           0.93,
           -0.52,
           2.44,
           -1.11,
           -2.04,
           -2.13,
           -2.01,
           -1.39,
           0.09,
           0.46,
           -0.84,
           3.97,
           9.81,
           0.48
          ],
          [
           -1.98,
           -2.03,
           -2.04,
           -4.44,
           -0.55,
           -0.73,
           -2.87,
           -1.5,
           -1.34,
           -0.21,
           -0.63,
           -1.7,
           0.22,
           -2.49,
           -0.94,
           0.6,
           -1.71,
           -0.71,
           -2.07,
           -1.77,
           -2.38,
           -1.28,
           -0.93,
           -2.39,
           0.35,
           0.69,
           -1.39,
           -0.96,
           -1.09,
           -1.99,
           -0.87,
           -1.32,
           0,
           -0.13,
           -2.48,
           -1.62,
           -1.78,
           2.27,
           -0.81,
           -2.67,
           -2.1,
           -2.69,
           -0.93,
           -1.68,
           -1.94,
           -1.13,
           0.57,
           -1.59,
           -0.43,
           -4.51,
           -1.59,
           -1.17,
           -1.64,
           -1.51,
           -1.51,
           -1.03,
           -2.19,
           -2.18,
           -0.31,
           1.2,
           -1.04,
           -0.11,
           -2.1,
           -0.32,
           -1.5,
           -1.7,
           -1.39,
           0.4,
           -2.02,
           -0.75,
           0.86,
           -0.75,
           -0.39,
           -1.47,
           -1.13,
           -1.29,
           -0.86,
           -1.79,
           -0.94,
           1.21,
           -1.97,
           -0.18,
           -1.64,
           -1.02,
           -1.15,
           -1.6,
           -1.38,
           0.21,
           0.54,
           -1.73,
           -1.13,
           -2.1,
           -2.17,
           -0.82,
           -1.77,
           -2.28,
           -1.85,
           1.66,
           -1.08,
           -0.62,
           -0.18,
           -0.84,
           -1.22,
           -0.86,
           -1.55,
           -1.66,
           -0.95,
           -1.62,
           -0.67,
           0.59,
           -1.01,
           -2.31,
           -0.23,
           -1.46,
           -1.04,
           0.45,
           -1.09,
           -2.08,
           -0.14,
           3.22,
           0.4,
           -0.93,
           -2.78,
           1.24,
           0.08,
           -1.22,
           -0.2,
           -1.79,
           -2.54,
           -1.82,
           -2.79,
           0.53,
           0.83,
           0.02,
           -2.48,
           -1.19,
           -1.26,
           2.48,
           -2.37,
           -1.22,
           -2.12,
           -1.83,
           -0.8,
           -0.39,
           -1.77,
           -1.5,
           0.44,
           -1.6,
           -0.03,
           -1.64,
           1.83,
           -0.59,
           0.54,
           -1.23,
           -1.18,
           -1.53,
           -2,
           -1.9,
           -0.84,
           -1.67,
           -0.72,
           -1.61,
           -1.94,
           -4.11,
           -1.9,
           -2.55
          ]
         ]
        }
       ],
       "layout": {
        "coloraxis": {
         "colorbar": {
          "title": {
           "text": "涨幅"
          }
         },
         "colorscale": [
          [
           0,
           "#000004"
          ],
          [
           0.1111111111111111,
           "#1b0c41"
          ],
          [
           0.2222222222222222,
           "#4a0c6b"
          ],
          [
           0.3333333333333333,
           "#781c6d"
          ],
          [
           0.4444444444444444,
           "#a52c60"
          ],
          [
           0.5555555555555556,
           "#cf4446"
          ],
          [
           0.6666666666666666,
           "#ed6925"
          ],
          [
           0.7777777777777778,
           "#fb9b06"
          ],
          [
           0.8888888888888888,
           "#f7d13d"
          ],
          [
           1,
           "#fcffa4"
          ]
         ]
        },
        "margin": {
         "t": 60
        },
        "template": {
         "data": {
          "bar": [
           {
            "error_x": {
             "color": "#2a3f5f"
            },
            "error_y": {
             "color": "#2a3f5f"
            },
            "marker": {
             "line": {
              "color": "#E5ECF6",
              "width": 0.5
             },
             "pattern": {
              "fillmode": "overlay",
              "size": 10,
              "solidity": 0.2
             }
            },
            "type": "bar"
           }
          ],
          "barpolar": [
           {
            "marker": {
             "line": {
              "color": "#E5ECF6",
              "width": 0.5
             },
             "pattern": {
              "fillmode": "overlay",
              "size": 10,
              "solidity": 0.2
             }
            },
            "type": "barpolar"
           }
          ],
          "carpet": [
           {
            "aaxis": {
             "endlinecolor": "#2a3f5f",
             "gridcolor": "white",
             "linecolor": "white",
             "minorgridcolor": "white",
             "startlinecolor": "#2a3f5f"
            },
            "baxis": {
             "endlinecolor": "#2a3f5f",
             "gridcolor": "white",
             "linecolor": "white",
             "minorgridcolor": "white",
             "startlinecolor": "#2a3f5f"
            },
            "type": "carpet"
           }
          ],
          "choropleth": [
           {
            "colorbar": {
             "outlinewidth": 0,
             "ticks": ""
            },
            "type": "choropleth"
           }
          ],
          "contour": [
           {
            "colorbar": {
             "outlinewidth": 0,
             "ticks": ""
            },
            "colorscale": [
             [
              0,
              "#0d0887"
             ],
             [
              0.1111111111111111,
              "#46039f"
             ],
             [
              0.2222222222222222,
              "#7201a8"
             ],
             [
              0.3333333333333333,
              "#9c179e"
             ],
             [
              0.4444444444444444,
              "#bd3786"
             ],
             [
              0.5555555555555556,
              "#d8576b"
             ],
             [
              0.6666666666666666,
              "#ed7953"
             ],
             [
              0.7777777777777778,
              "#fb9f3a"
             ],
             [
              0.8888888888888888,
              "#fdca26"
             ],
             [
              1,
              "#f0f921"
             ]
            ],
            "type": "contour"
           }
          ],
          "contourcarpet": [
           {
            "colorbar": {
             "outlinewidth": 0,
             "ticks": ""
            },
            "type": "contourcarpet"
           }
          ],
          "heatmap": [
           {
            "colorbar": {
             "outlinewidth": 0,
             "ticks": ""
            },
            "colorscale": [
             [
              0,
              "#0d0887"
             ],
             [
              0.1111111111111111,
              "#46039f"
             ],
             [
              0.2222222222222222,
              "#7201a8"
             ],
             [
              0.3333333333333333,
              "#9c179e"
             ],
             [
              0.4444444444444444,
              "#bd3786"
             ],
             [
              0.5555555555555556,
              "#d8576b"
             ],
             [
              0.6666666666666666,
              "#ed7953"
             ],
             [
              0.7777777777777778,
              "#fb9f3a"
             ],
             [
              0.8888888888888888,
              "#fdca26"
             ],
             [
              1,
              "#f0f921"
             ]
            ],
            "type": "heatmap"
           }
          ],
          "heatmapgl": [
           {
            "colorbar": {
             "outlinewidth": 0,
             "ticks": ""
            },
            "colorscale": [
             [
              0,
              "#0d0887"
             ],
             [
              0.1111111111111111,
              "#46039f"
             ],
             [
              0.2222222222222222,
              "#7201a8"
             ],
             [
              0.3333333333333333,
              "#9c179e"
             ],
             [
              0.4444444444444444,
              "#bd3786"
             ],
             [
              0.5555555555555556,
              "#d8576b"
             ],
             [
              0.6666666666666666,
              "#ed7953"
             ],
             [
              0.7777777777777778,
              "#fb9f3a"
             ],
             [
              0.8888888888888888,
              "#fdca26"
             ],
             [
              1,
              "#f0f921"
             ]
            ],
            "type": "heatmapgl"
           }
          ],
          "histogram": [
           {
            "marker": {
             "pattern": {
              "fillmode": "overlay",
              "size": 10,
              "solidity": 0.2
             }
            },
            "type": "histogram"
           }
          ],
          "histogram2d": [
           {
            "colorbar": {
             "outlinewidth": 0,
             "ticks": ""
            },
            "colorscale": [
             [
              0,
              "#0d0887"
             ],
             [
              0.1111111111111111,
              "#46039f"
             ],
             [
              0.2222222222222222,
              "#7201a8"
             ],
             [
              0.3333333333333333,
              "#9c179e"
             ],
             [
              0.4444444444444444,
              "#bd3786"
             ],
             [
              0.5555555555555556,
              "#d8576b"
             ],
             [
              0.6666666666666666,
              "#ed7953"
             ],
             [
              0.7777777777777778,
              "#fb9f3a"
             ],
             [
              0.8888888888888888,
              "#fdca26"
             ],
             [
              1,
              "#f0f921"
             ]
            ],
            "type": "histogram2d"
           }
          ],
          "histogram2dcontour": [
           {
            "colorbar": {
             "outlinewidth": 0,
             "ticks": ""
            },
            "colorscale": [
             [
              0,
              "#0d0887"
             ],
             [
              0.1111111111111111,
              "#46039f"
             ],
             [
              0.2222222222222222,
              "#7201a8"
             ],
             [
              0.3333333333333333,
              "#9c179e"
             ],
             [
              0.4444444444444444,
              "#bd3786"
             ],
             [
              0.5555555555555556,
              "#d8576b"
             ],
             [
              0.6666666666666666,
              "#ed7953"
             ],
             [
              0.7777777777777778,
              "#fb9f3a"
             ],
             [
              0.8888888888888888,
              "#fdca26"
             ],
             [
              1,
              "#f0f921"
             ]
            ],
            "type": "histogram2dcontour"
           }
          ],
          "mesh3d": [
           {
            "colorbar": {
             "outlinewidth": 0,
             "ticks": ""
            },
            "type": "mesh3d"
           }
          ],
          "parcoords": [
           {
            "line": {
             "colorbar": {
              "outlinewidth": 0,
              "ticks": ""
             }
            },
            "type": "parcoords"
           }
          ],
          "pie": [
           {
            "automargin": true,
            "type": "pie"
           }
          ],
          "scatter": [
           {
            "marker": {
             "colorbar": {
              "outlinewidth": 0,
              "ticks": ""
             }
            },
            "type": "scatter"
           }
          ],
          "scatter3d": [
           {
            "line": {
             "colorbar": {
              "outlinewidth": 0,
              "ticks": ""
             }
            },
            "marker": {
             "colorbar": {
              "outlinewidth": 0,
              "ticks": ""
             }
            },
            "type": "scatter3d"
           }
          ],
          "scattercarpet": [
           {
            "marker": {
             "colorbar": {
              "outlinewidth": 0,
              "ticks": ""
             }
            },
            "type": "scattercarpet"
           }
          ],
          "scattergeo": [
           {
            "marker": {
             "colorbar": {
              "outlinewidth": 0,
              "ticks": ""
             }
            },
            "type": "scattergeo"
           }
          ],
          "scattergl": [
           {
            "marker": {
             "colorbar": {
              "outlinewidth": 0,
              "ticks": ""
             }
            },
            "type": "scattergl"
           }
          ],
          "scattermapbox": [
           {
            "marker": {
             "colorbar": {
              "outlinewidth": 0,
              "ticks": ""
             }
            },
            "type": "scattermapbox"
           }
          ],
          "scatterpolar": [
           {
            "marker": {
             "colorbar": {
              "outlinewidth": 0,
              "ticks": ""
             }
            },
            "type": "scatterpolar"
           }
          ],
          "scatterpolargl": [
           {
            "marker": {
             "colorbar": {
              "outlinewidth": 0,
              "ticks": ""
             }
            },
            "type": "scatterpolargl"
           }
          ],
          "scatterternary": [
           {
            "marker": {
             "colorbar": {
              "outlinewidth": 0,
              "ticks": ""
             }
            },
            "type": "scatterternary"
           }
          ],
          "surface": [
           {
            "colorbar": {
             "outlinewidth": 0,
             "ticks": ""
            },
            "colorscale": [
             [
              0,
              "#0d0887"
             ],
             [
              0.1111111111111111,
              "#46039f"
             ],
             [
              0.2222222222222222,
              "#7201a8"
             ],
             [
              0.3333333333333333,
              "#9c179e"
             ],
             [
              0.4444444444444444,
              "#bd3786"
             ],
             [
              0.5555555555555556,
              "#d8576b"
             ],
             [
              0.6666666666666666,
              "#ed7953"
             ],
             [
              0.7777777777777778,
              "#fb9f3a"
             ],
             [
              0.8888888888888888,
              "#fdca26"
             ],
             [
              1,
              "#f0f921"
             ]
            ],
            "type": "surface"
           }
          ],
          "table": [
           {
            "cells": {
             "fill": {
              "color": "#EBF0F8"
             },
             "line": {
              "color": "white"
             }
            },
            "header": {
             "fill": {
              "color": "#C8D4E3"
             },
             "line": {
              "color": "white"
             }
            },
            "type": "table"
           }
          ]
         },
         "layout": {
          "annotationdefaults": {
           "arrowcolor": "#2a3f5f",
           "arrowhead": 0,
           "arrowwidth": 1
          },
          "autotypenumbers": "strict",
          "coloraxis": {
           "colorbar": {
            "outlinewidth": 0,
            "ticks": ""
           }
          },
          "colorscale": {
           "diverging": [
            [
             0,
             "#8e0152"
            ],
            [
             0.1,
             "#c51b7d"
            ],
            [
             0.2,
             "#de77ae"
            ],
            [
             0.3,
             "#f1b6da"
            ],
            [
             0.4,
             "#fde0ef"
            ],
            [
             0.5,
             "#f7f7f7"
            ],
            [
             0.6,
             "#e6f5d0"
            ],
            [
             0.7,
             "#b8e186"
            ],
            [
             0.8,
             "#7fbc41"
            ],
            [
             0.9,
             "#4d9221"
            ],
            [
             1,
             "#276419"
            ]
           ],
           "sequential": [
            [
             0,
             "#0d0887"
            ],
            [
             0.1111111111111111,
             "#46039f"
            ],
            [
             0.2222222222222222,
             "#7201a8"
            ],
            [
             0.3333333333333333,
             "#9c179e"
            ],
            [
             0.4444444444444444,
             "#bd3786"
            ],
            [
             0.5555555555555556,
             "#d8576b"
            ],
            [
             0.6666666666666666,
             "#ed7953"
            ],
            [
             0.7777777777777778,
             "#fb9f3a"
            ],
            [
             0.8888888888888888,
             "#fdca26"
            ],
            [
             1,
             "#f0f921"
            ]
           ],
           "sequentialminus": [
            [
             0,
             "#0d0887"
            ],
            [
             0.1111111111111111,
             "#46039f"
            ],
            [
             0.2222222222222222,
             "#7201a8"
            ],
            [
             0.3333333333333333,
             "#9c179e"
            ],
            [
             0.4444444444444444,
             "#bd3786"
            ],
            [
             0.5555555555555556,
             "#d8576b"
            ],
            [
             0.6666666666666666,
             "#ed7953"
            ],
            [
             0.7777777777777778,
             "#fb9f3a"
            ],
            [
             0.8888888888888888,
             "#fdca26"
            ],
            [
             1,
             "#f0f921"
            ]
           ]
          },
          "colorway": [
           "#636efa",
           "#EF553B",
           "#00cc96",
           "#ab63fa",
           "#FFA15A",
           "#19d3f3",
           "#FF6692",
           "#B6E880",
           "#FF97FF",
           "#FECB52"
          ],
          "font": {
           "color": "#2a3f5f"
          },
          "geo": {
           "bgcolor": "white",
           "lakecolor": "white",
           "landcolor": "#E5ECF6",
           "showlakes": true,
           "showland": true,
           "subunitcolor": "white"
          },
          "hoverlabel": {
           "align": "left"
          },
          "hovermode": "closest",
          "mapbox": {
           "style": "light"
          },
          "paper_bgcolor": "white",
          "plot_bgcolor": "#E5ECF6",
          "polar": {
           "angularaxis": {
            "gridcolor": "white",
            "linecolor": "white",
            "ticks": ""
           },
           "bgcolor": "#E5ECF6",
           "radialaxis": {
            "gridcolor": "white",
            "linecolor": "white",
            "ticks": ""
           }
          },
          "scene": {
           "xaxis": {
            "backgroundcolor": "#E5ECF6",
            "gridcolor": "white",
            "gridwidth": 2,
            "linecolor": "white",
            "showbackground": true,
            "ticks": "",
            "zerolinecolor": "white"
           },
           "yaxis": {
            "backgroundcolor": "#E5ECF6",
            "gridcolor": "white",
            "gridwidth": 2,
            "linecolor": "white",
            "showbackground": true,
            "ticks": "",
            "zerolinecolor": "white"
           },
           "zaxis": {
            "backgroundcolor": "#E5ECF6",
            "gridcolor": "white",
            "gridwidth": 2,
            "linecolor": "white",
            "showbackground": true,
            "ticks": "",
            "zerolinecolor": "white"
           }
          },
          "shapedefaults": {
           "line": {
            "color": "#2a3f5f"
           }
          },
          "ternary": {
           "aaxis": {
            "gridcolor": "white",
            "linecolor": "white",
            "ticks": ""
           },
           "baxis": {
            "gridcolor": "white",
            "linecolor": "white",
            "ticks": ""
           },
           "bgcolor": "#E5ECF6",
           "caxis": {
            "gridcolor": "white",
            "linecolor": "white",
            "ticks": ""
           }
          },
          "title": {
           "x": 0.05
          },
          "xaxis": {
           "automargin": true,
           "gridcolor": "white",
           "linecolor": "white",
           "ticks": "",
           "title": {
            "standoff": 15
           },
           "zerolinecolor": "white",
           "zerolinewidth": 2
          },
          "yaxis": {
           "automargin": true,
           "gridcolor": "white",
           "linecolor": "white",
           "ticks": "",
           "title": {
            "standoff": 15
           },
           "zerolinecolor": "white",
           "zerolinewidth": 2
          }
         }
        },
        "xaxis": {
         "anchor": "y",
         "domain": [
          0,
          1
         ],
         "tickangle": 60,
         "title": {
          "text": "同花顺概念"
         }
        },
        "yaxis": {
         "anchor": "x",
         "autorange": "reversed",
         "domain": [
          0,
          1
         ],
         "nticks": 5,
         "title": {
          "text": "日期"
         }
        }
       }
      }
     },
     "metadata": {},
     "output_type": "display_data"
    }
   ],
   "source": [
    "fig = px.imshow(one_day_ret,labels=dict(x='同花顺概念', y='日期', color='涨幅'),\n",
    "                x=one_day_ret.columns.values, y=dates, aspect='auto',\n",
    "                color_continuous_scale='Inferno')\n",
    "fig.update_layout(xaxis_tickangle=60, yaxis_nticks=5)\n",
    "fig"
   ]
  },
  {
   "cell_type": "code",
   "execution_count": 28,
   "metadata": {},
   "outputs": [
    {
     "ename": "Exception",
     "evalue": "抱歉，您没有访问该接口的权限，权限的具体详情访问：https://tushare.pro/document/1?doc_id=108。",
     "output_type": "error",
     "traceback": [
      "\u001b[0;31m---------------------------------------------------------------------------\u001b[0m",
      "\u001b[0;31mException\u001b[0m                                 Traceback (most recent call last)",
      "\u001b[1;32m/Users/qyq/Library/Mobile Documents/com~apple~CloudDocs/Development/量化交易/quantitative/lesson2/同花顺行业概念EDA.ipynb Cell 30'\u001b[0m in \u001b[0;36m<module>\u001b[0;34m\u001b[0m\n\u001b[0;32m----> <a href='vscode-notebook-cell:/Users/qyq/Library/Mobile%20Documents/com~apple~CloudDocs/Development/%E9%87%8F%E5%8C%96%E4%BA%A4%E6%98%93/quantitative/lesson2/%E5%90%8C%E8%8A%B1%E9%A1%BA%E8%A1%8C%E4%B8%9A%E6%A6%82%E5%BF%B5EDA.ipynb#ch0000029?line=0'>1</a>\u001b[0m pro\u001b[39m.\u001b[39;49mths_member(\u001b[39m'\u001b[39;49m\u001b[39m885343.TI\u001b[39;49m\u001b[39m'\u001b[39;49m)\n",
      "File \u001b[0;32m~/Library/Python/3.8/lib/python/site-packages/tushare/pro/client.py:44\u001b[0m, in \u001b[0;36mDataApi.query\u001b[0;34m(self, api_name, fields, **kwargs)\u001b[0m\n\u001b[1;32m     <a href='file:///~/Library/Python/3.8/lib/python/site-packages/tushare/pro/client.py?line=41'>42</a>\u001b[0m result \u001b[39m=\u001b[39m json\u001b[39m.\u001b[39mloads(res\u001b[39m.\u001b[39mtext)\n\u001b[1;32m     <a href='file:///~/Library/Python/3.8/lib/python/site-packages/tushare/pro/client.py?line=42'>43</a>\u001b[0m \u001b[39mif\u001b[39;00m result[\u001b[39m'\u001b[39m\u001b[39mcode\u001b[39m\u001b[39m'\u001b[39m] \u001b[39m!=\u001b[39m \u001b[39m0\u001b[39m:\n\u001b[0;32m---> <a href='file:///~/Library/Python/3.8/lib/python/site-packages/tushare/pro/client.py?line=43'>44</a>\u001b[0m     \u001b[39mraise\u001b[39;00m \u001b[39mException\u001b[39;00m(result[\u001b[39m'\u001b[39m\u001b[39mmsg\u001b[39m\u001b[39m'\u001b[39m])\n\u001b[1;32m     <a href='file:///~/Library/Python/3.8/lib/python/site-packages/tushare/pro/client.py?line=44'>45</a>\u001b[0m data \u001b[39m=\u001b[39m result[\u001b[39m'\u001b[39m\u001b[39mdata\u001b[39m\u001b[39m'\u001b[39m]\n\u001b[1;32m     <a href='file:///~/Library/Python/3.8/lib/python/site-packages/tushare/pro/client.py?line=45'>46</a>\u001b[0m columns \u001b[39m=\u001b[39m data[\u001b[39m'\u001b[39m\u001b[39mfields\u001b[39m\u001b[39m'\u001b[39m]\n",
      "\u001b[0;31mException\u001b[0m: 抱歉，您没有访问该接口的权限，权限的具体详情访问：https://tushare.pro/document/1?doc_id=108。"
     ]
    }
   ],
   "source": [
    "pro.ths_member('885343.TI')"
   ]
  },
  {
   "cell_type": "code",
   "execution_count": null,
   "metadata": {},
   "outputs": [],
   "source": []
  }
 ],
 "metadata": {
  "interpreter": {
   "hash": "7a792fcb311f9eb9f3c1b942a8c87ada8484712b89b670347c16a1088e0a1f69"
  },
  "kernelspec": {
   "display_name": "Python 3.8.12 64-bit",
   "language": "python",
   "name": "python3"
  },
  "language_info": {
   "codemirror_mode": {
    "name": "ipython",
    "version": 3
   },
   "file_extension": ".py",
   "mimetype": "text/x-python",
   "name": "python",
   "nbconvert_exporter": "python",
   "pygments_lexer": "ipython3",
   "version": "3.8.12"
  },
  "orig_nbformat": 4
 },
 "nbformat": 4,
 "nbformat_minor": 2
}
